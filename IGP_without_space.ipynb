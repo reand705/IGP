{
 "metadata": {
  "kernelspec": {
   "display_name": "Python 2",
   "language": "python",
   "name": "python2"
  },
  "language_info": {
   "codemirror_mode": {
    "name": "ipython",
    "version": 2
   },
   "file_extension": ".py",
   "mimetype": "text/x-python",
   "name": "python",
   "nbconvert_exporter": "python",
   "pygments_lexer": "ipython2",
   "version": "2.7.12"
  },
  "name": "",
  "signature": "sha256:68d23b5019605373da1bfad88bd550fcb80993e90479f9e60b7a1d1d7e941b17"
 },
 "nbformat": 3,
 "nbformat_minor": 0,
 "worksheets": [
  {
   "cells": [
    {
     "cell_type": "code",
     "collapsed": false,
     "input": [
      "# -*- coding: utf-8 -*-\n",
      "# <nbformat>3.0</nbformat>\n",
      "\n",
      "# <codecell>\n",
      "\n",
      "# coding: utf-8\n",
      "%matplotlib inline\n",
      "import matplotlib\n",
      "import scipy.integrate\n",
      "from scipy.stats import norm\n",
      "import numpy as np\n",
      "import matplotlib.pyplot as plt\n",
      "from matplotlib import rc ## desnecess\u00e1rio\n",
      "matplotlib.rcParams['text.usetex'] = True\n",
      "matplotlib.rcParams.update({'font.size': 18})\n",
      "\n",
      "#Integra\u00e7\u00e3o - IGP sem espa\u00e7o"
     ],
     "language": "python",
     "metadata": {},
     "outputs": [],
     "prompt_number": 1
    },
    {
     "cell_type": "code",
     "collapsed": false,
     "input": [
      "#Discret tempo\n",
      "Tmax = 400\n",
      "N = 4000"
     ],
     "language": "python",
     "metadata": {},
     "outputs": [],
     "prompt_number": 2
    },
    {
     "cell_type": "code",
     "collapsed": false,
     "input": [
      "#lado direito das edos\n",
      "def ddt(y, t):\n",
      "        \n",
      "    R = y[0]\n",
      "    C1 = y[1]\n",
      "    C2 = y[2]\n",
      "    \n",
      "    dRdt = mu - R*(1 + C1 + C2)\n",
      "    dC1dt = C1*(R - m1 - alpha*C2)\n",
      "    dC2dt = C2*(m2*gamma*R/m1 - m2 + beta*alpha*C1)\n",
      "        \n",
      "    return np.r_[dRdt,dC1dt,dC2dt]"
     ],
     "language": "python",
     "metadata": {},
     "outputs": [],
     "prompt_number": 24
    },
    {
     "cell_type": "code",
     "collapsed": false,
     "input": [
      "#avalia a Jacobiana num ponto dado\n",
      "def J(R,C1,C2):\n",
      "    return np.array([[-1-C1-C2, -R, -R],[C1, R-m1-alpha*C2, -alpha*C1],[gamma*m2*C2/m1, beta*alpha*C2, gamma*m2*R/m1+beta*alpha*C1-m2]])"
     ],
     "language": "python",
     "metadata": {},
     "outputs": [],
     "prompt_number": 4
    },
    {
     "cell_type": "code",
     "collapsed": false,
     "input": [
      "#Pontos fixos\n",
      "def fixed_points():\n",
      "    \n",
      "    Rbar = (alpha*beta*m1 - beta*m1**2 + m1*m2 + \n",
      "    np.sqrt((-alpha*beta*m1 + beta*m1**2 - m1*m2)**2 - \n",
      "     4*alpha*beta*m1*(-beta*m1 + gamma*m2)*mu))/(2*(-beta*m1 + gamma*m2))\n",
      "    \n",
      "    C1bar = (m1*m2 - (alpha*beta*gamma*m1*m2)/(2*(-beta*m1 + gamma*m2)) + \n",
      "    (beta*gamma*m2*m1**2)/(2*(-beta*m1 + gamma*m2)) - (gamma*m1*m2**2)/(2*(-beta*m1 + gamma*m2)) - \n",
      "    (gamma*m2*np.sqrt((-alpha*beta*m1 + beta*m1**2 - m1*m2)**2 - \n",
      "    4*alpha*beta*m1*(-beta*m1 + gamma*m2)*mu))/(2*(-beta*m1 + gamma*m2)))/(alpha*beta*m1)\n",
      "    \n",
      "    C2bar = (-m1 + (alpha*beta*m1)/(2*(-beta*m1 + gamma*m2)) - (beta*m1**2)/(2*(-beta*m1 + gamma*m2)) + \n",
      "    (m1*m2)/(2*(-beta*m1 + gamma*m2)) + \n",
      "    np.sqrt((-alpha*beta*m1 + beta*m1**2 - m1*m2)**2 - \n",
      "     4*alpha*beta*m1*(-beta*m1 + gamma*m2)*mu)/(2*(-beta*m1 + gamma*m2)))/alpha\n",
      "    \n",
      "    return np.array([Rbar,C1bar,C2bar])"
     ],
     "language": "python",
     "metadata": {},
     "outputs": [],
     "prompt_number": 5
    },
    {
     "cell_type": "code",
     "collapsed": false,
     "input": [
      "#Integre um caso aqui\n",
      "mu = 15\n",
      "phi = 1;\n",
      "alpha = 0.1;\n",
      "gamma = 0.5;\n",
      "beta = 8;\n",
      "m1 = 1;\n",
      "m2 = 5;\n",
      "t = np.linspace(0,Tmax,N)\n",
      "#pop inicial\n",
      "R0,C10,C20 = 1.0,1.0,1.0\n",
      "y0 = np.r_[R0,C10,C20]\n",
      "    \n",
      "sol = scipy.integrate.odeint(ddt,y0,t)\n",
      "sol = np.array(sol)"
     ],
     "language": "python",
     "metadata": {},
     "outputs": [],
     "prompt_number": 6
    },
    {
     "cell_type": "code",
     "collapsed": false,
     "input": [
      "#Pop no tempo\n",
      "alpha = 1.0\n",
      "beta = 8.0\n",
      "gamma = 0.5\n",
      "mu = 15\n",
      "m = 9\n",
      "\n",
      "sol = np.load('IGP_without_space_m=%.2f,mu=%.2f,beta=%.2f.npy' %(m,mu,beta))\n",
      "\n",
      "R = sol[:,0]\n",
      "C1 = sol[:,1]\n",
      "C2 = sol[:,2]\n",
      "plt.plot(t[-1000:],R[-1000:], color = 'green')\n",
      "plt.plot(t[-1000:],C1[-1000:], color = 'blue')\n",
      "plt.plot(t[-1000:],C2[-1000:], color = 'red')\n",
      "print R[-1]\n",
      "print C1[-1]\n",
      "print C2[-1]\n",
      "#plt.axis([0,Tmax,0,20])"
     ],
     "language": "python",
     "metadata": {
      "scrolled": true
     },
     "outputs": [
      {
       "output_type": "stream",
       "stream": "stdout",
       "text": [
        "9.9\n",
        "0.515151515152\n",
        "6.48414957967e-23\n"
       ]
      },
      {
       "metadata": {},
       "output_type": "display_data",
       "png": "[encoded data removed]",
       "text": [
        "<matplotlib.figure.Figure at 0x7f566be14f90>"
       ]
      }
     ],
     "prompt_number": 27
    },
    {
     "cell_type": "code",
     "collapsed": false,
     "input": [
      "#Fa\u00e7a para v\u00e1rios m\n",
      "alpha = 1.0\n",
      "beta = 8.0\n",
      "gamma = 0.5\n",
      "mu = 15\n",
      "m10 = 0.9\n",
      "m20 = 1.1\n",
      "phi = 1.0\n",
      "\n",
      "R0,C10,C20 = 1.0,1.0,1.0\n",
      "y0 = np.r_[R0,C10,C20]\n",
      "\n",
      "t = np.linspace(0,Tmax,N)\n",
      "M = [0 + 0.5*i for i in range(0,20)]\n",
      "for m in M:\n",
      "    m1 = m10 + m\n",
      "    m2 = m20 + m\n",
      "    sol = scipy.integrate.odeint(ddt,y0,t)\n",
      "    sol = np.array(sol)\n",
      "    np.save('IGP_without_space_m=%.2f,mu=%.2f,beta=%.2f' %(m,mu,beta),sol)"
     ],
     "language": "python",
     "metadata": {},
     "outputs": [],
     "prompt_number": 25
    },
    {
     "cell_type": "code",
     "collapsed": false,
     "input": [
      "#Bifurca\u00e7\u00e3o\n",
      "\n",
      "alpha = 1.0\n",
      "beta = 8.0\n",
      "gamma = 0.5\n",
      "mu = 15\n",
      "\n",
      "\n",
      "M = [0 + 0.5*i for i in range(0,20)]\n",
      "\n",
      "RMAX = []\n",
      "RMIN = []\n",
      "C1MAX = []\n",
      "C1MIN = []\n",
      "C2MAX = []\n",
      "C2MIN = []\n",
      "\n",
      "for m in M:\n",
      "    sol = np.load('IGP_without_space_m=%.2f,mu=%.2f,beta=%.2f.npy' %(m,mu,beta))\n",
      "    R = sol[:,0]\n",
      "    C1 = sol[:,1]\n",
      "    C2 = sol[:,2]\n",
      "    RMAX.append(np.max(R[-1000:]))\n",
      "    RMIN.append(np.min(R[-1000:]))\n",
      "    C1MAX.append(np.max(C1[-1000:]))\n",
      "    C1MIN.append(np.min(C1[-1000:]))\n",
      "    C2MAX.append(np.max(C2[-1000:]))\n",
      "    C2MIN.append(np.min(C2[-1000:]))\n",
      "        \n",
      "plt.plot(M,RMAX,color = 'green')\n",
      "plt.plot(M,RMIN,color = 'green')\n",
      "plt.plot(M,C1MAX,color = 'blue')\n",
      "plt.plot(M,C1MIN,color = 'blue')\n",
      "plt.plot(M,C2MAX,color = 'red')\n",
      "plt.plot(M,C2MIN,color = 'red')\n",
      "plt.title(r\"$\\beta = %.1f,\\mu = %.1f,\\alpha = %.1f$\" %(beta,mu,alpha))"
     ],
     "language": "python",
     "metadata": {},
     "outputs": [
      {
       "metadata": {},
       "output_type": "pyout",
       "prompt_number": 26,
       "text": [
        "<matplotlib.text.Text at 0x7f566beb8b10>"
       ]
      },
      {
       "metadata": {},
       "output_type": "display_data",
       "png": "[encoded data removed]",
       "text": [
        "<matplotlib.figure.Figure at 0x7f566bdf8090>"
       ]
      }
     ],
     "prompt_number": 26
    },
    {
     "cell_type": "code",
     "collapsed": false,
     "input": [
      "alpha = 1.0\n",
      "beta = 8.0\n",
      "gamma = 0.5\n",
      "mu = 15\n",
      "m1 = 0.9\n",
      "m2 = 1.1\n",
      "fixed_points()"
     ],
     "language": "python",
     "metadata": {},
     "outputs": [
      {
       "metadata": {},
       "output_type": "pyout",
       "prompt_number": 29,
       "text": [
        "array([-4.16058484,  0.45532245, -5.06058484])"
       ]
      }
     ],
     "prompt_number": 29
    },
    {
     "cell_type": "code",
     "collapsed": false,
     "input": [],
     "language": "python",
     "metadata": {},
     "outputs": [],
     "prompt_number": null
    }
   ],
   "metadata": {}
  }
 ]
}
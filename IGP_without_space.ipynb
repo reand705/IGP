{
 "metadata": {
  "kernelspec": {
   "display_name": "Python 2",
   "language": "python",
   "name": "python2"
  },
  "language_info": {
   "codemirror_mode": {
    "name": "ipython",
    "version": 2
   },
   "file_extension": ".py",
   "mimetype": "text/x-python",
   "name": "python",
   "nbconvert_exporter": "python",
   "pygments_lexer": "ipython2",
   "version": "2.7.12"
  },
  "name": "",
  "signature": "sha256:f5c93cc60785777c3a5d91358627f4ddbbf1f709b37cd25e63bcf4011468a0f8"
 },
 "nbformat": 3,
 "nbformat_minor": 0,
 "worksheets": [
  {
   "cells": [
    {
     "cell_type": "code",
     "collapsed": false,
     "input": [
      "# -*- coding: utf-8 -*-\n",
      "# <nbformat>3.0</nbformat>\n",
      "\n",
      "# <codecell>\n",
      "\n",
      "# coding: utf-8\n",
      "%matplotlib inline\n",
      "import matplotlib\n",
      "import scipy.integrate\n",
      "from scipy.stats import norm\n",
      "import numpy as np\n",
      "import matplotlib.pyplot as plt\n",
      "from matplotlib import rc ## desnecess\u00e1rio\n",
      "matplotlib.rcParams['text.usetex'] = True\n",
      "matplotlib.rcParams.update({'font.size': 18})\n",
      "\n",
      "#Integra\u00e7\u00e3o - IGP sem espa\u00e7o"
     ],
     "language": "python",
     "metadata": {},
     "outputs": [],
     "prompt_number": 1
    },
    {
     "cell_type": "code",
     "collapsed": false,
     "input": [
      "#Discret tempo\n",
      "Tmax = 1000\n",
      "N = 20000"
     ],
     "language": "python",
     "metadata": {},
     "outputs": [],
     "prompt_number": 2
    },
    {
     "cell_type": "code",
     "collapsed": false,
     "input": [
      "#lado direito das edos\n",
      "def ddt(y, t):\n",
      "        \n",
      "    R = y[0]\n",
      "    C1 = y[1]\n",
      "    C2 = y[2]\n",
      "    \n",
      "    dRdt = mu - R*(phi + a1*C1 + a2*C2)\n",
      "    dC1dt = C1*(rho1*a1*R - m1 - alpha*C2)\n",
      "    dC2dt = C2*(rho2*a2*R - m2 + beta*alpha*C1)\n",
      "        \n",
      "    return np.r_[dRdt,dC1dt,dC2dt]"
     ],
     "language": "python",
     "metadata": {},
     "outputs": [],
     "prompt_number": 3
    },
    {
     "cell_type": "code",
     "collapsed": false,
     "input": [
      "#avalia a Jacobiana num ponto dado\n",
      "def J(R,C1,C2):\n",
      "    return np.array([[-1-C1-C2, -R, -R],[C1, R-m1-alpha*C2, -alpha*C1],[gamma*m2*C2/m1, beta*alpha*C2, gamma*m2*R/m1+beta*alpha*C1-m2]])"
     ],
     "language": "python",
     "metadata": {},
     "outputs": [],
     "prompt_number": 4
    },
    {
     "cell_type": "code",
     "collapsed": false,
     "input": [
      "#Pontos fixos\n",
      "def fixed_points():\n",
      "    \n",
      "    Rbar = (alpha*beta*m1 - beta*m1**2 + m1*m2 + \n",
      "    np.sqrt((-alpha*beta*m1 + beta*m1**2 - m1*m2)**2 - \n",
      "     4*alpha*beta*m1*(-beta*m1 + gamma*m2)*mu))/(2*(-beta*m1 + gamma*m2))\n",
      "    \n",
      "    C1bar = (m1*m2 - (alpha*beta*gamma*m1*m2)/(2*(-beta*m1 + gamma*m2)) + \n",
      "    (beta*gamma*m2*m1**2)/(2*(-beta*m1 + gamma*m2)) - (gamma*m1*m2**2)/(2*(-beta*m1 + gamma*m2)) - \n",
      "    (gamma*m2*np.sqrt((-alpha*beta*m1 + beta*m1**2 - m1*m2)**2 - \n",
      "    4*alpha*beta*m1*(-beta*m1 + gamma*m2)*mu))/(2*(-beta*m1 + gamma*m2)))/(alpha*beta*m1)\n",
      "    \n",
      "    C2bar = (-m1 + (alpha*beta*m1)/(2*(-beta*m1 + gamma*m2)) - (beta*m1**2)/(2*(-beta*m1 + gamma*m2)) + \n",
      "    (m1*m2)/(2*(-beta*m1 + gamma*m2)) + \n",
      "    np.sqrt((-alpha*beta*m1 + beta*m1**2 - m1*m2)**2 - \n",
      "     4*alpha*beta*m1*(-beta*m1 + gamma*m2)*mu)/(2*(-beta*m1 + gamma*m2)))/alpha\n",
      "    \n",
      "    return np.array([Rbar,C1bar,C2bar])"
     ],
     "language": "python",
     "metadata": {},
     "outputs": [],
     "prompt_number": 5
    },
    {
     "cell_type": "code",
     "collapsed": false,
     "input": [
      "#critical mu's\n",
      "def mu_1():\n",
      "    return m1*phi/(rho1*a1)\n",
      "def mu_2():\n",
      "    return m1*phi/(rho1*a1) + (m2 - rho2*a2*m1/(rho1*a1))*m1/(beta*alpha*rho1)\n",
      "\n",
      "def mu_3():\n",
      "    return m2*phi/(rho2*a2) - (m1 - rho1*a1*m2/(rho2*a2))*m2/(alpha*rho2)\n",
      "\n",
      "def mu_4():\n",
      "    return m2*phi/(rho2*a2)"
     ],
     "language": "python",
     "metadata": {},
     "outputs": [],
     "prompt_number": 6
    },
    {
     "cell_type": "code",
     "collapsed": false,
     "input": [
      "#Integre um caso aqui\n",
      "mu = 2\n",
      "phi = 1;\n",
      "alpha = 0.9;\n",
      "gamma = 0.5;\n",
      "beta = 0.9;\n",
      "m1 = 1.05;\n",
      "m2 = 0.95;\n",
      "t = np.linspace(0,Tmax,N)\n",
      "#pop inicial\n",
      "R0,C10,C20 = 20.0,20.0,20.0\n",
      "y0 = np.r_[R0,C10,C20]\n",
      "    \n",
      "sol = scipy.integrate.odeint(ddt,y0,t)\n",
      "sol = np.array(sol)"
     ],
     "language": "python",
     "metadata": {},
     "outputs": [
      {
       "output_type": "stream",
       "stream": "stderr",
       "text": [
        "/home/renato/.local/lib/python2.7/site-packages/scipy/integrate/odepack.py:218: ODEintWarning: Excess work done on this call (perhaps wrong Dfun type). Run with full_output = 1 to get quantitative information.\n",
        "  warnings.warn(warning_msg, ODEintWarning)\n"
       ]
      }
     ],
     "prompt_number": 29
    },
    {
     "cell_type": "code",
     "collapsed": false,
     "input": [
      "#Pop no tempo\n",
      "alpha = 1.0\n",
      "beta = 8.0\n",
      "gamma = 0.5\n",
      "mu = 1\n",
      "m = 9\n",
      "\n",
      "#sol = np.load('IGP_without_space_m=%.2f,mu=%.2f,beta=%.2f.npy' %(m,mu,beta))\n",
      "\n",
      "R = sol[:,0]\n",
      "C1 = sol[:,1]\n",
      "C2 = sol[:,2]\n",
      "plt.plot(t,R, color = 'green')\n",
      "plt.plot(t,C1, color = 'blue')\n",
      "plt.plot(t,C2, color = 'red')\n",
      "print R[-1]\n",
      "print C1[-1]\n",
      "print C2[-1]\n",
      "plt.axis([0,400,0,10])"
     ],
     "language": "python",
     "metadata": {
      "scrolled": true
     },
     "outputs": [
      {
       "output_type": "stream",
       "stream": "stdout",
       "text": [
        "1.19863850222\n",
        "0.503405892354\n",
        "0.165153891352\n"
       ]
      },
      {
       "metadata": {},
       "output_type": "pyout",
       "prompt_number": 30,
       "text": [
        "[0, 400, 0, 10]"
       ]
      },
      {
       "metadata": {},
       "output_type": "display_data",
       "png": "[encoded data removed]",
       "text": [
        "<matplotlib.figure.Figure at 0x7f2c5474e110>"
       ]
      }
     ],
     "prompt_number": 30
    },
    {
     "cell_type": "code",
     "collapsed": false,
     "input": [
      "MU = [0.0 + 0.01*i for i in range(0,500)]\n",
      "t = np.linspace(0,Tmax,N)\n",
      "m1 = 1.0\n",
      "m2 = 0.5\n",
      "rho1 = 0.5\n",
      "phi = 0.2\n",
      "rho2 = 0.25\n",
      "a1 = 1\n",
      "a2 = 1\n",
      "alpha = 1\n",
      "beta = 0.5\n",
      "#pop inicial\n",
      "y0 = np.array([1,1,1])\n",
      "for mu in MU:\n",
      "        if mu%0.1 == 0:\n",
      "            print(\"mu = \" + str(mu))\n",
      "        sol = scipy.integrate.odeint(ddt,y0,t)\n",
      "        sol = np.array(sol)\n",
      "        np.save('IGP_without_space, mu = %.3f'\n",
      "            % (mu),sol)"
     ],
     "language": "python",
     "metadata": {},
     "outputs": [
      {
       "output_type": "stream",
       "stream": "stdout",
       "text": [
        "mu = 0.0\n",
        "mu = 0.1"
       ]
      },
      {
       "output_type": "stream",
       "stream": "stdout",
       "text": [
        "\n",
        "mu = 0.2"
       ]
      },
      {
       "output_type": "stream",
       "stream": "stdout",
       "text": [
        "\n",
        "mu = 0.4"
       ]
      },
      {
       "output_type": "stream",
       "stream": "stdout",
       "text": [
        "\n",
        "mu = 0.8"
       ]
      },
      {
       "output_type": "stream",
       "stream": "stdout",
       "text": [
        "\n",
        "mu = 1.6"
       ]
      },
      {
       "output_type": "stream",
       "stream": "stdout",
       "text": [
        "\n",
        "mu = 3.2"
       ]
      },
      {
       "output_type": "stream",
       "stream": "stdout",
       "text": [
        "\n"
       ]
      }
     ],
     "prompt_number": 15
    },
    {
     "cell_type": "code",
     "collapsed": false,
     "input": [
      "#Imprima a popula\u00e7\u00e3o final\n",
      "MU = [0.0 + 0.01*i for i in range(0,500)]\n",
      "Rfinal = []\n",
      "C1final = []\n",
      "C2final = []\n",
      "t = np.linspace(0,Tmax,N)\n",
      "for mu in MU:\n",
      "    sol = np.load('IGP_without_space, mu = %.3f.npy'\n",
      "                            % (mu))\n",
      "    R = sol[:,0]\n",
      "    C1 = sol[:,1]\n",
      "    C2 = sol[:,2]\n",
      "    Rfinal.append(R[-1])\n",
      "    C1final.append(C1[-1])\n",
      "    C2final.append(C2[-1])\n",
      "\n",
      "plt.plot(MU,Rfinal,color = 'green', label = r'$R$')\n",
      "plt.plot(MU,C1final,color = 'blue', label = r'$C_1$')\n",
      "plt.plot(MU,C2final,color = 'red', label = r'$C_2$')\n",
      "plt.xlabel(r\"$\\mu$\")\n",
      "plt.legend(loc = 'best', prop={'size': 15})\n",
      "plt.title('Pop. Finais')\n",
      "plt.axvline(mu_1(),color='black', linestyle='--')\n",
      "#plt.annotate(r\"$\\mu_1$\",(mu_1(),1.5),textcoords=\"offset points\",xytext=(5,0))\n",
      "plt.axvline(mu_2(),color='black', linestyle='--')\n",
      "#plt.annotate(r\"$\\mu_2$\",(mu_2(),1.5),textcoords=\"offset points\",xytext=(5,0))\n",
      "plt.axvline(mu_3(),color='black', linestyle='--')\n",
      "plt.annotate(r\"$\\mu_3$\",(mu_3(),1.5),textcoords=\"offset points\",xytext=(5,0))\n",
      "#plt.axvline(mu_4(),color='black', linestyle='--')\n",
      "plt.yticks([], [])\n",
      "plt.axis([0,5,0,4])"
     ],
     "language": "python",
     "metadata": {},
     "outputs": [
      {
       "metadata": {},
       "output_type": "pyout",
       "prompt_number": 24,
       "text": [
        "[0, 5, 0, 4]"
       ]
      },
      {
       "metadata": {},
       "output_type": "display_data",
       "png": "[encoded data removed]",
       "text": [
        "<matplotlib.figure.Figure at 0x7f50606976d0>"
       ]
      }
     ],
     "prompt_number": 24
    },
    {
     "cell_type": "code",
     "collapsed": false,
     "input": [
      "#Fa\u00e7a para v\u00e1rios m\n",
      "alpha = 1.0\n",
      "beta = 8.0\n",
      "gamma = 0.5\n",
      "mu = 15\n",
      "m10 = 0.9\n",
      "m20 = 1.1\n",
      "phi = 1.0\n",
      "\n",
      "R0,C10,C20 = 1.0,1.0,1.0\n",
      "y0 = np.r_[R0,C10,C20]\n",
      "\n",
      "t = np.linspace(0,Tmax,N)\n",
      "M = [0 + 0.5*i for i in range(0,20)]\n",
      "for m in M:\n",
      "    m1 = m10 + m\n",
      "    m2 = m20 + m\n",
      "    sol = scipy.integrate.odeint(ddt,y0,t)\n",
      "    sol = np.array(sol)\n",
      "    np.save('IGP_without_space_m=%.2f,mu=%.2f,beta=%.2f' %(m,mu,beta),sol)"
     ],
     "language": "python",
     "metadata": {},
     "outputs": [],
     "prompt_number": 25
    },
    {
     "cell_type": "code",
     "collapsed": false,
     "input": [
      "#Bifurca\u00e7\u00e3o\n",
      "\n",
      "alpha = 1.0\n",
      "beta = 8.0\n",
      "gamma = 0.5\n",
      "mu = 15\n",
      "\n",
      "\n",
      "M = [0 + 0.5*i for i in range(0,20)]\n",
      "\n",
      "RMAX = []\n",
      "RMIN = []\n",
      "C1MAX = []\n",
      "C1MIN = []\n",
      "C2MAX = []\n",
      "C2MIN = []\n",
      "\n",
      "for m in M:\n",
      "    sol = np.load('IGP_without_space_m=%.2f,mu=%.2f,beta=%.2f.npy' %(m,mu,beta))\n",
      "    R = sol[:,0]\n",
      "    C1 = sol[:,1]\n",
      "    C2 = sol[:,2]\n",
      "    RMAX.append(np.max(R[-1000:]))\n",
      "    RMIN.append(np.min(R[-1000:]))\n",
      "    C1MAX.append(np.max(C1[-1000:]))\n",
      "    C1MIN.append(np.min(C1[-1000:]))\n",
      "    C2MAX.append(np.max(C2[-1000:]))\n",
      "    C2MIN.append(np.min(C2[-1000:]))\n",
      "        \n",
      "plt.plot(M,RMAX,color = 'green')\n",
      "plt.plot(M,RMIN,color = 'green')\n",
      "plt.plot(M,C1MAX,color = 'blue')\n",
      "plt.plot(M,C1MIN,color = 'blue')\n",
      "plt.plot(M,C2MAX,color = 'red')\n",
      "plt.plot(M,C2MIN,color = 'red')\n",
      "plt.title(r\"$\\beta = %.1f,\\mu = %.1f,\\alpha = %.1f$\" %(beta,mu,alpha))"
     ],
     "language": "python",
     "metadata": {},
     "outputs": [
      {
       "metadata": {},
       "output_type": "pyout",
       "prompt_number": 26,
       "text": [
        "<matplotlib.text.Text at 0x7f566beb8b10>"
       ]
      },
      {
       "metadata": {},
       "output_type": "display_data",
       "png": "[encoded data removed]",
       "text": [
        "<matplotlib.figure.Figure at 0x7f566bdf8090>"
       ]
      }
     ],
     "prompt_number": 26
    },
    {
     "cell_type": "code",
     "collapsed": false,
     "input": [
      "alpha = 1.0\n",
      "beta = 8.0\n",
      "gamma = 0.5\n",
      "mu = 15\n",
      "m1 = 0.9\n",
      "m2 = 1.1\n",
      "fixed_points()"
     ],
     "language": "python",
     "metadata": {},
     "outputs": [
      {
       "metadata": {},
       "output_type": "pyout",
       "prompt_number": 29,
       "text": [
        "array([-4.16058484,  0.45532245, -5.06058484])"
       ]
      }
     ],
     "prompt_number": 29
    },
    {
     "cell_type": "code",
     "collapsed": false,
     "input": [],
     "language": "python",
     "metadata": {},
     "outputs": [],
     "prompt_number": null
    }
   ],
   "metadata": {}
  }
 ]
}
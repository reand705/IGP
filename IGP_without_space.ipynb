{
 "metadata": {
  "name": "",
  "signature": "sha256:d13d67f177b43cc796d1ab17bf5b51a3637ea0d0d46a3c1139e6aba62a7bdd31"
 },
 "nbformat": 3,
 "nbformat_minor": 0,
 "worksheets": [
  {
   "cells": [
    {
     "cell_type": "code",
     "collapsed": false,
     "input": [
      "# -*- coding: utf-8 -*-\n",
      "# <nbformat>3.0</nbformat>\n",
      "\n",
      "# <codecell>\n",
      "\n",
      "# coding: utf-8\n",
      "%matplotlib inline\n",
      "import matplotlib\n",
      "import scipy.integrate\n",
      "from scipy.stats import norm\n",
      "import numpy as np\n",
      "import matplotlib.pyplot as plt\n",
      "from matplotlib import rc ## desnecess\u00e1rio\n",
      "matplotlib.rcParams['text.usetex'] = True\n",
      "matplotlib.rcParams.update({'font.size': 18})\n",
      "\n",
      "#Integra\u00e7\u00e3o - IGP sem espa\u00e7o"
     ],
     "language": "python",
     "metadata": {},
     "outputs": [],
     "prompt_number": 1
    },
    {
     "cell_type": "code",
     "collapsed": false,
     "input": [
      "#Discret tempo\n",
      "Tmax = 400\n",
      "N = 4000"
     ],
     "language": "python",
     "metadata": {},
     "outputs": [],
     "prompt_number": 2
    },
    {
     "cell_type": "code",
     "collapsed": false,
     "input": [
      "#lado direito das edos\n",
      "def ddt(y, t):\n",
      "        \n",
      "    R = y[0]\n",
      "    C1 = y[1]\n",
      "    C2 = y[2]\n",
      "    \n",
      "    dRdt = mu - R*(phi + C1 + C2)\n",
      "    dC1dt = C1*(R - 1 - alpha*C2)\n",
      "    dC2dt = C2*(m*gamma*R - m + beta*alpha*C1)\n",
      "        \n",
      "    return np.r_[dRdt,dC1dt,dC2dt]"
     ],
     "language": "python",
     "metadata": {},
     "outputs": [],
     "prompt_number": 3
    },
    {
     "cell_type": "code",
     "collapsed": false,
     "input": [
      "#Integre um caso aqui\n",
      "mu = 10;\n",
      "phi = 1;\n",
      "alpha = 0.1;\n",
      "gamma = 0.5;\n",
      "beta = 1.0;\n",
      "m = 0.1;\n",
      "t = np.linspace(0,Tmax,N)\n",
      "#pop inicial\n",
      "R0,C10,C20 = 1.0,1.0,1.0\n",
      "y0 = np.r_[R0,C10,C20]\n",
      "    \n",
      "sol = scipy.integrate.odeint(ddt,y0,t)\n",
      "sol = np.array(sol)"
     ],
     "language": "python",
     "metadata": {},
     "outputs": [],
     "prompt_number": 48
    },
    {
     "cell_type": "code",
     "collapsed": false,
     "input": [
      "#Pop no tempo\n",
      "alpha = 1.0\n",
      "beta = 8\n",
      "gamma = 0.5\n",
      "phi = 1.0\n",
      "mu = 15\n",
      "m = 1.0\n",
      "\n",
      "R = sol[:,0]\n",
      "C1 = sol[:,1]\n",
      "C2 = sol[:,2]\n",
      "plt.plot(t,R, color = 'green')\n",
      "plt.plot(t,C1, color = 'blue')\n",
      "plt.plot(t,C2, color = 'red')\n",
      "print R[-1]\n",
      "print C1[-1]\n",
      "print C2[-1]\n",
      "#plt.axis([0,Tmax,0,20])"
     ],
     "language": "python",
     "metadata": {},
     "outputs": [
      {
       "output_type": "stream",
       "stream": "stdout",
       "text": [
        "1.53006881553\n",
        "0.234965589801\n",
        "5.3006881652\n"
       ]
      },
      {
       "metadata": {},
       "output_type": "display_data",
       "png": "[encoded data removed]",
       "text": [
        "<matplotlib.figure.Figure at 0x7fd3450db190>"
       ]
      }
     ],
     "prompt_number": 50
    },
    {
     "cell_type": "code",
     "collapsed": false,
     "input": [
      "#Fa\u00e7a para v\u00e1rios m\n",
      "alpha = 0.1\n",
      "beta = 1.0\n",
      "gamma = 0.5\n",
      "phi = 1.0\n",
      "mu = 10\n",
      "\n",
      "R0,C10,C20 = 1.0,1.0,1.0\n",
      "y0 = np.r_[R0,C10,C20]\n",
      "\n",
      "M = [0 + 0.25*i for i in range(0,30)]\n",
      "for m in M:\n",
      "    sol = scipy.integrate.odeint(ddt,y0,t)\n",
      "    sol = np.array(sol)\n",
      "    np.save('IGP_without_space_m=%.2f,mu=%.2f,beta=%.2f' %(m,mu,beta),sol)"
     ],
     "language": "python",
     "metadata": {},
     "outputs": [],
     "prompt_number": 36
    },
    {
     "cell_type": "code",
     "collapsed": false,
     "input": [
      "#Bifurca\u00e7\u00e3o\n",
      "\n",
      "alpha = 0.1\n",
      "beta = 1\n",
      "gamma = 0.5\n",
      "phi = 1.0\n",
      "mu = 10\n",
      "\n",
      "M = [0 + 0.25*i for i in range(0,30)]\n",
      "\n",
      "RMAX = []\n",
      "RMIN = []\n",
      "C1MAX = []\n",
      "C1MIN = []\n",
      "C2MAX = []\n",
      "C2MIN = []\n",
      "\n",
      "for m in M:\n",
      "    print(\"mu = \" + str(m))\n",
      "    sol = np.load('IGP_without_space_m=%.2f,mu=%.2f,beta=%.2f.npy' %(m,mu,beta))\n",
      "    R = sol[:,0]\n",
      "    C1 = sol[:,1]\n",
      "    C2 = sol[:,2]\n",
      "    RMAX.append(np.max(R[-500:]))\n",
      "    RMIN.append(np.min(R[-500:]))\n",
      "    C1MAX.append(np.max(C1[-500:]))\n",
      "    C1MIN.append(np.min(C1[-500:]))\n",
      "    C2MAX.append(np.max(C2[-500:]))\n",
      "    C2MIN.append(np.min(C2[-500:]))\n",
      "        \n",
      "plt.plot(M,RMAX,color = 'green')\n",
      "plt.plot(M,RMIN,color = 'green')\n",
      "plt.plot(M,C1MAX,color = 'blue')\n",
      "plt.plot(M,C1MIN,color = 'blue')\n",
      "plt.plot(M,C2MAX,color = 'red')\n",
      "plt.plot(M,C2MIN,color = 'red')"
     ],
     "language": "python",
     "metadata": {},
     "outputs": [
      {
       "output_type": "stream",
       "stream": "stdout",
       "text": [
        "mu = 0.0\n",
        "mu = 0.25\n",
        "mu = 0.5\n",
        "mu = 0.75\n",
        "mu = 1.0\n",
        "mu = 1.25\n",
        "mu = 1.5\n",
        "mu = 1.75\n",
        "mu = 2.0\n",
        "mu = 2.25\n",
        "mu = 2.5\n",
        "mu = 2.75\n",
        "mu = 3.0\n",
        "mu = 3.25\n",
        "mu = 3.5\n",
        "mu = 3.75\n",
        "mu = 4.0\n",
        "mu = 4.25\n",
        "mu = 4.5\n",
        "mu = 4.75\n",
        "mu = 5.0\n",
        "mu = 5.25\n",
        "mu = 5.5\n",
        "mu = 5.75\n",
        "mu = 6.0\n",
        "mu = 6.25\n",
        "mu = 6.5\n",
        "mu = 6.75\n",
        "mu = 7.0\n",
        "mu = 7.25\n"
       ]
      },
      {
       "metadata": {},
       "output_type": "pyout",
       "prompt_number": 37,
       "text": [
        "[<matplotlib.lines.Line2D at 0x7fd3455c9e90>]"
       ]
      },
      {
       "metadata": {},
       "output_type": "display_data",
       "png": "[encoded data removed]",
       "text": [
        "<matplotlib.figure.Figure at 0x7fd3456b1210>"
       ]
      }
     ],
     "prompt_number": 37
    },
    {
     "cell_type": "code",
     "collapsed": false,
     "input": [],
     "language": "python",
     "metadata": {},
     "outputs": []
    }
   ],
   "metadata": {}
  }
 ]
}
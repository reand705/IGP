{
 "cells": [
  {
   "cell_type": "code",
   "execution_count": 1,
   "metadata": {},
   "outputs": [],
   "source": [
    "# -*- coding: utf-8 -*-\n",
    "# <nbformat>3.0</nbformat>\n",
    "\n",
    "# <codecell>\n",
    "\n",
    "# coding: utf-8\n",
    "%matplotlib inline\n",
    "import matplotlib\n",
    "import numpy as np\n",
    "import scipy.integrate\n",
    "import matplotlib.pyplot as plt\n",
    "from matplotlib import rc ## desnec?essário\n",
    "matplotlib.rcParams['text.usetex'] = True\n",
    "matplotlib.rcParams.update({'font.size': 22})\n",
    "\n",
    "\n",
    "'''\n",
    "Ressonâncias fixando L e variando alpha?\n",
    "'''\n",
    "\n",
    "\n",
    "#Discretização\n",
    "M = 101 #espaço\n",
    "N = 4000 #tempo\n",
    "Tmax = 400.0"
   ]
  },
  {
   "cell_type": "code",
   "execution_count": 15,
   "metadata": {},
   "outputs": [
    {
     "name": "stdout",
     "output_type": "stream",
     "text": [
      "D = [1.0, 5.0, 0.0]\n"
     ]
    },
    {
     "data": {
      "text/plain": [
       "Text(0.5,0,u'$\\\\alpha$')"
      ]
     },
     "execution_count": 15,
     "metadata": {},
     "output_type": "execute_result"
    },
    {
     "data": {
      "image/png": "[encoded data removed]",
      "text/plain": [
       "<matplotlib.figure.Figure at 0x7f76e945eb10>"
      ]
     },
     "metadata": {},
     "output_type": "display_data"
    }
   ],
   "source": [
    "l = 0.5 + 35*0.0125\n",
    "mu = 15\n",
    "t = np.linspace(0,Tmax,N)\n",
    "m = 1.0\n",
    "gamma = 0.5\n",
    "beta = 8\n",
    "phi = 1.0\n",
    "D = [[1.0,5.0,0.0]]\n",
    "ALPHA = [1.0 + 0.5*j for j in range(0,30)]\n",
    "\n",
    "RMAX = []\n",
    "RMIN = []\n",
    "C1MAX = []\n",
    "C1MIN = []\n",
    "C2MAX = []\n",
    "C2MIN = []\n",
    "\n",
    "for d in D:\n",
    "    print(\"D = \" + str(d))\n",
    "    D1,D2,DR = d[0],d[1],d[2]\n",
    "    d_1 = D1/(l**2) #O Numerador é o D do modelo antes de adimensionalizar!\n",
    "    d_2 = D2/(l**2)\n",
    "    d_r = DR/(l**2)\n",
    "    for a in ALPHA:\n",
    "        alpha = a\n",
    "        \n",
    "        sol = np.load('Method_Of_LinesIGP_l = %.3f,DR=%.3f,D1=%.3f,D2=%.3f,mu=%.3f,gamma=%.3f,beta =%.3f,alpha=%3f.npy'\n",
    "                % (l,DR,D1,D2,mu,gamma,beta,alpha))\n",
    "        R = np.transpose(sol[:,0:M])\n",
    "        C1 = np.transpose(sol[:,M:2*M])\n",
    "        C2 = np.transpose(sol[:,2*M:])\n",
    "        RMAX.append(np.max(R[M/2,-500:]))\n",
    "        RMIN.append(np.min(R[M/2,-500:]))\n",
    "        C1MAX.append(np.max(C1[M/2,-500:]))\n",
    "        C1MIN.append(np.min(C1[M/2,-500:]))\n",
    "        C2MAX.append(np.max(C2[M/2,-500:]))\n",
    "        C2MIN.append(np.min(C2[M/2,-500:]))\n",
    "\n",
    "plt.plot(ALPHA,RMAX,color = 'green',marker = '.',linestyle = \"None\")\n",
    "plt.plot(ALPHA,RMIN,color = 'green',marker = '.',linestyle = \"None\")\n",
    "plt.plot(ALPHA,C1MAX,color = 'blue',marker = '.',linestyle = \"None\")\n",
    "plt.plot(ALPHA,C1MIN,color = 'blue',marker = '.',linestyle = \"None\")\n",
    "plt.plot(ALPHA,C2MAX,color = 'red',marker = '.',linestyle = \"None\")\n",
    "plt.plot(ALPHA,C2MIN,color = 'red',marker = '.',linestyle = \"None\")\n",
    "plt.xlabel(r'$\\alpha$')"
   ]
  },
  {
   "cell_type": "code",
   "execution_count": null,
   "metadata": {},
   "outputs": [],
   "source": []
  }
 ],
 "metadata": {
  "kernelspec": {
   "display_name": "Python 2",
   "language": "python",
   "name": "python2"
  },
  "language_info": {
   "codemirror_mode": {
    "name": "ipython",
    "version": 2
   },
   "file_extension": ".py",
   "mimetype": "text/x-python",
   "name": "python",
   "nbconvert_exporter": "python",
   "pygments_lexer": "ipython2",
   "version": "2.7.12"
  }
 },
 "nbformat": 4,
 "nbformat_minor": 2
}

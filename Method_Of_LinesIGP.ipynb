{
 "metadata": {
  "kernelspec": {
   "display_name": "Python 2",
   "language": "python",
   "name": "python2"
  },
  "language_info": {
   "codemirror_mode": {
    "name": "ipython",
    "version": 2
   },
   "file_extension": ".py",
   "mimetype": "text/x-python",
   "name": "python",
   "nbconvert_exporter": "python",
   "pygments_lexer": "ipython2",
   "version": "2.7.12"
  },
  "name": "",
  "signature": "sha256:126736adf59c17e8a1efe6f9644adb5db3e062e11f418c6c77a241c189fcfeb0"
 },
 "nbformat": 3,
 "nbformat_minor": 0,
 "worksheets": [
  {
   "cells": [
    {
     "cell_type": "code",
     "collapsed": false,
     "input": [
      "# -*- coding: utf-8 -*-\n",
      "# <nbformat>3.0</nbformat>\n",
      "\n",
      "# <codecell>\n",
      "\n",
      "# coding: utf-8\n",
      "%matplotlib inline\n",
      "import matplotlib\n",
      "import numpy as np\n",
      "import scipy.integrate\n",
      "import matplotlib.pyplot as plt\n",
      "from matplotlib import rc ## desnec?ess\u00e1rio\n",
      "matplotlib.rcParams['text.usetex'] = True\n",
      "matplotlib.rcParams.update({'font.size': 22})\n",
      "\n",
      "\n",
      "'''\n",
      "Method of lines - Intraguild Predation + Diffusion\n",
      "Quimiostatic growth for resource\n",
      "Already using adimensionlization\n",
      "'''\n",
      "\n",
      "#Parametros\n",
      "\n",
      "d_1 = 5\n",
      "d_2 = 5\n",
      "d_r = 5\n",
      "m = 1.5\n",
      "mu = 20\n",
      "gamma = 0.1\n",
      "alpha = 0.5\n",
      "beta = 5 #Bifurca\u00e7\u00f5es ao aumentar o beta!\n",
      "phi = 1.0\n",
      "\n",
      "#Discretiza\u00e7\u00e3o\n",
      "M = 101 #espa\u00e7o\n",
      "N = 4000 #tempo\n",
      "Tmax = 400.0"
     ],
     "language": "python",
     "metadata": {},
     "outputs": [],
     "prompt_number": 1
    },
    {
     "cell_type": "code",
     "collapsed": false,
     "input": [
      "# -------------------- Funcional Response - IGP\n",
      "\n",
      "'''\n",
      "f_R(R,C1,C2) = mu - phi*R - C1*R - C2*R \n",
      "\n",
      "f_C1(R,C1,C2) = C1*R - C1 - alpha*C1*C2 \n",
      "\n",
      "f_C2(R,C1,C2) = m*gamma*C2*R - m*C2 + beta*alpha*C1*C2\n",
      "'''\n",
      "\n",
      "def f_R(R, C1, C2):\n",
      "    return mu - phi*R - C1*R - C2*R \n",
      "\n",
      "def f_C1(R, C1, C2):\n",
      "    return C1*R - C1 - alpha*C1*C2 \n",
      "\n",
      "def f_C2(R, C1, C2):\n",
      "    return m*gamma*C2*R - m*C2 + beta*alpha*C1*C2"
     ],
     "language": "python",
     "metadata": {},
     "outputs": [],
     "prompt_number": 2
    },
    {
     "cell_type": "code",
     "collapsed": false,
     "input": [
      "#inicialize as popula\u00e7\u00f5es\n",
      "def init(M):\n",
      "    \n",
      "    #Popula\u00e7\u00f5es iniciais - sino\n",
      "    x = np.linspace(0,np.pi,M)\n",
      "    \n",
      "    R0 = 1.0*np.sin(x)\n",
      "    C10 = 1.0*np.sin(x)\n",
      "    C20 = 1.0*np.sin(x)\n",
      "    \n",
      "    del x\n",
      "    \n",
      "    '''\n",
      "    #Popula\u00e7\u00f5es iniciais - step function\n",
      "    \n",
      "    R0 = np.zeros(M)\n",
      "    C10 = np.zeros(M)\n",
      "    C20 = np.zeros(M)\n",
      "    \n",
      "    R_0 = 1.0\n",
      "    C1_0 = 1.0\n",
      "    C2_0 = 1.0\n",
      "    for i in range(0,M):\n",
      "        if i >= 0.3*M and i < 0.7*M:\n",
      "            R0[i] = R_0\n",
      "            C10[i] = C1_0\n",
      "            C20[i] = C2_0\n",
      "            \n",
      "    '''\n",
      "    \n",
      "    return R0,C10,C20"
     ],
     "language": "python",
     "metadata": {},
     "outputs": [],
     "prompt_number": 3
    },
    {
     "cell_type": "code",
     "collapsed": false,
     "input": [
      "def ddt(y,t):\n",
      "    \n",
      "    #discret\n",
      "    h = np.pi/(M-1)\n",
      "    \n",
      "    #c.contorno (Dirichlet)\n",
      "    if d_r > 0:\n",
      "        \n",
      "        dRdt = np.zeros(M)\n",
      "        dC1dt = np.zeros(M)\n",
      "        dC2dt = np.zeros(M)\n",
      "\n",
      "        R = y[0:M]\n",
      "        C1 = y[M:2*M]\n",
      "        C2 = y[2*M:]\n",
      "\n",
      "        R[0] = 0\n",
      "        C1[0] = 0\n",
      "        C2[0] = 0\n",
      "        R[-1] = 0\n",
      "        C1[-1] = 0\n",
      "        C2[-1] = 0\n",
      "\n",
      "        dRdt[1:M-1] = d_r*(R[2:M] - 2*R[1:M-1] + R[0:M-2])/(h**2) + f_R(R[1:M-1],C1[1:M-1],C2[1:M-1])\n",
      "        dC1dt[1:M-1] = d_1*(C1[2:M] - 2*C1[1:M-1] + C1[0:M-2])/(h**2) + f_C1(R[1:M-1],C1[1:M-1],C2[1:M-1])\n",
      "        dC2dt[1:M-1] = d_2*(C2[2:M] - 2*C2[1:M-1] + C2[0:M-2])/(h**2) + f_C2(R[1:M-1],C1[1:M-1],C2[1:M-1])\n",
      "        \n",
      "    #c. contorno: Dirichlet, mas com d_r = 0 (portanto, n\u00e3o sofre CC)\n",
      "    elif d_r == 0:\n",
      "        \n",
      "        dRdt = np.zeros(M)\n",
      "        dC1dt = np.zeros(M)\n",
      "        dC2dt = np.zeros(M)\n",
      "\n",
      "        R = y[0:M]\n",
      "        C1 = y[M:2*(M)]\n",
      "        C2 = y[2*(M):]\n",
      "\n",
      "        C1[0] = 0\n",
      "        C2[0] = 0\n",
      "\n",
      "        C1[-1] = 0\n",
      "        C2[-1] = 0\n",
      "\n",
      "        dRdt[0:M] = f_R(R[0:M],C1[0:M],C2[0:M])\n",
      "        dC1dt[1:M-1] = d_1*(C1[2:M] - 2*C1[1:M-1] + C1[0:M-2])/(h**2) + f_C1(R[1:M-1],C1[1:M-1],C2[1:M-1])\n",
      "        dC2dt[1:M-1] = d_2*(C2[2:M] - 2*C2[1:M-1] + C2[0:M-2])/(h**2) + f_C2(R[1:M-1],C1[1:M-1],C2[1:M-1])\n",
      "    \n",
      "    '''\n",
      "    #c. contorno (Neumann) - Lembre de mudar M para M+2!\n",
      "    \n",
      "    dRdt = np.zeros(M+2)\n",
      "    dC1dt = np.zeros(M+2)\n",
      "    dC2dt = np.zeros(M+2)\n",
      "    \n",
      "    R = y[0:M+2]\n",
      "    C1 = y[M+2:2*(M+2)]\n",
      "    C2 = y[2*(M+2):]\n",
      "    \n",
      "    R[0] = R[1]\n",
      "    C1[0] = C1[1]\n",
      "    C2[0] = C2[1]\n",
      "    R[-1] = R[-2]\n",
      "    C1[-1] = C1[-2]\n",
      "    C2[-1] = C2[-2]\n",
      "    \n",
      "    for m in range(1,M+1):\n",
      "        \n",
      "        dRdt[m] = d_r*(R[m+1] - 2*R[m] + R[m-1])/(h**2) #+ f_R(R[1:M-1],C1[1:M-1],C2[1:M-1])\n",
      "        dC1dt[m] = d_1*(C1[m+1] - 2*C1[m] + C1[m-1])/(h**2) #+ f_C1(R[1:M-1],C1[1:M-1],C2[1:M-1])\n",
      "        dC2dt[m] = d_2*(C2[m+1] - 2*C2[m] + C2[m-1])/(h**2) #+ f_C2(R[1:M-1],C1[1:M-1],C2[1:M-1])\n",
      "    '''\n",
      "    '''\n",
      "       \n",
      "    #c. contorno: (Neumann para R e Dirichlet p/ Cs) - Lembre de mudar o grid de M para M+2!\n",
      "    \n",
      "    dRdt = np.zeros(M+2) #Os ddts nunca s\u00e3o calculados nas extremidades? Posso deixar como zero?\n",
      "    dC1dt = np.zeros(M+2)\n",
      "    dC2dt = np.zeros(M+2)\n",
      "    \n",
      "    R = y[0:M+2]\n",
      "    C1 = y[M+2:2*(M+2)]\n",
      "    C2 = y[2*(M+2):]\n",
      "    \n",
      "    R[0] = R[1]\n",
      "    C1[1] = 0\n",
      "    C2[1] = 0\n",
      "    \n",
      "    R[-1] = R[-2]\n",
      "    C1[-2] = 0\n",
      "    C2[-2] = 0\n",
      "            \n",
      "    dRdt[1:M+1] = d_r*(R[2:M+2] - 2*R[1:M+1] + R[0:M])/(h**2) + f_R(R[1:M+1],C1[1:M+1],C2[1:M+1])    \n",
      "        \n",
      "    dC1dt[2:M] = d_1*(C1[3:M+1] - 2*C1[2:M] + C1[1:M-1])/(h**2) + f_C1(R[2:M],C1[2:M],C2[2:M])\n",
      "    dC2dt[2:M] = d_2*(C2[3:M+1] - 2*C2[2:M] + C2[1:M-1])/(h**2) + f_C2(R[2:M],C1[2:M],C2[2:M])\n",
      "    '''\n",
      "\n",
      "    return np.r_[dRdt,dC1dt,dC2dt]"
     ],
     "language": "python",
     "metadata": {},
     "outputs": [],
     "prompt_number": 4
    },
    {
     "cell_type": "code",
     "collapsed": false,
     "input": [
      "#Fun\u00e7\u00f5es que calculam os mu_i, deduzidos pelo M\u00c9TODO VARIACIONAL, R, C1, C2 em Dirichlet\n",
      "def mu_1():\n",
      "    #R Difunde: R = B1*sin(x) \n",
      "    if d_r > 0:\n",
      "        return 3*(np.pi**2)*(phi+d_r)*(1+d_1)/32\n",
      "    \n",
      "    elif d_r == 0:\n",
      "        return phi*(1+d_1)\n",
      "\n",
      "def mu_2():\n",
      "    #R Difunde: R = B1*sin(x) \n",
      "    if d_r > 0:\n",
      "        return (3*np.pi**2)*(m + d_2 - m*gamma*(1+d_1))*(1+d_1)/(32*beta*alpha) + (3*np.pi**2)*(phi+d_r)*(1+d_1)/32\n",
      "        #return (3*np.pi**2)*(1 + d_1)*(d_2 + m + beta*alpha*(phi + d_r) - m*gamma*(1+d_1))/(32*beta*alpha)\n",
      "\n",
      "def mu_3():\n",
      "    #R Difunde: R = B1*sin(x) \n",
      "    if d_r > 0:\n",
      "        return (3*np.pi**2)*(m + d_2)*((m+d_2)/(m*gamma) - 1 - d_1)/(32*m*gamma*alpha) + (3*np.pi**2)*(m + d_2)*(phi+d_r)/(32*m*gamma)\n",
      "\n",
      "def mu_4():\n",
      "    #R Difunde: R = B1*sin(x) \n",
      "    if d_r > 0:\n",
      "        return 3*(np.pi**2)*(phi+d_r)*(m+d_2)/(32*m*gamma)\n",
      "    \n",
      "    elif d_r == 0:\n",
      "        return phi*(m+d_2)/(m*gamma)"
     ],
     "language": "python",
     "metadata": {},
     "outputs": [],
     "prompt_number": 5
    },
    {
     "cell_type": "code",
     "collapsed": false,
     "input": [
      "#Calcula a estimativa do \"L Cr\u00edtico\" (?) a partir do m\u00e9todo variacional\n",
      "#Obs: Na verdade, \u00e9 o L' = L*sqrt(m_1)/pi\n",
      "def Lc():\n",
      "    return np.sqrt((D2/m - D1*gamma)*1/(gamma - 1))\n",
      "    "
     ],
     "language": "python",
     "metadata": {},
     "outputs": [],
     "prompt_number": 6
    },
    {
     "cell_type": "code",
     "collapsed": false,
     "input": [
      "#Integre um caso aqui\n",
      "DR = 1.0\n",
      "D1 = 1.0\n",
      "D2 = 5.0\n",
      "l = 1.0\n",
      "d_r = DR/l**2\n",
      "d_1 = D1/l**2\n",
      "d_2 = D2/l**2\n",
      "mu = 15\n",
      "t = np.linspace(0,Tmax,N)\n",
      "m = 1.0\n",
      "gamma = 0.5\n",
      "alpha = 1\n",
      "beta = 8\n",
      "phi = 1.0\n",
      "#pop inicial\n",
      "R0,C10,C20 = init(M)\n",
      "y0 = np.r_[R0,C10,C20]\n",
      "sol = scipy.integrate.odeint(ddt,y0,t) \n",
      "sol = np.array(sol)"
     ],
     "language": "python",
     "metadata": {},
     "outputs": [],
     "prompt_number": 113
    },
    {
     "cell_type": "code",
     "collapsed": false,
     "input": [
      "#plot no espa\u00e7o]\n",
      "\n",
      "#sol = np.load('Method_Of_LinesIGP_DR=%.3f,D1=%.3f,D2=%.3f,l=%.3f,mu=%.3f,gamma=%.3f,beta=%.f.npy'\n",
      "            #% (l,D_r,D_1,D_2,mu,gamma,beta))\n",
      "\n",
      "R = np.transpose(sol[:,0:M])\n",
      "C1 = np.transpose(sol[:,M:2*(M)])\n",
      "C2 = np.transpose(sol[:,2*(M):])\n",
      "x = np.linspace(0,np.pi,M)\n",
      "plt.plot(x,R[0:M,-10],color = 'green')\n",
      "plt.plot(x,C1[0:M,-10], color = 'blue')\n",
      "plt.plot(x,C2[0:M,-10],color = 'red')\n",
      "#plt.axis([0,np.pi,0,10])"
     ],
     "language": "python",
     "metadata": {},
     "outputs": [
      {
       "metadata": {},
       "output_type": "pyout",
       "prompt_number": 114,
       "text": [
        "[<matplotlib.lines.Line2D at 0x7f6d5c8b5b50>]"
       ]
      },
      {
       "metadata": {},
       "output_type": "display_data",
       "png": "[encoded data removed]",
       "text": [
        "<matplotlib.figure.Figure at 0x7f6d5c8b5790>"
       ]
      }
     ],
     "prompt_number": 114
    },
    {
     "cell_type": "code",
     "collapsed": false,
     "input": [
      "#centro do patch no tempo (ver se a popula\u00e7\u00e3o est\u00e1 constante mesmo,por exemplo)\n",
      "DR = 1.0\n",
      "D1 = 1.0\n",
      "D2 = 5.0\n",
      "l = 0.5 + 30*0.0125\n",
      "alpha = 1.0\n",
      "beta = 8\n",
      "gamma = 0.5\n",
      "phi = 1.0\n",
      "mu = 15\n",
      "\n",
      "sol = np.load('Method_Of_LinesIGP_l = %.3f,DR=%.3f,D1=%.3f,D2=%.3f,mu=%.3f,gamma=%.3f,beta =%.3f.npy'\n",
      "        % (l,DR,D1,D2,mu,gamma,beta))\n",
      "\n",
      "R = np.transpose(sol[:,0:M])\n",
      "C1 = np.transpose(sol[:,M:2*M])\n",
      "C2 = np.transpose(sol[:,2*M:])\n",
      "plt.plot(t[:],R[M/2,:],color = 'green')\n",
      "plt.plot(t[:],C1[M/2,:],color = 'blue')\n",
      "plt.plot(t[:],C2[M/2,:],color = 'red')"
     ],
     "language": "python",
     "metadata": {},
     "outputs": [
      {
       "metadata": {},
       "output_type": "pyout",
       "prompt_number": 41,
       "text": [
        "[<matplotlib.lines.Line2D at 0x7fc6fc1ec810>]"
       ]
      },
      {
       "metadata": {},
       "output_type": "display_data",
       "png": "[encoded data removed]",
       "text": [
        "<matplotlib.figure.Figure at 0x7fc6fc859050>"
       ]
      }
     ],
     "prompt_number": 41
    },
    {
     "cell_type": "code",
     "collapsed": false,
     "input": [],
     "language": "python",
     "metadata": {},
     "outputs": [],
     "prompt_number": null
    },
    {
     "cell_type": "code",
     "collapsed": false,
     "input": [
      "#Fa\u00e7a para v\u00e1rios dR, d1, d2, mu\n",
      "DR = [0]\n",
      "D1 = [5]\n",
      "D2 = [5]\n",
      "MU = [0.0 + i for i in range(0,140)]\n",
      "t = np.linspace(0,Tmax,N)\n",
      "m = 1.0\n",
      "gamma = 0.5\n",
      "alpha = 1\n",
      "beta = 1\n",
      "phi = 1.0\n",
      "#pop inicial\n",
      "R0,C10,C20 = init(M)\n",
      "y0 = np.r_[R0,C10,C20]\n",
      "for d_r in DR:\n",
      "    print(\"d_r = \" + str(d_r))\n",
      "    for d_1 in D1:\n",
      "        print(\"d_1 = \" + str(d_1))\n",
      "        for d_2 in D2:\n",
      "            print(\"d_2 = \" + str(d_2))\n",
      "            for mu in MU:\n",
      "                print(\"mu = \" + str(mu))\n",
      "                sol = scipy.integrate.odeint(ddt,y0,t)\n",
      "                sol = np.array(sol)\n",
      "                np.save('Method_Of_LinesIGP_dR=%.3f,d1=%.3f,d2=%.3f,mu=%.3f,alpha=%.3f,gamma=%.3f,beta=%.f,phi=%.3f,m=%.3f'\n",
      "                        % (d_r,d_1,d_2,mu,alpha,gamma,beta,phi,m),sol)"
     ],
     "language": "python",
     "metadata": {},
     "outputs": [
      {
       "output_type": "stream",
       "stream": "stdout",
       "text": [
        "d_r = 0\n",
        "d_1 = 5\n",
        "d_2 = 5\n",
        "mu = 0.0\n",
        "mu = 1.0\n",
        "mu = 2.0\n",
        "mu = 3.0\n",
        "mu = 4.0\n",
        "mu = 5.0\n",
        "mu = 6.0\n",
        "mu = 7.0\n",
        "mu = 8.0\n",
        "mu = 9.0\n",
        "mu = 10.0\n",
        "mu = 11.0\n",
        "mu = 12.0\n",
        "mu = 13.0\n",
        "mu = 14.0\n",
        "mu = 15.0\n",
        "mu = 16.0\n",
        "mu = 17.0\n",
        "mu = 18.0\n",
        "mu = 19.0\n",
        "mu = 20.0\n",
        "mu = 21.0\n",
        "mu = 22.0\n",
        "mu = 23.0\n",
        "mu = 24.0\n",
        "mu = 25.0\n",
        "mu = 26.0\n",
        "mu = 27.0\n",
        "mu = 28.0\n",
        "mu = 29.0\n",
        "mu = 30.0\n",
        "mu = 31.0\n",
        "mu = 32.0\n",
        "mu = 33.0\n",
        "mu = 34.0\n",
        "mu = 35.0\n",
        "mu = 36.0\n",
        "mu = 37.0\n",
        "mu = 38.0\n",
        "mu = 39.0\n",
        "mu = 40.0\n",
        "mu = 41.0\n",
        "mu = 42.0\n",
        "mu = 43.0\n",
        "mu = 44.0\n",
        "mu = 45.0\n",
        "mu = 46.0\n",
        "mu = 47.0\n",
        "mu = 48.0\n",
        "mu = 49.0\n",
        "mu = 50.0\n",
        "mu = 51.0\n",
        "mu = 52.0\n",
        "mu = 53.0\n",
        "mu = 54.0\n",
        "mu = 55.0\n",
        "mu = 56.0\n",
        "mu = 57.0\n",
        "mu = 58.0\n",
        "mu = 59.0\n",
        "mu = 60.0\n",
        "mu = 61.0\n",
        "mu = 62.0\n",
        "mu = 63.0\n",
        "mu = 64.0\n",
        "mu = 65.0\n",
        "mu = 66.0\n",
        "mu = 67.0\n",
        "mu = 68.0\n",
        "mu = 69.0\n",
        "mu = 70.0\n",
        "mu = 71.0\n",
        "mu = 72.0\n",
        "mu = 73.0\n",
        "mu = 74.0\n",
        "mu = 75.0\n",
        "mu = 76.0\n",
        "mu = 77.0\n",
        "mu = 78.0\n",
        "mu = 79.0\n",
        "mu = 80.0\n",
        "mu = 81.0\n",
        "mu = 82.0\n",
        "mu = 83.0\n",
        "mu = 84.0\n",
        "mu = 85.0\n",
        "mu = 86.0\n",
        "mu = 87.0\n",
        "mu = 88.0\n",
        "mu = 89.0\n",
        "mu = 90.0\n",
        "mu = 91.0\n",
        "mu = 92.0\n",
        "mu = 93.0\n",
        "mu = 94.0\n",
        "mu = 95.0\n",
        "mu = 96.0\n",
        "mu = 97.0\n",
        "mu = 98.0\n",
        "mu = 99.0\n",
        "mu = 100.0\n",
        "mu = 101.0\n",
        "mu = 102.0\n",
        "mu = 103.0\n",
        "mu = 104.0\n",
        "mu = 105.0\n",
        "mu = 106.0\n",
        "mu = 107.0\n",
        "mu = 108.0\n",
        "mu = 109.0\n",
        "mu = 110.0\n",
        "mu = 111.0\n",
        "mu = 112.0\n",
        "mu = 113.0\n",
        "mu = 114.0\n",
        "mu = 115.0\n",
        "mu = 116.0\n",
        "mu = 117.0\n",
        "mu = 118.0\n",
        "mu = 119.0\n",
        "mu = 120.0\n",
        "mu = 121.0\n",
        "mu = 122.0\n",
        "mu = 123.0\n",
        "mu = 124.0\n",
        "mu = 125.0\n",
        "mu = 126.0\n",
        "mu = 127.0\n",
        "mu = 128.0\n",
        "mu = 129.0\n",
        "mu = 130.0\n",
        "mu = 131.0\n",
        "mu = 132.0\n",
        "mu = 133.0\n",
        "mu = 134.0\n",
        "mu = 135.0\n",
        "mu = 136.0\n",
        "mu = 137.0\n",
        "mu = 138.0\n",
        "mu = 139.0\n"
       ]
      }
     ],
     "prompt_number": 41
    },
    {
     "cell_type": "code",
     "collapsed": false,
     "input": [
      "#Imprima a popula\u00e7\u00e3o final\n",
      "DR = [0]\n",
      "D1 = [5]\n",
      "D2 = [5]\n",
      "MU = [0.0 + i for i in range(0,140)]\n",
      "m = 1.0\n",
      "gamma = 0.5\n",
      "alpha = 1\n",
      "beta = 1\n",
      "phi = 1.0\n",
      "\n",
      "Rfinal = []\n",
      "C1final = []\n",
      "C2final = []\n",
      "t = np.linspace(0,Tmax,N)\n",
      "for d_r in DR:\n",
      "    for d_1 in D1:\n",
      "        for d_2 in D2:\n",
      "            for mu in MU:\n",
      "                sol = np.load('Method_Of_LinesIGP_dR=%.3f,d1=%.3f,d2=%.3f,mu=%.3f,alpha=%.3f,gamma=%.3f,beta=%.f,phi=%.3f,m=%.3f.npy'\n",
      "                              % (d_r,d_1,d_2,mu,alpha,gamma,beta,phi,m))\n",
      "                R = np.transpose(sol[:,0:M])\n",
      "                C1 = np.transpose(sol[:,M:2*M])\n",
      "                C2 = np.transpose(sol[:,2*M:])\n",
      "                Rfinal.append(R[M/2,-1])\n",
      "                C1final.append(C1[M/2,-1])\n",
      "                C2final.append(C2[M/2,-1])\n",
      "\n",
      "plt.plot(MU,Rfinal,color = 'green', label = r'$R$')\n",
      "plt.plot(MU,C1final,color = 'blue', label = r'$C_1$')\n",
      "plt.plot(MU,C2final,color = 'red', label = r'$C_2$')\n",
      "plt.xlabel(r\"$\\mu'$\")\n",
      "plt.legend(loc = 'upper left', prop={'size': 18})\n",
      "plt.title(r'Pop. Finais $d_R$=%.1f, $d_{C_1}$=%.1f, $d_{C_2}$=%.1f' % (d_r,d_1,d_2))\n",
      "plt.axis([0,140,0,20])\n",
      "#plt.axvline(x=mu_1(), color='black', linestyle='--')\n",
      "#plt.axvline(x=mu_2(), color='black', linestyle='--')\n",
      "#plt.axvline(x=mu_3(), color='black', linestyle='--')\n",
      "#print (mu_1(),mu_2(),mu_3())\n",
      "#plt.savefig('Method_Of_LinesIGP_dR=%.3f,d1=%.3f,d2=%.3f,mu=%.3f,alpha=%.3f,gamma=%.3f,beta=%.f,phi=%.3f,m=%.3f.png'\n",
      "                              #% (d_r,d_1,d_2,mu,alpha,gamma,beta,phi,m))"
     ],
     "language": "python",
     "metadata": {
      "scrolled": true
     },
     "outputs": [
      {
       "output_type": "stream",
       "stream": "stdout",
       "text": [
        "(None, None, None)\n"
       ]
      },
      {
       "metadata": {},
       "output_type": "display_data",
       "png": "[encoded data removed]",
       "text": [
        "<matplotlib.figure.Figure at 0x7f82bbe294d0>"
       ]
      }
     ],
     "prompt_number": 43
    },
    {
     "cell_type": "heading",
     "level": 1,
     "metadata": {},
     "source": [
      "R = np.transpose(sol[:,0:M]) np.shape(R)"
     ]
    },
    {
     "cell_type": "code",
     "collapsed": false,
     "input": [],
     "language": "python",
     "metadata": {},
     "outputs": [],
     "prompt_number": 5
    },
    {
     "cell_type": "code",
     "collapsed": false,
     "input": [
      "#Gera os dados para fazer o gr\u00e1fico L x mu\n",
      "#L' = sqrt(m1)*(L/pi)\n",
      "Nl = 50 #N\u00famero de pontos de L (0.8 ~ 2 para esses param)\n",
      "Nmu = 50 #N\u00famero de pontos de MU (0 ~ 25 para esses param)\n",
      "L = [1.5 + 0.024*j for j in range(0,Nl)]\n",
      "MU = [0.0 + 0.25*i for i in range(0,Nmu)]\n",
      "t = np.linspace(0,Tmax,N)\n",
      "m = 1.0\n",
      "gamma = 1.5\n",
      "alpha = 1\n",
      "beta = 1\n",
      "phi = 1.0\n",
      "\n",
      "#pop inicial\n",
      "R0,C10,C20 = init(M)\n",
      "y0 = np.r_[R0,C10,C20]\n",
      "\n",
      "D = [[7.0,3.0,0.0],[5.0,5.0,1.0],[5.0,5.0,0.0]]\n",
      "for d in D:\n",
      "    print(\"D = \" + str(d))\n",
      "    D1,D2,DR = d[0],d[1],d[2]\n",
      "    for l in L:\n",
      "        d_1 = D1/(l**2) #O Numerador \u00e9 o D do modelo antes de adimensionalizar!\n",
      "        d_2 = D2/(l**2)\n",
      "        d_r = DR/(l**2)\n",
      "        for mu in MU:\n",
      "            sol = scipy.integrate.odeint(ddt,y0,t)\n",
      "            sol = np.array(sol)\n",
      "            np.save('Method_Of_LinesIGP_l = %.3f,DR=%.3f,D1=%.3f,D2=%.3f,mu=%.3f,gamma=%.3f'\n",
      "                    % (l,DR,D1,D2,mu,gamma),sol)"
     ],
     "language": "python",
     "metadata": {},
     "outputs": [],
     "prompt_number": null
    },
    {
     "cell_type": "code",
     "collapsed": false,
     "input": [
      "#faz o gr\u00e1fico L x mu\n",
      "#Parte 1) Leia os dados, pegue as popula\u00e7\u00f5es do Centro do Patch no instante final\n",
      "Nl = 50 #N\u00famero de pontos de L (0.8 ~ 2 se gamma = 0.5, 1.5 ~ 2.7 se gamma = 1.5)\n",
      "Nmu = 50 #N\u00famero de pontos de MU (0 ~ 25 se gamma = 0.5, 0 ~ 12.5 se gamma = 1.5)\n",
      "L = [0.8 + 0.024*j for j in range(0,Nl)]\n",
      "MU = [0.0 + 0.5*i for i in range(0,Nmu)]\n",
      "t = np.linspace(0,Tmax,N)\n",
      "m = 1.0\n",
      "gamma = 0.5\n",
      "alpha = 1\n",
      "beta = 1\n",
      "phi = 1.0\n",
      "Rfinal = np.zeros((Nl,Nmu))\n",
      "C1final = np.zeros((Nl,Nmu))\n",
      "C2final = np.zeros((Nl,Nmu))\n",
      "\n",
      "#escolha os Ds\n",
      "D1 = 7.0\n",
      "D2 = 3.0\n",
      "DR = 0.0\n",
      "\n",
      "for i in range (0,Nl):\n",
      "    print(\"l = \" + str(L[i]))\n",
      "    for j in range(0,Nmu):\n",
      "        sol = np.load('Method_Of_LinesIGP_l = %.3f,DR=%.3f,D1=%.3f,D2=%.3f,mu=%.3f,gamma=%.3f.npy'\n",
      "                              % (L[i],DR,D1,D2,MU[j],gamma))\n",
      "        R = np.transpose(sol[:,0:M])\n",
      "        C1 = np.transpose(sol[:,M:2*M])\n",
      "        C2 = np.transpose(sol[:,2*M:])\n",
      "        Rfinal[i,j] = R[M/2,-1]\n",
      "        C1final[i,j] = C1[M/2,-1]\n",
      "        C2final[i,j] = C2[M/2,-1]"
     ],
     "language": "python",
     "metadata": {},
     "outputs": [
      {
       "output_type": "stream",
       "stream": "stdout",
       "text": [
        "l = 0.8\n",
        "l = 0.824"
       ]
      },
      {
       "output_type": "stream",
       "stream": "stdout",
       "text": [
        "\n",
        "l = 0.848"
       ]
      },
      {
       "output_type": "stream",
       "stream": "stdout",
       "text": [
        "\n",
        "l = 0.872"
       ]
      },
      {
       "output_type": "stream",
       "stream": "stdout",
       "text": [
        "\n",
        "l = 0.896"
       ]
      },
      {
       "output_type": "stream",
       "stream": "stdout",
       "text": [
        "\n",
        "l = 0.92"
       ]
      },
      {
       "output_type": "stream",
       "stream": "stdout",
       "text": [
        "\n",
        "l = 0.944"
       ]
      },
      {
       "output_type": "stream",
       "stream": "stdout",
       "text": [
        "\n",
        "l = 0.968"
       ]
      },
      {
       "output_type": "stream",
       "stream": "stdout",
       "text": [
        "\n",
        "l = 0.992"
       ]
      },
      {
       "output_type": "stream",
       "stream": "stdout",
       "text": [
        "\n",
        "l = 1.016"
       ]
      },
      {
       "output_type": "stream",
       "stream": "stdout",
       "text": [
        "\n",
        "l = 1.04"
       ]
      },
      {
       "output_type": "stream",
       "stream": "stdout",
       "text": [
        "\n",
        "l = 1.064"
       ]
      },
      {
       "output_type": "stream",
       "stream": "stdout",
       "text": [
        "\n",
        "l = 1.088"
       ]
      },
      {
       "output_type": "stream",
       "stream": "stdout",
       "text": [
        "\n",
        "l = 1.112"
       ]
      },
      {
       "output_type": "stream",
       "stream": "stdout",
       "text": [
        "\n",
        "l = 1.136"
       ]
      },
      {
       "output_type": "stream",
       "stream": "stdout",
       "text": [
        "\n",
        "l = 1.16"
       ]
      },
      {
       "output_type": "stream",
       "stream": "stdout",
       "text": [
        "\n",
        "l = 1.184"
       ]
      },
      {
       "output_type": "stream",
       "stream": "stdout",
       "text": [
        "\n",
        "l = 1.208"
       ]
      },
      {
       "output_type": "stream",
       "stream": "stdout",
       "text": [
        "\n",
        "l = 1.232"
       ]
      },
      {
       "output_type": "stream",
       "stream": "stdout",
       "text": [
        "\n",
        "l = 1.256"
       ]
      },
      {
       "output_type": "stream",
       "stream": "stdout",
       "text": [
        "\n",
        "l = 1.28"
       ]
      },
      {
       "output_type": "stream",
       "stream": "stdout",
       "text": [
        "\n",
        "l = 1.304"
       ]
      },
      {
       "output_type": "stream",
       "stream": "stdout",
       "text": [
        "\n",
        "l = 1.328"
       ]
      },
      {
       "output_type": "stream",
       "stream": "stdout",
       "text": [
        "\n",
        "l = 1.352"
       ]
      },
      {
       "output_type": "stream",
       "stream": "stdout",
       "text": [
        "\n",
        "l = 1.376"
       ]
      },
      {
       "output_type": "stream",
       "stream": "stdout",
       "text": [
        "\n",
        "l = 1.4"
       ]
      },
      {
       "output_type": "stream",
       "stream": "stdout",
       "text": [
        "\n",
        "l = 1.424"
       ]
      },
      {
       "output_type": "stream",
       "stream": "stdout",
       "text": [
        "\n",
        "l = 1.448"
       ]
      },
      {
       "output_type": "stream",
       "stream": "stdout",
       "text": [
        "\n",
        "l = 1.472"
       ]
      },
      {
       "output_type": "stream",
       "stream": "stdout",
       "text": [
        "\n",
        "l = 1.496"
       ]
      },
      {
       "output_type": "stream",
       "stream": "stdout",
       "text": [
        "\n",
        "l = 1.52"
       ]
      },
      {
       "output_type": "stream",
       "stream": "stdout",
       "text": [
        "\n",
        "l = 1.544"
       ]
      },
      {
       "output_type": "stream",
       "stream": "stdout",
       "text": [
        "\n",
        "l = 1.568"
       ]
      },
      {
       "output_type": "stream",
       "stream": "stdout",
       "text": [
        "\n",
        "l = 1.592"
       ]
      },
      {
       "output_type": "stream",
       "stream": "stdout",
       "text": [
        "\n",
        "l = 1.616"
       ]
      },
      {
       "output_type": "stream",
       "stream": "stdout",
       "text": [
        "\n",
        "l = 1.64"
       ]
      },
      {
       "output_type": "stream",
       "stream": "stdout",
       "text": [
        "\n",
        "l = 1.664"
       ]
      },
      {
       "output_type": "stream",
       "stream": "stdout",
       "text": [
        "\n",
        "l = 1.688"
       ]
      },
      {
       "output_type": "stream",
       "stream": "stdout",
       "text": [
        "\n",
        "l = 1.712"
       ]
      },
      {
       "output_type": "stream",
       "stream": "stdout",
       "text": [
        "\n",
        "l = 1.736"
       ]
      },
      {
       "output_type": "stream",
       "stream": "stdout",
       "text": [
        "\n",
        "l = 1.76"
       ]
      },
      {
       "output_type": "stream",
       "stream": "stdout",
       "text": [
        "\n",
        "l = 1.784"
       ]
      },
      {
       "output_type": "stream",
       "stream": "stdout",
       "text": [
        "\n",
        "l = 1.808"
       ]
      },
      {
       "output_type": "stream",
       "stream": "stdout",
       "text": [
        "\n",
        "l = 1.832"
       ]
      },
      {
       "output_type": "stream",
       "stream": "stdout",
       "text": [
        "\n",
        "l = 1.856"
       ]
      },
      {
       "output_type": "stream",
       "stream": "stdout",
       "text": [
        "\n",
        "l = 1.88"
       ]
      },
      {
       "output_type": "stream",
       "stream": "stdout",
       "text": [
        "\n",
        "l = 1.904"
       ]
      },
      {
       "output_type": "stream",
       "stream": "stdout",
       "text": [
        "\n",
        "l = 1.928"
       ]
      },
      {
       "output_type": "stream",
       "stream": "stdout",
       "text": [
        "\n",
        "l = 1.952"
       ]
      },
      {
       "output_type": "stream",
       "stream": "stdout",
       "text": [
        "\n",
        "l = 1.976"
       ]
      },
      {
       "output_type": "stream",
       "stream": "stdout",
       "text": [
        "\n"
       ]
      }
     ],
     "prompt_number": 34
    },
    {
     "cell_type": "code",
     "collapsed": false,
     "input": [
      "#faz o gr\u00e1fico L x mu\n",
      "#Parte 2) Verifique onde as popula\u00e7\u00f5es sobrevivem e plote!\n",
      "#USAR FILL_BETWEEN DEPOIS?\n",
      "epsilon = 10E-8\n",
      "L = [0.8 + 0.024*j for j in range(0,Nl)]\n",
      "MU1 = np.zeros(Nl)\n",
      "MU2 = np.zeros(Nl)\n",
      "MU3 = np.zeros(Nl)\n",
      "MU4 = np.zeros(Nl)\n",
      "for i in range (0,Nl):\n",
      "    d_1 = D1/(L[i]**2)\n",
      "    d_2 = D2/(L[i]**2)\n",
      "    d_r = DR/(L[i]**2)\n",
      "    \n",
      "    #mus determinado pelo m\u00e9todo variacional\n",
      "    MU1[i] = mu_1()\n",
      "    MU2[i] = mu_2()\n",
      "    MU3[i] = mu_3()\n",
      "    MU4[i] = mu_4()\n",
      "\n",
      "    for j in range(0,Nmu):\n",
      "        if Rfinal[i,j] > epsilon:\n",
      "            if C1final[i,j] > epsilon:\n",
      "                if C2final[i,j] > epsilon:\n",
      "                    plt.scatter(MU[j],L[i],marker = '.',color = 'purple') #coexist\u00eancia\n",
      "                else:\n",
      "                    plt.scatter(MU[j],L[i],marker = '.',color = 'deepskyblue') #R, C1\n",
      "            elif C2final[i,j] > epsilon:\n",
      "                plt.scatter(MU[j],L[i],marker = '.',color = 'gold') #R,C2\n",
      "            else:\n",
      "                plt.scatter(MU[j],L[i],marker = '.',color = 'darkgreen') #R\n",
      "        else:\n",
      "            plt.scatter(MU[j],L[i],marker = '.',color = 'black') #No one\n",
      "\n",
      "#Mu_i's\n",
      "if gamma < 1 and (D2/m - D1*gamma)*1/(gamma - 1) > 0: #Coexist\u00eancia se L < Lc\n",
      "    newL = [L[i] for i in range(0,Nl) if L[i] < Lc()]\n",
      "    plt.plot(MU1[len(newL):],L[len(newL):],color = 'blue')\n",
      "    plt.plot(MU2[len(newL):],L[len(newL):],color = 'magenta')\n",
      "    plt.plot(MU3[len(newL):],L[len(newL):],color = 'black')\n",
      "    plt.plot(MU4[0:len(newL)],newL,color = 'red')\n",
      "    \n",
      "elif gamma < 1:\n",
      "    plt.plot(MU1,L,color = 'blue')\n",
      "    plt.plot(MU2,L,color = 'magenta')\n",
      "    plt.plot(MU3,L,color = 'black')\n",
      "    \n",
      "elif gamma > 1 and (D2/m - D1*gamma)*1/(gamma - 1) > 0: #Coexist\u00eancia se L > Lc\n",
      "    newL = [L[i] for i in range(0,Nl) if L[i] < Lc()]\n",
      "    plt.plot(MU1[0:len(newL)],newL,color = 'blue')\n",
      "    plt.plot(MU2[0:len(newL)],newL,color = 'magenta')\n",
      "    plt.plot(MU3[0:len(newL)],newL,color = 'black')\n",
      "    plt.plot(MU4[len(newL):],L[len(newL):],color = 'red')\n",
      "    \n",
      "elif gamma > 1:\n",
      "    plt.plot(MU4,L,color = 'red')\n",
      "\n",
      "#Lc\n",
      "plt.axhline(y=Lc(), color='black', linestyle='--')\n",
      "d_1 = D1/(Lc()**2)\n",
      "d_2 = D2/(Lc()**2)\n",
      "d_r = DR/(Lc()**2)\n",
      "plt.axvline(x=mu_4(), color='black', linestyle='--')\n",
      "print (Lc(),mu_1(),mu_2(),mu_3(),mu_4())\n",
      "\n",
      "plt.axis([0,25,0.8,2.0]) #Lembrar: gamma = 0.5 -> L [0.8,2.0] mu [0,25]. gamma = 1.5 -> L [1.5,2.7] mu [0,12.5]\n",
      "plt.xlabel(r\"$\\mu'$\")\n",
      "plt.ylabel(r\"$L'$\")\n",
      "plt.title(r\"$D_R = %.0f,D_1 = %.0f,D_2 = %.0f,\\gamma = %.1f$\" %(DR, D1, D2, gamma))\n",
      "plt.savefig(\"Plots/g%dD1%dDR%d.png\" %(gamma*10,D1,DR))"
     ],
     "language": "python",
     "metadata": {},
     "outputs": [
      {
       "output_type": "stream",
       "stream": "stdout",
       "text": [
        "(1.0, 8.0, None, None, 8.0)\n"
       ]
      },
      {
       "metadata": {},
       "output_type": "display_data",
       "png": "[encoded data removed]",
       "text": [
        "<matplotlib.figure.Figure at 0x7fa5fb3eb7d0>"
       ]
      }
     ],
     "prompt_number": 35
    },
    {
     "cell_type": "code",
     "collapsed": false,
     "input": [
      "#Oscila\u00e7\u00f5es x L\n",
      "#Gera os dados para fazer o gr\u00e1fico L x mu\n",
      "#L' = sqrt(m1)*(L/pi)\n",
      "Nl = 100\n",
      "L = [0.5 + 0.0125*j for j in range(0,Nl)]\n",
      "mu = 15\n",
      "t = np.linspace(0,Tmax,N)\n",
      "m = 1.0\n",
      "gamma = 0.5\n",
      "alpha = 1\n",
      "beta = 8\n",
      "phi = 1.0\n",
      "D = [[1.0,5.0,0.0]]\n",
      "for d in D:\n",
      "    print(\"D = \" + str(d))\n",
      "    D1,D2,DR = d[0],d[1],d[2]\n",
      "    for l in L:\n",
      "        d_1 = D1/(l**2) #O Numerador \u00e9 o D do modelo antes de adimensionalizar!\n",
      "        d_2 = D2/(l**2)\n",
      "        d_r = DR/(l**2)\n",
      "        \n",
      "        R0,C10,C20 = init(M)\n",
      "        y0 = np.r_[R0,C10,C20]\n",
      "        \n",
      "        sol = scipy.integrate.odeint(ddt,y0,t)\n",
      "        sol = np.array(sol)\n",
      "        np.save('Method_Of_LinesIGP_l = %.3f,DR=%.3f,D1=%.3f,D2=%.3f,mu=%.3f,gamma=%.3f,beta =%.3f'\n",
      "                % (l,DR,D1,D2,mu,gamma,beta),sol)"
     ],
     "language": "python",
     "metadata": {},
     "outputs": [
      {
       "output_type": "stream",
       "stream": "stdout",
       "text": [
        "D = [1.0, 5.0, 0.0]\n"
       ]
      }
     ],
     "prompt_number": 10
    },
    {
     "cell_type": "code",
     "collapsed": false,
     "input": [
      "#Leia os dados e gere o gr\u00e1fico Pop x L\n",
      "Nl = 100\n",
      "L = [0.5 + 0.0125*j for j in range(0,Nl)]\n",
      "mu = 15\n",
      "t = np.linspace(0,Tmax,N)\n",
      "m = 1.0\n",
      "gamma = 0.5\n",
      "alpha = 1\n",
      "beta = 8\n",
      "phi = 1.0\n",
      "D = [[1.0,5.0,0.0]]\n",
      "\n",
      "RMAX = []\n",
      "RMIN = []\n",
      "C1MAX = []\n",
      "C1MIN = []\n",
      "C2MAX = []\n",
      "C2MIN = []\n",
      "\n",
      "for d in D:\n",
      "    print(\"D = \" + str(d))\n",
      "    D1,D2,DR = d[0],d[1],d[2]\n",
      "    for l in L:\n",
      "        sol = np.load('Method_Of_LinesIGP_l = %.3f,DR=%.3f,D1=%.3f,D2=%.3f,mu=%.3f,gamma=%.3f,beta =%.3f.npy'\n",
      "                % (l,DR,D1,D2,mu,gamma,beta))\n",
      "        R = np.transpose(sol[:,0:M])\n",
      "        C1 = np.transpose(sol[:,M:2*M])\n",
      "        C2 = np.transpose(sol[:,2*M:])\n",
      "        RMAX.append(np.max(R[M/2,-500:]))\n",
      "        RMIN.append(np.min(R[M/2,-500:]))\n",
      "        C1MAX.append(np.max(C1[M/2,-500:]))\n",
      "        C1MIN.append(np.min(C1[M/2,-500:]))\n",
      "        C2MAX.append(np.max(C2[M/2,-500:]))\n",
      "        C2MIN.append(np.min(C2[M/2,-500:]))\n",
      "\n",
      "plt.plot(L,RMAX,color = 'green',marker = '.',linestyle = \"None\")\n",
      "plt.plot(L,RMIN,color = 'green',marker = '.',linestyle = \"None\")\n",
      "plt.plot(L,C1MAX,color = 'blue',marker = '.',linestyle = \"None\")\n",
      "plt.plot(L,C1MIN,color = 'blue',marker = '.',linestyle = \"None\")\n",
      "plt.plot(L,C2MAX,color = 'red',marker = '.',linestyle = \"None\")\n",
      "plt.plot(L,C2MIN,color = 'red',marker = '.',linestyle = \"None\")"
     ],
     "language": "python",
     "metadata": {},
     "outputs": [
      {
       "output_type": "stream",
       "stream": "stdout",
       "text": [
        "D = [1.0, 5.0, 0.0]\n"
       ]
      },
      {
       "metadata": {},
       "output_type": "pyout",
       "prompt_number": 29,
       "text": [
        "[<matplotlib.lines.Line2D at 0x7fc6fc6029d0>]"
       ]
      },
      {
       "metadata": {},
       "output_type": "display_data",
       "png": "[encoded data removed]",
       "text": [
        "<matplotlib.figure.Figure at 0x7fc6fcd29450>"
       ]
      }
     ],
     "prompt_number": 29
    },
    {
     "cell_type": "code",
     "collapsed": false,
     "input": [
      "DR = 1\n",
      "l = 1.0\n",
      "DR/l**2"
     ],
     "language": "python",
     "metadata": {},
     "outputs": [
      {
       "metadata": {},
       "output_type": "pyout",
       "prompt_number": 78,
       "text": [
        "1.0"
       ]
      }
     ],
     "prompt_number": 78
    }
   ],
   "metadata": {}
  }
 ]
}
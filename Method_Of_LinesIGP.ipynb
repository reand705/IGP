{
 "metadata": {
  "name": "",
  "signature": "sha256:f339a652f0cd4f2a4236ca06829c9ab605a9fe7c3ccea8f95a6eb3679bf0ce36"
 },
 "nbformat": 3,
 "nbformat_minor": 0,
 "worksheets": [
  {
   "cells": [
    {
     "cell_type": "code",
     "collapsed": false,
     "input": [
      "# -*- coding: utf-8 -*-\n",
      "# <nbformat>3.0</nbformat>\n",
      "\n",
      "# <codecell>\n",
      "\n",
      "# coding: utf-8\n",
      "%matplotlib inline\n",
      "#Imprimir Rho - Borboletas\n",
      "import matplotlib\n",
      "import numpy as np\n",
      "import scipy.integrate\n",
      "import matplotlib.pyplot as plt\n",
      "from matplotlib import rc ## desnec?ess\u00e1rio\n",
      "matplotlib.rcParams['text.usetex'] = True\n",
      "matplotlib.rcParams.update({'font.size': 18})\n",
      "\n",
      "'''\n",
      "Method of lines - Intraguild Predation + Diffusion\n",
      "Quimiostatic growth for resource\n",
      "Using adimensionlization\n",
      "'''\n",
      "\n",
      "#Parametros\n",
      "\n",
      "d_1 = 0.05\n",
      "d_2 = 0.05\n",
      "d_r = 0.05\n",
      "\n",
      "#Discretiza\u00e7\u00e3o\n",
      "M = 101 #espa\u00e7o\n",
      "N = 4500 #tempo\n",
      "Tmax = 450.0"
     ],
     "language": "python",
     "metadata": {},
     "outputs": [],
     "prompt_number": 37
    },
    {
     "cell_type": "code",
     "collapsed": false,
     "input": [
      "# -------------------- Funcional Response - IGP\n",
      "\n",
      "'''\n",
      "f_R(R,C1,C2) = mu - phi*R - C1*R - C2*R \n",
      "\n",
      "f_C1(R,C1,C2) = C1*R - C1 - alpha*C1*C2 \n",
      "\n",
      "f_C2(R,C1,C2) = m*gamma*C2*R - m*C2 + beta*alpha*C1*C2\n",
      "'''\n",
      "m = 0.75\n",
      "mu = 5\n",
      "gamma = 0.5\n",
      "alpha = 0.1\n",
      "beta = 2.0\n",
      "phi = 0.25\n",
      "def f_R(R, C1, C2):\n",
      "    return mu - phi*R - C1*R - C2*R \n",
      "\n",
      "def f_C1(R, C1, C2):\n",
      "    return C1*R - C1 - alpha*C1*C2 \n",
      "\n",
      "def f_C2(R, C1, C2):\n",
      "    return m*gamma*C2*R - m*C2 + beta*alpha*C1*C2"
     ],
     "language": "python",
     "metadata": {},
     "outputs": [],
     "prompt_number": 74
    },
    {
     "cell_type": "code",
     "collapsed": false,
     "input": [
      "#inicialize as popula\u00e7\u00f5es\n",
      "def init():\n",
      "    \n",
      "    R0 = np.zeros(M)\n",
      "    C10 = np.zeros(M)\n",
      "    C20 = np.zeros(M)\n",
      "\n",
      "    #Popula\u00e7\u00f5es iniciais - step function\n",
      "    R_0 = 1.0\n",
      "    C1_0 = 1.0\n",
      "    C2_0 = 1.0\n",
      "    for i in range(0,M):\n",
      "        if i >= 0.3*M and i < 0.7*M:\n",
      "            R0[i] = R_0\n",
      "            C10[i] = C1_0\n",
      "            C20[i] = C2_0\n",
      "    \n",
      "    return R0,C10,C20"
     ],
     "language": "python",
     "metadata": {},
     "outputs": [],
     "prompt_number": 3
    },
    {
     "cell_type": "code",
     "collapsed": false,
     "input": [
      "def ddt(y,t):\n",
      "    R = y[0:M]\n",
      "    C1 = y[M:2*M]\n",
      "    C2 = y[2*M:]\n",
      "    \n",
      "    dRdt = np.zeros(M)\n",
      "    dC1dt = np.zeros(M)\n",
      "    dC2dt = np.zeros(M)\n",
      "    \n",
      "    #discret\n",
      "    h = np.pi/(M-1)\n",
      "    \n",
      "    #c.contorno (Dirichlet)\n",
      "    R[0] = 0\n",
      "    C1[0] = 0\n",
      "    C2[0] = 0\n",
      "    R[-1] = 0\n",
      "    C1[-1] = 0\n",
      "    C2[-1] = 0\n",
      "    \n",
      "    dRdt[1:M-1] = d_r*(R[2:M] - 2*R[1:M-1] + R[0:M-2])/(h**2) + f_R(R[1:M-1],C1[1:M-1],C2[1:M-1])\n",
      "    dC1dt[1:M-1] = d_1*(C1[2:M] - 2*C1[1:M-1] + C1[0:M-2])/(h**2) + f_C1(R[1:M-1],C1[1:M-1],C2[1:M-1])\n",
      "    dC2dt[1:M-1] = d_2*(C2[2:M] - 2*C2[1:M-1] + C2[0:M-2])/(h**2) + f_C2(R[1:M-1],C1[1:M-1],C2[1:M-1])\n",
      "    \n",
      "    return np.r_[dRdt,dC1dt,dC2dt]"
     ],
     "language": "python",
     "metadata": {},
     "outputs": [],
     "prompt_number": 79
    },
    {
     "cell_type": "code",
     "collapsed": false,
     "input": [
      "#Integre um caso aqui\n",
      "t = np.linspace(0,Tmax,N)\n",
      "#pop inicial\n",
      "R0,C10,C20 = init()\n",
      "y0 = np.r_[R0,C10,C20]\n",
      "sol = scipy.integrate.odeint(ddt,y0,t)\n",
      "sol = np.array(sol)"
     ],
     "language": "python",
     "metadata": {},
     "outputs": [],
     "prompt_number": 80
    },
    {
     "cell_type": "code",
     "collapsed": false,
     "input": [
      "#plot no espa\u00e7o\n",
      "#sol = np.load('Method_Of_Lines_dp=%.3f,dn=%.3f.npy' % (0.05,0.01))\n",
      "R = np.transpose(sol[:,0:M])\n",
      "C1 = np.transpose(sol[:,M:2*M])\n",
      "C2 = np.transpose(sol[:,2*M:])\n",
      "x = np.linspace(0,np.pi,M)\n",
      "plt.plot(x,R[:,-100])\n",
      "plt.plot(x,C1[:,-100])\n",
      "plt.plot(x,C2[:,-100])"
     ],
     "language": "python",
     "metadata": {},
     "outputs": [
      {
       "metadata": {},
       "output_type": "pyout",
       "prompt_number": 81,
       "text": [
        "[<matplotlib.lines.Line2D at 0x7f4a443c5990>]"
       ]
      },
      {
       "metadata": {},
       "output_type": "display_data",
       "png": "[encoded data removed]",
       "text": [
        "<matplotlib.figure.Figure at 0x7f4a46f1a190>"
       ]
      }
     ],
     "prompt_number": 81
    },
    {
     "cell_type": "code",
     "collapsed": false,
     "input": [
      "#centro do patch no tempo\n",
      "R = np.transpose(sol[:,0:M])\n",
      "C1 = np.transpose(sol[:,M:2*M])\n",
      "C2 = np.transpose(sol[:,2*M:])\n",
      "plt.plot(t,C1[M/2,:])\n",
      "plt.plot(t,R[M/2,:])\n",
      "plt.plot(t,C2[M/2,:])\n",
      "print(np.max(R[M/2,-1000:]))\n",
      "print(np.min(R[M/2,-1000:]))"
     ],
     "language": "python",
     "metadata": {},
     "outputs": [
      {
       "output_type": "stream",
       "stream": "stdout",
       "text": [
        "1.20282482838\n",
        "1.20282482838\n"
       ]
      },
      {
       "metadata": {},
       "output_type": "display_data",
       "png": "[encoded data removed]",
       "text": [
        "<matplotlib.figure.Figure at 0x7f4a43e74a50>"
       ]
      }
     ],
     "prompt_number": 82
    },
    {
     "cell_type": "code",
     "collapsed": false,
     "input": [
      "np.shape(sol[:,2*M:])\n",
      "#np.save('Method_Of_Lines_dp=%.3f,dn=%.3f' % (d_p,d_n),sol)"
     ],
     "language": "python",
     "metadata": {},
     "outputs": [
      {
       "metadata": {},
       "output_type": "pyout",
       "prompt_number": 24,
       "text": [
        "(4500, 101)"
       ]
      }
     ],
     "prompt_number": 24
    },
    {
     "cell_type": "code",
     "collapsed": false,
     "input": [],
     "language": "python",
     "metadata": {},
     "outputs": [],
     "prompt_number": 48
    },
    {
     "cell_type": "code",
     "collapsed": false,
     "input": [],
     "language": "python",
     "metadata": {},
     "outputs": [],
     "prompt_number": 48
    },
    {
     "cell_type": "code",
     "collapsed": false,
     "input": [],
     "language": "python",
     "metadata": {},
     "outputs": [
      {
       "metadata": {},
       "output_type": "pyout",
       "prompt_number": 41,
       "text": [
        "(4500, 202)"
       ]
      }
     ],
     "prompt_number": 41
    }
   ],
   "metadata": {}
  }
 ]
}
{
 "metadata": {
  "name": "",
  "signature": "sha256:046ec03a3a62c5391ac3d73dadb5025259668e0ccf6ad55da11c879fa865492d"
 },
 "nbformat": 3,
 "nbformat_minor": 0,
 "worksheets": [
  {
   "cells": [
    {
     "cell_type": "code",
     "collapsed": false,
     "input": [
      "# -*- coding: utf-8 -*-\n",
      "# <nbformat>3.0</nbformat>\n",
      "\n",
      "# <codecell>\n",
      "\n",
      "# coding: utf-8\n",
      "%matplotlib inline\n",
      "import matplotlib\n",
      "import scipy.integrate\n",
      "from scipy.stats import norm\n",
      "import numpy as np\n",
      "import matplotlib.pyplot as plt\n",
      "from matplotlib import rc ## desnecess\u00e1rio\n",
      "matplotlib.rcParams['text.usetex'] = True\n",
      "matplotlib.rcParams.update({'font.size': 18})"
     ],
     "language": "python",
     "metadata": {},
     "outputs": [],
     "prompt_number": 1
    },
    {
     "cell_type": "code",
     "collapsed": false,
     "input": [
      "#Discret tempo\n",
      "Tmax = 200\n",
      "N = 2000"
     ],
     "language": "python",
     "metadata": {},
     "outputs": [],
     "prompt_number": 6
    },
    {
     "cell_type": "code",
     "collapsed": false,
     "input": [
      "#Popula\u00e7\u00f5es Iniciais\n",
      "def init():\n",
      "    \n",
      "    #recurso difunde\n",
      "    if d_r > 0:\n",
      "    \n",
      "        b10 = 1.0\n",
      "        a10 = 1.0\n",
      "        a20 = 1.0\n",
      "        return b10, a10, a20\n",
      "    \n",
      "        #recurso n\u00e3o difunde\n",
      "    elif d_r == 0:\n",
      "    \n",
      "        b10 = 2.0\n",
      "        b20 = 0.0\n",
      "        a10 = 1.0\n",
      "        a20 = 1.0\n",
      "        \n",
      "        return b10, b20, a10, a20 "
     ],
     "language": "python",
     "metadata": {},
     "outputs": [],
     "prompt_number": 2
    },
    {
     "cell_type": "code",
     "collapsed": false,
     "input": [
      "#lado direito das edos\n",
      "def ddt(y, t):\n",
      "    \n",
      "    #recurso difunde\n",
      "    if d_r > 0:\n",
      "        \n",
      "        B1 = y[0]\n",
      "        A1 = y[1]\n",
      "        A2 = y[2]\n",
      "    \n",
      "        dB1dt = 4*mu/np.pi - B1*(phi + 8*(A1+A2)/(3*np.pi) + d_r)\n",
      "        dA1dt = A1*(8*B1/(3*np.pi) - 1 - alpha*8*A2/(3*np.pi) - d_1)\n",
      "        dA2dt = A2*(8*m*gamma*B1/(3*np.pi) - m + 8*beta*alpha*A1/(3*np.pi) - d_2)\n",
      "        \n",
      "        return np.r_[dB1dt,dA1dt,dA2dt]\n",
      "        \n",
      "    #recurso n\u00e3o difunde\n",
      "    \n",
      "    elif d_r == 0:\n",
      "        \n",
      "        B1 = y[0]\n",
      "        B2 = y[1]\n",
      "        A1 = y[2]\n",
      "        A2 = y[3]\n",
      "        \n",
      "        dB1dt = mu - phi*B1 - (32 - 3*np.pi**2)*(A1 + A2)*B2/(6*np.pi**2 - 48)\n",
      "        dB2dt = - phi*B2 + (A1 + A2)*(B1 - B2*4*np.pi/(6*np.pi**2 - 48))\n",
      "        dA1dt = A1*(B1 - (1 + d_1) - 8*B2/(3*np.pi) - alpha*8*A2/(3*np.pi))\n",
      "        dA2dt = A2*(m*gamma*(B1 - 8*B2/(3*np.pi)) - (m + d_2) + alpha*8*beta*A1/(3*np.pi))\n",
      "    \n",
      "    \n",
      "        return np.r_[dB1dt,dB2dt,dA1dt,dA2dt]"
     ],
     "language": "python",
     "metadata": {},
     "outputs": [],
     "prompt_number": 15
    },
    {
     "cell_type": "code",
     "collapsed": false,
     "input": [
      "#Fun\u00e7\u00f5es que calculam os mu_i\n",
      "def mu_1():\n",
      "    #R Difunde: R = B1*sin(x) \n",
      "    if d_r > 0:\n",
      "        return 3*(np.pi**2)*(phi+d_r)*(1+d_1)/32\n",
      "    elif d_r == 0:\n",
      "        return phi*(1+d_1)\n",
      "\n",
      "def mu_2():\n",
      "    #R Difunde: R = B1*sin(x) \n",
      "    if d_r > 0:\n",
      "        return (3*np.pi**2)*(m + d_2 - m*gamma*(1+d_1))*(1+d_1)/(32*beta*alpha) + (3*np.pi**2)*(phi+d_r)*(1+d_1)/32\n",
      "        #return (3*np.pi**2)*(1 + d_1)*(d_2 + m + beta*alpha*(phi + d_r) - m*gamma*(1+d_1))/(32*beta*alpha)\n",
      "\n",
      "def mu_3():\n",
      "    #R Difunde: R = B1*sin(x) \n",
      "    if d_r > 0:\n",
      "        return (3*np.pi**2)*(m + d_2)*((m+d_2)/(m*gamma) - 1 - d_1)/(32*m*gamma*alpha) + (3*np.pi**2)*(m + d_2)*(phi+d_r)/(32*m*gamma)"
     ],
     "language": "python",
     "metadata": {},
     "outputs": [],
     "prompt_number": 4
    },
    {
     "cell_type": "code",
     "collapsed": false,
     "input": [
      "#Integre aqui\n",
      "d_r = 0\n",
      "d_1 = 5\n",
      "d_2 = 5\n",
      "mu = 30\n",
      "m = 1.0\n",
      "gamma = 0.5\n",
      "alpha = 1\n",
      "beta = 1\n",
      "phi = 1.0\n",
      "t = np.linspace(0,Tmax,N)\n",
      "#pop inicial\n",
      "if d_r > 0:\n",
      "    B10,A10,A20 = init()\n",
      "    y0 = np.r_[B10,A10,A20]\n",
      "    \n",
      "elif d_r == 0:\n",
      "    B10,B20,A10,A20 = init()\n",
      "    y0 = np.r_[B10,B20,A10,A20]\n",
      "    \n",
      "sol = scipy.integrate.odeint(ddt,y0,t)\n",
      "sol = np.array(sol)"
     ],
     "language": "python",
     "metadata": {},
     "outputs": [],
     "prompt_number": 21
    },
    {
     "cell_type": "code",
     "collapsed": false,
     "input": [
      "np.shape(sol)\n",
      "B1 = sol[:,0]\n",
      "B2 = sol[:,1]\n",
      "A1 = sol[:,2]\n",
      "A2 = sol[:,3]\n",
      "plt.plot(t,B1 - B2, color = 'green')\n",
      "plt.plot(t,A1, color = 'blue')\n",
      "plt.plot(t,A2, color = 'red')\n",
      "#plt.axis([0,Tmax,0,20])"
     ],
     "language": "python",
     "metadata": {},
     "outputs": [
      {
       "metadata": {},
       "output_type": "pyout",
       "prompt_number": 22,
       "text": [
        "[<matplotlib.lines.Line2D at 0x7f10c3e02e50>]"
       ]
      },
      {
       "metadata": {},
       "output_type": "display_data",
       "png": "[encoded data removed]",
       "text": [
        "<matplotlib.figure.Figure at 0x7f10c3e74590>"
       ]
      }
     ],
     "prompt_number": 22
    },
    {
     "cell_type": "code",
     "collapsed": false,
     "input": [
      "#Fa\u00e7a para v\u00e1rios dR, d1, d2\n",
      "DR = [0]\n",
      "D1 = [7]\n",
      "D2 = [3]\n",
      "MU = [0.0 + i for i in range(0,140)]\n",
      "t = np.linspace(0,Tmax,N)\n",
      "m = 1.0\n",
      "gamma = 0.5\n",
      "alpha = 1\n",
      "beta = 1\n",
      "phi = 1.0\n",
      "#pop inicial\n",
      "for d_r in DR:\n",
      "    print(\"d_r = \" + str(d_r))\n",
      "    for d_1 in D1:\n",
      "        print(\"d_1 = \" + str(d_1))\n",
      "        for d_2 in D2:\n",
      "            print(\"d_2 = \" + str(d_2))\n",
      "            for mu in MU:\n",
      "                print(\"mu = \" + str(mu))\n",
      "                B10,B20,A10,A20 = init()\n",
      "                y0 = np.r_[B10,B20,A10,A20]\n",
      "                sol = scipy.integrate.odeint(ddt,y0,t)\n",
      "                sol = np.array(sol)\n",
      "                np.save('Var_Method_IGP_dR=%.3f,d1=%.3f,d2=%.3f,mu=%.3f,alpha=%.3f,gamma=%.3f,beta=%.f,phi=%.3f,m=%.3f'\n",
      "                        % (d_r,d_1,d_2,mu,alpha,gamma,beta,phi,m),sol)"
     ],
     "language": "python",
     "metadata": {},
     "outputs": [
      {
       "output_type": "stream",
       "stream": "stdout",
       "text": [
        "d_r = 0\n",
        "d_1 = 7\n",
        "d_2 = 3\n",
        "mu = 0.0\n",
        "mu = 1.0\n",
        "mu = 2.0"
       ]
      },
      {
       "output_type": "stream",
       "stream": "stdout",
       "text": [
        "\n",
        "mu = 3.0\n",
        "mu = 4.0\n",
        "mu = 5.0"
       ]
      },
      {
       "output_type": "stream",
       "stream": "stdout",
       "text": [
        "\n",
        "mu = 6.0\n",
        "mu = 7.0\n",
        "mu = 8.0"
       ]
      },
      {
       "output_type": "stream",
       "stream": "stdout",
       "text": [
        "\n",
        "mu = 9.0\n",
        "mu = 10.0\n",
        "mu = 11.0"
       ]
      },
      {
       "output_type": "stream",
       "stream": "stdout",
       "text": [
        "\n",
        "mu = 12.0\n",
        "mu = 13.0"
       ]
      },
      {
       "output_type": "stream",
       "stream": "stdout",
       "text": [
        "\n",
        "mu = 14.0\n",
        "mu = 15.0"
       ]
      },
      {
       "output_type": "stream",
       "stream": "stdout",
       "text": [
        "\n",
        "mu = 16.0\n",
        "mu = 17.0\n",
        "mu = 18.0"
       ]
      },
      {
       "output_type": "stream",
       "stream": "stdout",
       "text": [
        "\n",
        "mu = 19.0\n",
        "mu = 20.0\n",
        "mu = 21.0"
       ]
      },
      {
       "output_type": "stream",
       "stream": "stdout",
       "text": [
        "\n",
        "mu = 22.0\n",
        "mu = 23.0\n",
        "mu = 24.0"
       ]
      },
      {
       "output_type": "stream",
       "stream": "stdout",
       "text": [
        "\n",
        "mu = 25.0\n",
        "mu = 26.0\n",
        "mu = 27.0"
       ]
      },
      {
       "output_type": "stream",
       "stream": "stdout",
       "text": [
        "\n",
        "mu = 28.0\n",
        "mu = 29.0\n",
        "mu = 30.0"
       ]
      },
      {
       "output_type": "stream",
       "stream": "stdout",
       "text": [
        "\n",
        "mu = 31.0\n",
        "mu = 32.0\n",
        "mu = 33.0"
       ]
      },
      {
       "output_type": "stream",
       "stream": "stdout",
       "text": [
        "\n",
        "mu = 34.0\n",
        "mu = 35.0\n",
        "mu = 36.0"
       ]
      },
      {
       "output_type": "stream",
       "stream": "stdout",
       "text": [
        "\n",
        "mu = 37.0\n",
        "mu = 38.0\n",
        "mu = 39.0"
       ]
      },
      {
       "output_type": "stream",
       "stream": "stdout",
       "text": [
        "\n",
        "mu = 40.0\n",
        "mu = 41.0\n",
        "mu = 42.0"
       ]
      },
      {
       "output_type": "stream",
       "stream": "stdout",
       "text": [
        "\n",
        "mu = 43.0\n",
        "mu = 44.0\n",
        "mu = 45.0"
       ]
      },
      {
       "output_type": "stream",
       "stream": "stdout",
       "text": [
        "\n",
        "mu = 46.0\n",
        "mu = 47.0\n",
        "mu = 48.0"
       ]
      },
      {
       "output_type": "stream",
       "stream": "stdout",
       "text": [
        "\n",
        "mu = 49.0\n",
        "mu = 50.0"
       ]
      },
      {
       "output_type": "stream",
       "stream": "stdout",
       "text": [
        "\n",
        "mu = 51.0\n",
        "mu = 52.0\n",
        "mu = 53.0"
       ]
      },
      {
       "output_type": "stream",
       "stream": "stdout",
       "text": [
        "\n",
        "mu = 54.0\n",
        "mu = 55.0\n",
        "mu = 56.0"
       ]
      },
      {
       "output_type": "stream",
       "stream": "stdout",
       "text": [
        "\n",
        "mu = 57.0\n",
        "mu = 58.0\n",
        "mu = 59.0"
       ]
      },
      {
       "output_type": "stream",
       "stream": "stdout",
       "text": [
        "\n",
        "mu = 60.0\n",
        "mu = 61.0\n",
        "mu = 62.0"
       ]
      },
      {
       "output_type": "stream",
       "stream": "stdout",
       "text": [
        "\n",
        "mu = 63.0\n",
        "mu = 64.0\n",
        "mu = 65.0"
       ]
      },
      {
       "output_type": "stream",
       "stream": "stdout",
       "text": [
        "\n",
        "mu = 66.0\n",
        "mu = 67.0\n",
        "mu = 68.0"
       ]
      },
      {
       "output_type": "stream",
       "stream": "stdout",
       "text": [
        "\n",
        "mu = 69.0\n",
        "mu = 70.0\n",
        "mu = 71.0"
       ]
      },
      {
       "output_type": "stream",
       "stream": "stdout",
       "text": [
        "\n",
        "mu = 72.0\n",
        "mu = 73.0\n",
        "mu = 74.0"
       ]
      },
      {
       "output_type": "stream",
       "stream": "stdout",
       "text": [
        "\n",
        "mu = 75.0\n",
        "mu = 76.0\n",
        "mu = 77.0"
       ]
      },
      {
       "output_type": "stream",
       "stream": "stdout",
       "text": [
        "\n",
        "mu = 78.0\n",
        "mu = 79.0\n",
        "mu = 80.0"
       ]
      },
      {
       "output_type": "stream",
       "stream": "stdout",
       "text": [
        "\n",
        "mu = 81.0\n",
        "mu = 82.0\n",
        "mu = 83.0"
       ]
      },
      {
       "output_type": "stream",
       "stream": "stdout",
       "text": [
        "\n",
        "mu = 84.0\n",
        "mu = 85.0\n",
        "mu = 86.0"
       ]
      },
      {
       "output_type": "stream",
       "stream": "stdout",
       "text": [
        "\n",
        "mu = 87.0\n",
        "mu = 88.0\n",
        "mu = 89.0"
       ]
      },
      {
       "output_type": "stream",
       "stream": "stdout",
       "text": [
        "\n",
        "mu = 90.0\n",
        "mu = 91.0\n",
        "mu = 92.0"
       ]
      },
      {
       "output_type": "stream",
       "stream": "stdout",
       "text": [
        "\n",
        "mu = 93.0\n",
        "mu = 94.0\n",
        "mu = 95.0"
       ]
      },
      {
       "output_type": "stream",
       "stream": "stdout",
       "text": [
        "\n",
        "mu = 96.0\n",
        "mu = 97.0\n",
        "mu = 98.0"
       ]
      },
      {
       "output_type": "stream",
       "stream": "stdout",
       "text": [
        "\n",
        "mu = 99.0\n",
        "mu = 100.0\n",
        "mu = 101.0"
       ]
      },
      {
       "output_type": "stream",
       "stream": "stdout",
       "text": [
        "\n",
        "mu = 102.0\n",
        "mu = 103.0\n",
        "mu = 104.0"
       ]
      },
      {
       "output_type": "stream",
       "stream": "stdout",
       "text": [
        "\n",
        "mu = 105.0\n",
        "mu = 106.0\n",
        "mu = 107.0"
       ]
      },
      {
       "output_type": "stream",
       "stream": "stdout",
       "text": [
        "\n",
        "mu = 108.0\n",
        "mu = 109.0"
       ]
      },
      {
       "output_type": "stream",
       "stream": "stdout",
       "text": [
        "\n",
        "mu = 110.0\n",
        "mu = 111.0\n",
        "mu = 112.0"
       ]
      },
      {
       "output_type": "stream",
       "stream": "stdout",
       "text": [
        "\n",
        "mu = 113.0\n",
        "mu = 114.0"
       ]
      },
      {
       "output_type": "stream",
       "stream": "stdout",
       "text": [
        "\n",
        "mu = 115.0\n",
        "mu = 116.0\n",
        "mu = 117.0"
       ]
      },
      {
       "output_type": "stream",
       "stream": "stdout",
       "text": [
        "\n",
        "mu = 118.0\n",
        "mu = 119.0\n",
        "mu = 120.0"
       ]
      },
      {
       "output_type": "stream",
       "stream": "stdout",
       "text": [
        "\n",
        "mu = 121.0\n",
        "mu = 122.0\n",
        "mu = 123.0"
       ]
      },
      {
       "output_type": "stream",
       "stream": "stdout",
       "text": [
        "\n",
        "mu = 124.0\n",
        "mu = 125.0"
       ]
      },
      {
       "output_type": "stream",
       "stream": "stdout",
       "text": [
        "\n",
        "mu = 126.0\n",
        "mu = 127.0"
       ]
      },
      {
       "output_type": "stream",
       "stream": "stdout",
       "text": [
        "\n",
        "mu = 128.0\n",
        "mu = 129.0"
       ]
      },
      {
       "output_type": "stream",
       "stream": "stdout",
       "text": [
        "\n",
        "mu = 130.0\n",
        "mu = 131.0\n",
        "mu = 132.0"
       ]
      },
      {
       "output_type": "stream",
       "stream": "stdout",
       "text": [
        "\n",
        "mu = 133.0\n",
        "mu = 134.0"
       ]
      },
      {
       "output_type": "stream",
       "stream": "stdout",
       "text": [
        "\n",
        "mu = 135.0\n",
        "mu = 136.0\n",
        "mu = 137.0"
       ]
      },
      {
       "output_type": "stream",
       "stream": "stdout",
       "text": [
        "\n",
        "mu = 138.0\n",
        "mu = 139.0\n"
       ]
      }
     ],
     "prompt_number": 18
    },
    {
     "cell_type": "code",
     "collapsed": false,
     "input": [
      "#Imprima a popula\u00e7\u00e3o final\n",
      "DR = [0]\n",
      "D1 = [5]\n",
      "D2 = [5]\n",
      "MU = [0.0 + i for i in range(0,140)]\n",
      "m = 1.0\n",
      "gamma = 0.5\n",
      "alpha = 1\n",
      "beta = 1\n",
      "phi = 1.0\n",
      "\n",
      "Bfinal = []\n",
      "A1final = []\n",
      "A2final = []\n",
      "t = np.linspace(0,Tmax,N)\n",
      "for d_r in DR:\n",
      "    for d_1 in D1:\n",
      "        for d_2 in D2:\n",
      "            for mu in MU:\n",
      "                sol = np.load('Var_Method_IGP_dR=%.3f,d1=%.3f,d2=%.3f,mu=%.3f,alpha=%.3f,gamma=%.3f,beta=%.f,phi=%.3f,m=%.3f.npy'\n",
      "                              % (d_r,d_1,d_2,mu,alpha,gamma,beta,phi,m))\n",
      "                B1 = np.transpose(sol[:,0])\n",
      "                B2 = np.transpose(sol[:,1])\n",
      "                A1 = np.transpose(sol[:,2])\n",
      "                A2 = np.transpose(sol[:,3])\n",
      "                Bfinal.append(B1[-1] - B2[-1])\n",
      "                A1final.append(A1[-1])\n",
      "                A2final.append(A2[-1])\n",
      "\n",
      "plt.plot(MU,Bfinal, color = 'green', label = r'$B_1 - B_2$')\n",
      "plt.plot(MU,A1final,color = 'blue', label = r'$A_1$')\n",
      "plt.plot(MU,A2final,color = 'red', label = r'$A_2$')\n",
      "plt.xlabel(r\"$\\mu'$\")\n",
      "#plt.legend(loc = 'best')\n",
      "plt.title(r'Pop. Finais $d_R$=%.1f, $d_C$=%.1f' % (d_r,d_1))\n",
      "plt.axis([0,140,0,20])"
     ],
     "language": "python",
     "metadata": {},
     "outputs": [
      {
       "metadata": {},
       "output_type": "pyout",
       "prompt_number": 21,
       "text": [
        "[0, 140, 0, 20]"
       ]
      },
      {
       "metadata": {},
       "output_type": "display_data",
       "png": "[encoded data removed]",
       "text": [
        "<matplotlib.figure.Figure at 0x7fd83ab8abd0>"
       ]
      }
     ],
     "prompt_number": 21
    },
    {
     "cell_type": "code",
     "collapsed": false,
     "input": [
      "d_r = 5\n",
      "d_1 = 12\n",
      "d_2 = 5\n",
      "print(mu_1(),mu_2(),mu_3())"
     ],
     "language": "python",
     "metadata": {},
     "outputs": [
      {
       "output_type": "stream",
       "stream": "stdout",
       "text": [
        "(72.17148218296593, 66.15719200105211, 55.51652475612765)\n"
       ]
      }
     ],
     "prompt_number": 174
    },
    {
     "cell_type": "code",
     "collapsed": false,
     "input": [
      "\n"
     ],
     "language": "python",
     "metadata": {},
     "outputs": [],
     "prompt_number": 13
    },
    {
     "cell_type": "code",
     "collapsed": false,
     "input": [],
     "language": "python",
     "metadata": {},
     "outputs": []
    }
   ],
   "metadata": {}
  }
 ]
}
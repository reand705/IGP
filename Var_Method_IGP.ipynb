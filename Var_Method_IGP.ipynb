{
 "metadata": {
  "name": "",
  "signature": "sha256:5aaf0ff05665f9df04032d7cebc79fbf43c44251c9c622a9addab127f81c8825"
 },
 "nbformat": 3,
 "nbformat_minor": 0,
 "worksheets": [
  {
   "cells": [
    {
     "cell_type": "code",
     "collapsed": false,
     "input": [
      "# -*- coding: utf-8 -*-\n",
      "# <nbformat>3.0</nbformat>\n",
      "\n",
      "# <codecell>\n",
      "\n",
      "# coding: utf-8\n",
      "%matplotlib inline\n",
      "import matplotlib\n",
      "import scipy.integrate\n",
      "from scipy.stats import norm\n",
      "import numpy as np\n",
      "import matplotlib.pyplot as plt\n",
      "from matplotlib import rc ## desnecess\u00e1rio\n",
      "matplotlib.rcParams['text.usetex'] = True\n",
      "matplotlib.rcParams.update({'font.size': 18})"
     ],
     "language": "python",
     "metadata": {},
     "outputs": [],
     "prompt_number": 1
    },
    {
     "cell_type": "code",
     "collapsed": false,
     "input": [
      "#Par\u00e2metros\n",
      "d_1 = 0.05\n",
      "d_2 = 0.05\n",
      "d_r = 0.05\n",
      "m = 0.75\n",
      "mu = 133\n",
      "gamma = 0.5\n",
      "alpha = 0.1\n",
      "beta = 2.0\n",
      "phi = 0.25\n",
      "\n",
      "#Discret tempo\n",
      "Tmax = 200\n",
      "N = 2000"
     ],
     "language": "python",
     "metadata": {},
     "outputs": [],
     "prompt_number": 91
    },
    {
     "cell_type": "code",
     "collapsed": false,
     "input": [
      "#Popula\u00e7\u00f5es Iniciais\n",
      "def init():\n",
      "    b10 = 1.0\n",
      "    a10 = 1.0\n",
      "    a20 = 1.0\n",
      "    return b10, a10, a20"
     ],
     "language": "python",
     "metadata": {},
     "outputs": [],
     "prompt_number": 9
    },
    {
     "cell_type": "code",
     "collapsed": false,
     "input": [
      "#lado direito das edos\n",
      "def ddt(y, t):\n",
      "    np.shape(y)\n",
      "    B1 = y[0]\n",
      "    A1 = y[1]\n",
      "    A2 = y[2]\n",
      "    \n",
      "    dB1dt = 4*mu/np.pi - B1*(phi + 8*(A1+A2)/(3*np.pi) + d_r)\n",
      "    dA1dt = A1*(8*B1/(3*np.pi) - 1 - alpha*8*A2/(3*np.pi) - d_1)\n",
      "    dA2dt = A2*(8*m*gamma*B1/(3*np.pi) - m + 8*beta*alpha*A1/(3*np.pi) - d_2)\n",
      "    \n",
      "    return np.r_[dB1dt,dA1dt,dA2dt]"
     ],
     "language": "python",
     "metadata": {},
     "outputs": [],
     "prompt_number": 4
    },
    {
     "cell_type": "code",
     "collapsed": false,
     "input": [
      "#Fun\u00e7\u00f5es que calculam os mu_i\n",
      "def mu_1():\n",
      "    #R Difunde: R = B1*sin(x) \n",
      "    if d_r > 0:\n",
      "        return 3*(np.pi**2)*(phi+d_r)*(1+d_1)/32\n",
      "\n",
      "def mu_2():\n",
      "    #R Difunde: R = B1*sin(x) \n",
      "    if d_r > 0:\n",
      "        return (3*np.pi**2)*(m + d_2 - m*gamma*(1+d_1))*(1+d_1)/(32*beta*alpha) + (3*np.pi**2)*(phi+d_r)*(1+d_1)/32\n",
      "        #return (3*np.pi**2)*(1 + d_1)*(d_2 + m + beta*alpha*(phi + d_r) - m*gamma*(1+d_1))/(32*beta*alpha)\n",
      "\n",
      "def mu_3():\n",
      "    #R Difunde: R = B1*sin(x) \n",
      "    if d_r > 0:\n",
      "        return (3*np.pi**2)*(m + d_2)*((m+d_2)/(m*gamma) - 1 - d_1)/(32*m*gamma*alpha) + (3*np.pi**2)*(m + d_2)*(phi+d_r)/(32*m*gamma)"
     ],
     "language": "python",
     "metadata": {},
     "outputs": [],
     "prompt_number": 139
    },
    {
     "cell_type": "code",
     "collapsed": false,
     "input": [
      "#Integre aqui\n",
      "d_r = 5\n",
      "d_1 = 5\n",
      "d_2 = 5\n",
      "mu = 51\n",
      "m = 1.0\n",
      "gamma = 0.5\n",
      "alpha = 1\n",
      "beta = 1\n",
      "phi = 1.0\n",
      "t = np.linspace(0,Tmax,N)\n",
      "#pop inicial\n",
      "B10,A10,A20 = init()\n",
      "y0 = np.r_[B10,A10,A20]\n",
      "sol = scipy.integrate.odeint(ddt,y0,t)\n",
      "sol = np.array(sol)"
     ],
     "language": "python",
     "metadata": {},
     "outputs": [],
     "prompt_number": 153
    },
    {
     "cell_type": "code",
     "collapsed": false,
     "input": [
      "np.shape(sol)\n",
      "B1 = sol[:,0]\n",
      "A1 = sol[:,1]\n",
      "A2 = sol[:,2]\n",
      "plt.plot(t,B1, color = 'green')\n",
      "plt.plot(t,A1, color = 'blue')\n",
      "plt.plot(t,A2, color = 'red')\n",
      "plt.axis([0,Tmax,0,20])"
     ],
     "language": "python",
     "metadata": {},
     "outputs": [
      {
       "metadata": {},
       "output_type": "pyout",
       "prompt_number": 154,
       "text": [
        "[0, 200, 0, 20]"
       ]
      },
      {
       "metadata": {},
       "output_type": "display_data",
       "png": "[encoded data removed]",
       "text": [
        "<matplotlib.figure.Figure at 0x7fdf468b5290>"
       ]
      }
     ],
     "prompt_number": 154
    },
    {
     "cell_type": "code",
     "collapsed": false,
     "input": [
      "#Fa\u00e7a para v\u00e1rios dR, d1, d2\n",
      "DR = [5]\n",
      "D1 = [11]\n",
      "D2 = [5]\n",
      "MU = [0.0 + i for i in range(0,140)]\n",
      "t = np.linspace(0,Tmax,N)\n",
      "m = 1.0\n",
      "gamma = 0.5\n",
      "alpha = 1\n",
      "beta = 1\n",
      "phi = 1.0\n",
      "#pop inicial\n",
      "B10,A10,A20 = init()\n",
      "y0 = np.r_[B10,A10,A20]\n",
      "for d_r in DR:\n",
      "    print(\"d_r = \" + str(d_r))\n",
      "    for d_1 in D1:\n",
      "        print(\"d_1 = \" + str(d_1))\n",
      "        for d_2 in D2:\n",
      "            print(\"d_2 = \" + str(d_2))\n",
      "            for mu in MU:\n",
      "                print(\"mu = \" + str(mu))\n",
      "                sol = scipy.integrate.odeint(ddt,y0,t)\n",
      "                sol = np.array(sol)\n",
      "                np.save('Var_Method_IGP_dR=%.3f,d1=%.3f,d2=%.3f,mu=%.3f,alpha=%.3f,gamma=%.3f,beta=%.f,phi=%.3f,m=%.3f'\n",
      "                        % (d_r,d_1,d_2,mu,alpha,gamma,beta,phi,m),sol)"
     ],
     "language": "python",
     "metadata": {},
     "outputs": [
      {
       "output_type": "stream",
       "stream": "stdout",
       "text": [
        "d_r = 5\n",
        "d_1 = 11\n",
        "d_2 = 5\n",
        "mu = 0.0\n",
        "mu = 1.0\n",
        "mu = 2.0\n",
        "mu = 3.0\n",
        "mu = 4.0"
       ]
      },
      {
       "output_type": "stream",
       "stream": "stdout",
       "text": [
        "\n",
        "mu = 5.0\n",
        "mu = 6.0\n",
        "mu = 7.0"
       ]
      },
      {
       "output_type": "stream",
       "stream": "stdout",
       "text": [
        "\n",
        "mu = 8.0\n",
        "mu = 9.0\n",
        "mu = 10.0"
       ]
      },
      {
       "output_type": "stream",
       "stream": "stdout",
       "text": [
        "\n",
        "mu = 11.0\n",
        "mu = 12.0\n",
        "mu = 13.0\n",
        "mu = 14.0"
       ]
      },
      {
       "output_type": "stream",
       "stream": "stdout",
       "text": [
        "\n",
        "mu = 15.0\n",
        "mu = 16.0\n",
        "mu = 17.0\n",
        "mu = 18.0\n",
        "mu = 19.0"
       ]
      },
      {
       "output_type": "stream",
       "stream": "stdout",
       "text": [
        "\n",
        "mu = 20.0\n",
        "mu = 21.0\n",
        "mu = 22.0\n",
        "mu = 23.0\n",
        "mu = 24.0"
       ]
      },
      {
       "output_type": "stream",
       "stream": "stdout",
       "text": [
        "\n",
        "mu = 25.0\n",
        "mu = 26.0\n",
        "mu = 27.0\n",
        "mu = 28.0\n",
        "mu = 29.0"
       ]
      },
      {
       "output_type": "stream",
       "stream": "stdout",
       "text": [
        "\n",
        "mu = 30.0\n",
        "mu = 31.0\n",
        "mu = 32.0\n",
        "mu = 33.0\n",
        "mu = 34.0"
       ]
      },
      {
       "output_type": "stream",
       "stream": "stdout",
       "text": [
        "\n",
        "mu = 35.0\n",
        "mu = 36.0\n",
        "mu = 37.0\n",
        "mu = 38.0\n",
        "mu = 39.0"
       ]
      },
      {
       "output_type": "stream",
       "stream": "stdout",
       "text": [
        "\n",
        "mu = 40.0\n",
        "mu = 41.0\n",
        "mu = 42.0\n",
        "mu = 43.0\n",
        "mu = 44.0"
       ]
      },
      {
       "output_type": "stream",
       "stream": "stdout",
       "text": [
        "\n",
        "mu = 45.0\n",
        "mu = 46.0\n",
        "mu = 47.0\n",
        "mu = 48.0\n",
        "mu = 49.0"
       ]
      },
      {
       "output_type": "stream",
       "stream": "stdout",
       "text": [
        "\n",
        "mu = 50.0\n",
        "mu = 51.0\n",
        "mu = 52.0\n",
        "mu = 53.0"
       ]
      },
      {
       "output_type": "stream",
       "stream": "stdout",
       "text": [
        "\n",
        "mu = 54.0\n",
        "mu = 55.0\n",
        "mu = 56.0\n",
        "mu = 57.0"
       ]
      },
      {
       "output_type": "stream",
       "stream": "stdout",
       "text": [
        "\n",
        "mu = 58.0\n",
        "mu = 59.0\n",
        "mu = 60.0\n",
        "mu = 61.0"
       ]
      },
      {
       "output_type": "stream",
       "stream": "stdout",
       "text": [
        "\n",
        "mu = 62.0\n",
        "mu = 63.0\n",
        "mu = 64.0"
       ]
      },
      {
       "output_type": "stream",
       "stream": "stdout",
       "text": [
        "\n",
        "mu = 65.0\n",
        "mu = 66.0\n",
        "mu = 67.0"
       ]
      },
      {
       "output_type": "stream",
       "stream": "stdout",
       "text": [
        "\n",
        "mu = 68.0\n",
        "mu = 69.0"
       ]
      },
      {
       "output_type": "stream",
       "stream": "stdout",
       "text": [
        "\n",
        "mu = 70.0\n",
        "mu = 71.0\n",
        "mu = 72.0"
       ]
      },
      {
       "output_type": "stream",
       "stream": "stdout",
       "text": [
        "\n",
        "mu = 73.0\n",
        "mu = 74.0\n",
        "mu = 75.0"
       ]
      },
      {
       "output_type": "stream",
       "stream": "stdout",
       "text": [
        "\n",
        "mu = 76.0\n",
        "mu = 77.0\n",
        "mu = 78.0"
       ]
      },
      {
       "output_type": "stream",
       "stream": "stdout",
       "text": [
        "\n",
        "mu = 79.0\n",
        "mu = 80.0\n",
        "mu = 81.0\n",
        "mu = 82.0"
       ]
      },
      {
       "output_type": "stream",
       "stream": "stdout",
       "text": [
        "\n",
        "mu = 83.0\n",
        "mu = 84.0\n",
        "mu = 85.0\n",
        "mu = 86.0"
       ]
      },
      {
       "output_type": "stream",
       "stream": "stdout",
       "text": [
        "\n",
        "mu = 87.0\n",
        "mu = 88.0\n",
        "mu = 89.0\n",
        "mu = 90.0"
       ]
      },
      {
       "output_type": "stream",
       "stream": "stdout",
       "text": [
        "\n",
        "mu = 91.0\n",
        "mu = 92.0\n",
        "mu = 93.0\n",
        "mu = 94.0"
       ]
      },
      {
       "output_type": "stream",
       "stream": "stdout",
       "text": [
        "\n",
        "mu = 95.0\n",
        "mu = 96.0\n",
        "mu = 97.0\n",
        "mu = 98.0"
       ]
      },
      {
       "output_type": "stream",
       "stream": "stdout",
       "text": [
        "\n",
        "mu = 99.0\n",
        "mu = 100.0\n",
        "mu = 101.0\n",
        "mu = 102.0"
       ]
      },
      {
       "output_type": "stream",
       "stream": "stdout",
       "text": [
        "\n",
        "mu = 103.0\n",
        "mu = 104.0\n",
        "mu = 105.0\n",
        "mu = 106.0"
       ]
      },
      {
       "output_type": "stream",
       "stream": "stdout",
       "text": [
        "\n",
        "mu = 107.0\n",
        "mu = 108.0\n",
        "mu = 109.0\n",
        "mu = 110.0"
       ]
      },
      {
       "output_type": "stream",
       "stream": "stdout",
       "text": [
        "\n",
        "mu = 111.0\n",
        "mu = 112.0\n",
        "mu = 113.0\n",
        "mu = 114.0"
       ]
      },
      {
       "output_type": "stream",
       "stream": "stdout",
       "text": [
        "\n",
        "mu = 115.0\n",
        "mu = 116.0\n",
        "mu = 117.0\n",
        "mu = 118.0"
       ]
      },
      {
       "output_type": "stream",
       "stream": "stdout",
       "text": [
        "\n",
        "mu = 119.0\n",
        "mu = 120.0\n",
        "mu = 121.0\n",
        "mu = 122.0"
       ]
      },
      {
       "output_type": "stream",
       "stream": "stdout",
       "text": [
        "\n",
        "mu = 123.0\n",
        "mu = 124.0\n",
        "mu = 125.0\n",
        "mu = 126.0"
       ]
      },
      {
       "output_type": "stream",
       "stream": "stdout",
       "text": [
        "\n",
        "mu = 127.0\n",
        "mu = 128.0\n",
        "mu = 129.0\n",
        "mu = 130.0"
       ]
      },
      {
       "output_type": "stream",
       "stream": "stdout",
       "text": [
        "\n",
        "mu = 131.0\n",
        "mu = 132.0\n",
        "mu = 133.0\n",
        "mu = 134.0"
       ]
      },
      {
       "output_type": "stream",
       "stream": "stdout",
       "text": [
        "\n",
        "mu = 135.0\n",
        "mu = 136.0\n",
        "mu = 137.0\n",
        "mu = 138.0"
       ]
      },
      {
       "output_type": "stream",
       "stream": "stdout",
       "text": [
        "\n",
        "mu = 139.0\n"
       ]
      }
     ],
     "prompt_number": 170
    },
    {
     "cell_type": "code",
     "collapsed": false,
     "input": [
      "#Imprima a popula\u00e7\u00e3o final\n",
      "DR = [5]\n",
      "D1 = [11]\n",
      "D2 = [5]\n",
      "MU = [0.0 + i for i in range(0,140)]\n",
      "m = 1.0\n",
      "gamma = 0.5\n",
      "alpha = 1\n",
      "beta = 1\n",
      "phi = 1.0\n",
      "\n",
      "B1final = []\n",
      "A1final = []\n",
      "A2final = []\n",
      "t = np.linspace(0,Tmax,N)\n",
      "for d_r in DR:\n",
      "    for d_1 in D1:\n",
      "        for d_2 in D2:\n",
      "            for mu in MU:\n",
      "                sol = np.load('Var_Method_IGP_dR=%.3f,d1=%.3f,d2=%.3f,mu=%.3f,alpha=%.3f,gamma=%.3f,beta=%.f,phi=%.3f,m=%.3f.npy'\n",
      "                              % (d_r,d_1,d_2,mu,alpha,gamma,beta,phi,m))\n",
      "                B1 = np.transpose(sol[:,0])\n",
      "                A1 = np.transpose(sol[:,1])\n",
      "                A2 = np.transpose(sol[:,2])\n",
      "                B1final.append(B1[-1])\n",
      "                A1final.append(A1[-1])\n",
      "                A2final.append(A2[-1])\n",
      "\n",
      "plt.plot(MU,B1final,color = 'green', label = r'$B_1$')\n",
      "plt.plot(MU,A1final,color = 'blue', label = r'$A_1$')\n",
      "plt.plot(MU,A2final,color = 'red', label = r'$A_2$')\n",
      "plt.xlabel(r\"$\\mu'$\")\n",
      "#plt.legend(loc = 'best')\n",
      "plt.title(r'Pop. Finais $d_R$=%.1f, $d_C$=%.1f' % (d_r,d_1))\n",
      "plt.axis([0,140,0,10])\n",
      "\n",
      "print(mu_1(),mu_2(),mu_3())"
     ],
     "language": "python",
     "metadata": {},
     "outputs": [
      {
       "output_type": "stream",
       "stream": "stdout",
       "text": [
        "(66.61982970735318, 66.61982970735318, 66.61982970735318)\n"
       ]
      },
      {
       "metadata": {},
       "output_type": "display_data",
       "png": "[encoded data removed]",
       "text": [
        "<matplotlib.figure.Figure at 0x7fdf46782ed0>"
       ]
      }
     ],
     "prompt_number": 171
    },
    {
     "cell_type": "code",
     "collapsed": false,
     "input": [
      "d_r = 5\n",
      "d_1 = 12\n",
      "d_2 = 5\n",
      "print(mu_1(),mu_2(),mu_3())"
     ],
     "language": "python",
     "metadata": {},
     "outputs": [
      {
       "output_type": "stream",
       "stream": "stdout",
       "text": [
        "(72.17148218296593, 66.15719200105211, 55.51652475612765)\n"
       ]
      }
     ],
     "prompt_number": 174
    },
    {
     "cell_type": "code",
     "collapsed": false,
     "input": [
      "\n"
     ],
     "language": "python",
     "metadata": {},
     "outputs": [],
     "prompt_number": 13
    },
    {
     "cell_type": "code",
     "collapsed": false,
     "input": [],
     "language": "python",
     "metadata": {},
     "outputs": []
    }
   ],
   "metadata": {}
  }
 ]
}
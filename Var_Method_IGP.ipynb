{
 "metadata": {
  "kernelspec": {
   "display_name": "Python 2",
   "language": "python",
   "name": "python2"
  },
  "language_info": {
   "codemirror_mode": {
    "name": "ipython",
    "version": 2
   },
   "file_extension": ".py",
   "mimetype": "text/x-python",
   "name": "python",
   "nbconvert_exporter": "python",
   "pygments_lexer": "ipython2",
   "version": "2.7.12"
  },
  "name": "",
  "signature": "sha256:5e50af39b3c333064c4fe199f688e5007585a712e138b2eb3c6f225ecb21def9"
 },
 "nbformat": 3,
 "nbformat_minor": 0,
 "worksheets": [
  {
   "cells": [
    {
     "cell_type": "code",
     "collapsed": false,
     "input": [
      "# -*- coding: utf-8 -*-\n",
      "# <nbformat>3.0</nbformat>\n",
      "\n",
      "# <codecell>\n",
      "\n",
      "# coding: utf-8\n",
      "%matplotlib inline\n",
      "import matplotlib\n",
      "import scipy.integrate\n",
      "from scipy.stats import norm\n",
      "import numpy as np\n",
      "import matplotlib.pyplot as plt\n",
      "from matplotlib import rc ## desnecess\u00e1rio\n",
      "matplotlib.rcParams['text.usetex'] = True\n",
      "matplotlib.rcParams.update({'font.size': 18})"
     ],
     "language": "python",
     "metadata": {},
     "outputs": [],
     "prompt_number": 1
    },
    {
     "cell_type": "code",
     "collapsed": false,
     "input": [
      "#Discret tempo\n",
      "Tmax = 400\n",
      "N = 4000"
     ],
     "language": "python",
     "metadata": {},
     "outputs": [],
     "prompt_number": 2
    },
    {
     "cell_type": "code",
     "collapsed": false,
     "input": [
      "#Popula\u00e7\u00f5es Iniciais\n",
      "def init():\n",
      "    \n",
      "    #recurso difunde\n",
      "    if d_r > 0:\n",
      "        \n",
      "        #Third Order        \n",
      "        \n",
      "        u10 = 2.0\n",
      "        u20 = 0.0\n",
      "        u30 = 2.0\n",
      "        u40 = 0.0\n",
      "        u50 = 2.0\n",
      "        u60 = 0.0\n",
      "        \n",
      "        return u10, u20, u30, u40, u50, u60\n",
      "        \n",
      "        '''\n",
      "        \n",
      "        #First Order\n",
      "    \n",
      "        b10 = 1.0\n",
      "        a10 = 1.0\n",
      "        a20 = 1.0\n",
      "        return b10, a10, a20\n",
      "        \n",
      "        '''\n",
      "        \n",
      "    \n",
      "        #recurso n\u00e3o difunde\n",
      "    elif d_r == 0:\n",
      "    \n",
      "        b10 = 2.0\n",
      "        b20 = 0.0\n",
      "        a10 = 1.0\n",
      "        a20 = 1.0\n",
      "        \n",
      "        return b10, b20, a10, a20 "
     ],
     "language": "python",
     "metadata": {},
     "outputs": [],
     "prompt_number": 47
    },
    {
     "cell_type": "code",
     "collapsed": false,
     "input": [
      "#lado direito das edos\n",
      "def ddt(y, t):\n",
      "    \n",
      "    #recurso difunde\n",
      "    if d_r > 0:\n",
      "\n",
      "        \n",
      "        U1 = y[0]\n",
      "        U2 = y[1]\n",
      "        U3 = y[2]\n",
      "        U4 = y[3]\n",
      "        U5 = y[4]\n",
      "        U6 = y[5]\n",
      "        \n",
      "        #Third Order\n",
      "        \n",
      "        dU1dt = (4*(105*mu + 2*U2*(7*U3 - 27*U4 + 7*U5 - 27*U6)) - \n",
      "        7*U1*(15*d_r*np.pi + 15*phi*np.pi + 40*U3 - 8*U4 + 40*U5 - 8*U6))/(105.*np.pi)\n",
      "        \n",
      "        dU2dt = (12*(35*mu + 2*U1*(7*U3 - 27*U4 + 7*U5 - 27*U6)) - \n",
      "        U2*(2835*d_r*np.pi + 315*phi*np.pi + 648*U3 + 280*U4 + 648*U5 + 280*U6))/(315.*np.pi)\n",
      "        \n",
      "        dU3dt = (8*U4*(-7*U1 + 27*U2 + 7*alpha*U5 - 27*alpha*U6) - \n",
      "        7*U3*(15*np.pi + 15*d_1*np.pi - 40*U1 + 8*U2 + 40*alpha*U5 - 8*alpha*U6))/(105.*np.pi)\n",
      "        \n",
      "        dU4dt = -(24*U1*(7*U3 - 27*U4) + 315*np.pi*U4 + 2835*d_1*np.pi*U4 - \n",
      "        8*U2*(81*U3 + 35*U4) - 168*alpha*U3*U5 + 648*alpha*U4*U5 + 648*alpha*U3*U6 + \n",
      "        280*alpha*U4*U6)/(315.*np.pi)\n",
      "         \n",
      "        dU5dt = -(7*(15*d_2*np.pi + 15*m*np.pi - 40*gamma*m*U1 + 8*gamma*m*U2 - 40*alpha*beta*U3 + 8*alpha*beta*U4)*U5 + \n",
      "        8*(7*gamma*m*U1 - 27*gamma*m*U2 + 7*alpha*beta*U3 - 27*alpha*beta*U4)*U6)/(105.*np.pi)\n",
      "         \n",
      "        dU6dt = (-168*alpha*beta*U3*U5 + 648*alpha*beta*U4*U5 - \n",
      "        24*gamma*m*U1*(7*U5 - 27*U6) - 2835*d_2*np.pi*U6 - 315*m*np.pi*U6 + 648*alpha*beta*U3*U6 + \n",
      "        280*alpha*beta*U4*U6 + 8*gamma*m*U2*(81*U5 + 35*U6))/(315.*np.pi)\n",
      "        \n",
      "        return np.r_[dU1dt,dU2dt,dU3dt,dU4dt,dU5dt,dU6dt]\n",
      "        \n",
      "        '''\n",
      "        #First Order\n",
      "        \n",
      "        B1 = y[0]\n",
      "        A1 = y[1]\n",
      "        A2 = y[2]\n",
      "    \n",
      "        dB1dt = 4*mu/np.pi - B1*(phi + 8*(A1+A2)/(3*np.pi) + d_r)\n",
      "        dA1dt = A1*(8*B1/(3*np.pi) - 1 - alpha*8*A2/(3*np.pi) - d_1)\n",
      "        dA2dt = A2*(8*m*gamma*B1/(3*np.pi) - m + 8*beta*alpha*A1/(3*np.pi) - d_2)\n",
      "        \n",
      "        return np.r_[dB1dt,dA1dt,dA2dt]\n",
      "        \n",
      "        '''\n",
      "        \n",
      "        \n",
      "    #recurso n\u00e3o difunde\n",
      "    \n",
      "    elif d_r == 0:\n",
      "        \n",
      "        B1 = y[0]\n",
      "        B2 = y[1]\n",
      "        A1 = y[2]\n",
      "        A2 = y[3]\n",
      "        \n",
      "        dB1dt = mu - phi*B1 - (32 - 3*np.pi**2)*(A1 + A2)*B2/(6*np.pi**2 - 48)\n",
      "        dB2dt = - phi*B2 + (A1 + A2)*(B1 - B2*4*np.pi/(6*np.pi**2 - 48))\n",
      "        dA1dt = A1*(B1 - (1 + d_1) - 8*B2/(3*np.pi) - alpha*8*A2/(3*np.pi))\n",
      "        dA2dt = A2*(m*gamma*(B1 - 8*B2/(3*np.pi)) - (m + d_2) + alpha*8*beta*A1/(3*np.pi))\n",
      "    \n",
      "    \n",
      "        return np.r_[dB1dt,dB2dt,dA1dt,dA2dt]"
     ],
     "language": "python",
     "metadata": {},
     "outputs": [],
     "prompt_number": 40
    },
    {
     "cell_type": "code",
     "collapsed": false,
     "input": [
      "#Fun\u00e7\u00f5es que calculam os mu_i\n",
      "def mu_1():\n",
      "    #R Difunde: R = B1*sin(x) \n",
      "    if d_r > 0:\n",
      "        return 3*(np.pi**2)*(phi+d_r)*(1+d_1)/32\n",
      "    elif d_r == 0:\n",
      "        return phi*(1+d_1)\n",
      "\n",
      "def mu_2():\n",
      "    #R Difunde: R = B1*sin(x) \n",
      "    if d_r > 0:\n",
      "        return (3*np.pi**2)*(m + d_2 - m*gamma*(1+d_1))*(1+d_1)/(32*beta*alpha) + (3*np.pi**2)*(phi+d_r)*(1+d_1)/32\n",
      "        #return (3*np.pi**2)*(1 + d_1)*(d_2 + m + beta*alpha*(phi + d_r) - m*gamma*(1+d_1))/(32*beta*alpha)\n",
      "\n",
      "def mu_3():\n",
      "    #R Difunde: R = B1*sin(x) \n",
      "    if d_r > 0:\n",
      "        return (3*np.pi**2)*(m + d_2)*((m+d_2)/(m*gamma) - 1 - d_1)/(32*m*gamma*alpha) + (3*np.pi**2)*(m + d_2)*(phi+d_r)/(32*m*gamma)"
     ],
     "language": "python",
     "metadata": {},
     "outputs": [],
     "prompt_number": 33
    },
    {
     "cell_type": "code",
     "collapsed": false,
     "input": [
      "#Integre aqui\n",
      "DR = 1.0\n",
      "D1 = 1.0\n",
      "D2 = 5.0\n",
      "l = 0.5 + 30*0.0125\n",
      "\n",
      "d_1 = D1/(l**2) #O Numerador \u00e9 o D do modelo antes de adimensionalizar!\n",
      "d_2 = D2/(l**2)\n",
      "d_r = DR/(l**2)\n",
      "\n",
      "mu = 15\n",
      "m = 1.0\n",
      "gamma = 0.5\n",
      "alpha = 1\n",
      "beta = 8\n",
      "phi = 1.0\n",
      "t = np.linspace(0,Tmax,N)\n",
      "#pop inicial\n",
      "if d_r > 0:\n",
      "    \n",
      "    #Third Order\n",
      "    \n",
      "    U10,U20,U30,U40,U50,U60 = init()\n",
      "    y0 = np.r_[U10,U20,U30,U40,U50,U60]\n",
      "    \n",
      "    '''\n",
      "    #First Order\n",
      "    B10,A10,A20 = init()\n",
      "    y0 = np.r_[B10,A10,A20]\n",
      "    \n",
      "    '''\n",
      "\n",
      "elif d_r == 0:\n",
      "    B10,B20,A10,A20 = init()\n",
      "    y0 = np.r_[B10,B20,A10,A20]\n",
      "    \n",
      "sol = scipy.integrate.odeint(ddt,y0,t)\n",
      "sol = np.array(sol)"
     ],
     "language": "python",
     "metadata": {},
     "outputs": [],
     "prompt_number": 48
    },
    {
     "cell_type": "code",
     "collapsed": false,
     "input": [
      "DR = 1.0\n",
      "D1 = 1.0\n",
      "D2 = 5.0\n",
      "l = 0.5 + 30*0.0125\n",
      "alpha = 1.0\n",
      "beta = 8\n",
      "gamma = 0.5\n",
      "phi = 1.0\n",
      "mu = 15\n",
      "\n",
      "#sol = np.load('Var_Method_IGP_l = %.3f,DR=%.3f,D1=%.3f,D2=%.3f,mu=%.3f,gamma=%.3f,beta =%.3f.npy'\n",
      "        #% (l,DR,D1,D2,mu,gamma,beta))\n",
      "if DR > 0:\n",
      "    \n",
      "    #Third Order\n",
      "    \n",
      "    U1 = sol[:,0]\n",
      "    U2 = sol[:,1]\n",
      "    U3 = sol[:,2]\n",
      "    U4 = sol[:,3]\n",
      "    U5 = sol[:,4]\n",
      "    U6 = sol[:,5]\n",
      "    \n",
      "    plt.plot(t[-500:],U1[-500:] - U2[-500:], color = 'green')\n",
      "    plt.plot(t[-500:],U3[-500:] - U4[-500:], color = 'blue')\n",
      "    plt.plot(t[-500:],U5[-500:] - U6[-500:], color = 'red')\n",
      "    \n",
      "    '''\n",
      "    #First Order\n",
      "    \n",
      "    B1B2 = sol[:,0]\n",
      "    A1 = sol[:,1]\n",
      "    A2 = sol[:,2]\n",
      "    plt.plot(t[-500:],B1B2[-500:], color = 'green')\n",
      "    plt.plot(t[-500:],A1[-500:], color = 'blue')\n",
      "    plt.plot(t[-500:],A2[-500:], color = 'red')\n",
      "    #plt.axis([0,Tmax,0,20])\n",
      "    \n",
      "    '''\n",
      "    \n",
      "            \n",
      "if DR == 0:\n",
      "    B1 = sol[:,0]\n",
      "    B2 = sol[:,1]            \n",
      "    A1 = sol[:,2]\n",
      "    A2 = sol[:,3]\n",
      "    plt.plot(t[-500:],B1[-500:] - B2[-500:], color = 'green')\n",
      "    plt.plot(t[-500:],A1[-500:], color = 'blue')\n",
      "    plt.plot(t[-500:],A2[-500:], color = 'red')\n",
      "    #plt.axis([0,Tmax,0,20])"
     ],
     "language": "python",
     "metadata": {},
     "outputs": [
      {
       "metadata": {},
       "output_type": "display_data",
       "png": "[encoded data removed]",
       "text": [
        "<matplotlib.figure.Figure at 0x7fa7ae7a2850>"
       ]
      }
     ],
     "prompt_number": 49
    },
    {
     "cell_type": "code",
     "collapsed": false,
     "input": [
      "#Fa\u00e7a para v\u00e1rios dR, d1, d2\n",
      "DR = [0]\n",
      "D1 = [7]\n",
      "D2 = [3]\n",
      "MU = [0.0 + i for i in range(0,140)]\n",
      "t = np.linspace(0,Tmax,N)\n",
      "m = 1.0\n",
      "gamma = 0.5\n",
      "alpha = 1\n",
      "beta = 1\n",
      "phi = 1.0\n",
      "#pop inicial\n",
      "for d_r in DR:\n",
      "    print(\"d_r = \" + str(d_r))\n",
      "    for d_1 in D1:\n",
      "        print(\"d_1 = \" + str(d_1))\n",
      "        for d_2 in D2:\n",
      "            print(\"d_2 = \" + str(d_2))\n",
      "            for mu in MU:\n",
      "                print(\"mu = \" + str(mu))\n",
      "                B10,B20,A10,A20 = init()\n",
      "                y0 = np.r_[B10,B20,A10,A20]\n",
      "                sol = scipy.integrate.odeint(ddt,y0,t)\n",
      "                sol = np.array(sol)\n",
      "                np.save('Var_Method_IGP_dR=%.3f,d1=%.3f,d2=%.3f,mu=%.3f,alpha=%.3f,gamma=%.3f,beta=%.f,phi=%.3f,m=%.3f'\n",
      "                        % (d_r,d_1,d_2,mu,alpha,gamma,beta,phi,m),sol)"
     ],
     "language": "python",
     "metadata": {},
     "outputs": [
      {
       "output_type": "stream",
       "stream": "stdout",
       "text": [
        "d_r = 0\n",
        "d_1 = 7\n",
        "d_2 = 3\n",
        "mu = 0.0\n",
        "mu = 1.0\n",
        "mu = 2.0\n",
        "mu = 3.0\n",
        "mu = 4.0\n",
        "mu = 5.0\n",
        "mu = 6.0\n",
        "mu = 7.0\n",
        "mu = 8.0\n",
        "mu = 9.0\n",
        "mu = 10.0\n",
        "mu = 11.0\n",
        "mu = 12.0\n",
        "mu = 13.0\n",
        "mu = 14.0\n",
        "mu = 15.0\n",
        "mu = 16.0\n",
        "mu = 17.0\n",
        "mu = 18.0\n",
        "mu = 19.0\n",
        "mu = 20.0\n",
        "mu = 21.0\n",
        "mu = 22.0\n",
        "mu = 23.0\n",
        "mu = 24.0\n",
        "mu = 25.0\n",
        "mu = 26.0\n",
        "mu = 27.0\n",
        "mu = 28.0\n",
        "mu = 29.0\n",
        "mu = 30.0\n",
        "mu = 31.0\n",
        "mu = 32.0\n",
        "mu = 33.0\n",
        "mu = 34.0\n",
        "mu = 35.0\n",
        "mu = 36.0\n",
        "mu = 37.0\n",
        "mu = 38.0\n",
        "mu = 39.0\n",
        "mu = 40.0\n",
        "mu = 41.0\n",
        "mu = 42.0\n",
        "mu = 43.0\n",
        "mu = 44.0\n",
        "mu = 45.0\n",
        "mu = 46.0\n",
        "mu = 47.0\n",
        "mu = 48.0\n",
        "mu = 49.0\n",
        "mu = 50.0\n",
        "mu = 51.0\n",
        "mu = 52.0\n",
        "mu = 53.0\n",
        "mu = 54.0\n",
        "mu = 55.0\n",
        "mu = 56.0\n",
        "mu = 57.0\n",
        "mu = 58.0\n",
        "mu = 59.0\n",
        "mu = 60.0\n",
        "mu = 61.0\n",
        "mu = 62.0\n",
        "mu = 63.0\n",
        "mu = 64.0\n",
        "mu = 65.0\n",
        "mu = 66.0\n",
        "mu = 67.0\n",
        "mu = 68.0\n",
        "mu = 69.0\n",
        "mu = 70.0\n",
        "mu = 71.0\n",
        "mu = 72.0\n",
        "mu = 73.0\n",
        "mu = 74.0\n",
        "mu = 75.0\n",
        "mu = 76.0\n",
        "mu = 77.0\n",
        "mu = 78.0\n",
        "mu = 79.0\n",
        "mu = 80.0\n",
        "mu = 81.0\n",
        "mu = 82.0\n",
        "mu = 83.0\n",
        "mu = 84.0\n",
        "mu = 85.0\n",
        "mu = 86.0\n",
        "mu = 87.0\n",
        "mu = 88.0\n",
        "mu = 89.0\n",
        "mu = 90.0\n",
        "mu = 91.0\n",
        "mu = 92.0\n",
        "mu = 93.0\n",
        "mu = 94.0\n",
        "mu = 95.0\n",
        "mu = 96.0\n",
        "mu = 97.0\n",
        "mu = 98.0\n",
        "mu = 99.0\n",
        "mu = 100.0\n",
        "mu = 101.0\n",
        "mu = 102.0\n",
        "mu = 103.0\n",
        "mu = 104.0\n",
        "mu = 105.0\n",
        "mu = 106.0\n",
        "mu = 107.0\n",
        "mu = 108.0\n",
        "mu = 109.0\n",
        "mu = 110.0\n",
        "mu = 111.0\n",
        "mu = 112.0\n",
        "mu = 113.0\n",
        "mu = 114.0\n",
        "mu = 115.0\n",
        "mu = 116.0\n",
        "mu = 117.0\n",
        "mu = 118.0\n",
        "mu = 119.0\n",
        "mu = 120.0\n",
        "mu = 121.0\n",
        "mu = 122.0\n",
        "mu = 123.0\n",
        "mu = 124.0\n",
        "mu = 125.0\n",
        "mu = 126.0\n",
        "mu = 127.0\n",
        "mu = 128.0\n",
        "mu = 129.0\n",
        "mu = 130.0\n",
        "mu = 131.0\n",
        "mu = 132.0\n",
        "mu = 133.0\n",
        "mu = 134.0\n",
        "mu = 135.0\n",
        "mu = 136.0\n",
        "mu = 137.0\n",
        "mu = 138.0\n",
        "mu = 139.0\n"
       ]
      }
     ],
     "prompt_number": 18
    },
    {
     "cell_type": "code",
     "collapsed": false,
     "input": [
      "#Imprima a popula\u00e7\u00e3o final\n",
      "DR = [0]\n",
      "D1 = [5]\n",
      "D2 = [5]\n",
      "MU = [0.0 + i for i in range(0,140)]\n",
      "m = 1.0\n",
      "gamma = 0.5\n",
      "alpha = 1\n",
      "beta = 1\n",
      "phi = 1.0\n",
      "\n",
      "Bfinal = []\n",
      "A1final = []\n",
      "A2final = []\n",
      "t = np.linspace(0,Tmax,N)\n",
      "for d_r in DR:\n",
      "    for d_1 in D1:\n",
      "        for d_2 in D2:\n",
      "            for mu in MU:\n",
      "                sol = np.load('Var_Method_IGP_dR=%.3f,d1=%.3f,d2=%.3f,mu=%.3f,alpha=%.3f,gamma=%.3f,beta=%.f,phi=%.3f,m=%.3f.npy'\n",
      "                              % (d_r,d_1,d_2,mu,alpha,gamma,beta,phi,m))\n",
      "                B1 = np.transpose(sol[:,0])\n",
      "                B2 = np.transpose(sol[:,1])\n",
      "                A1 = np.transpose(sol[:,2])\n",
      "                A2 = np.transpose(sol[:,3])\n",
      "                Bfinal.append(B1[-1] - B2[-1])\n",
      "                A1final.append(A1[-1])\n",
      "                A2final.append(A2[-1])\n",
      "\n",
      "plt.plot(MU,Bfinal, color = 'green', label = r'$B_1 - B_2$')\n",
      "plt.plot(MU,A1final,color = 'blue', label = r'$A_1$')\n",
      "plt.plot(MU,A2final,color = 'red', label = r'$A_2$')\n",
      "plt.xlabel(r\"$\\mu'$\")\n",
      "#plt.legend(loc = 'best')\n",
      "plt.title(r'Pop. Finais $d_R$=%.1f, $d_C$=%.1f' % (d_r,d_1))\n",
      "plt.axis([0,140,0,20])"
     ],
     "language": "python",
     "metadata": {},
     "outputs": [
      {
       "metadata": {},
       "output_type": "pyout",
       "prompt_number": 21,
       "text": [
        "[0, 140, 0, 20]"
       ]
      },
      {
       "metadata": {},
       "output_type": "display_data",
       "png": "[encoded data removed]",
       "text": [
        "<matplotlib.figure.Figure at 0x7fd83ab8abd0>"
       ]
      }
     ],
     "prompt_number": 21
    },
    {
     "cell_type": "code",
     "collapsed": false,
     "input": [
      "d_r = 5\n",
      "d_1 = 12\n",
      "d_2 = 5\n",
      "print(mu_1(),mu_2(),mu_3())"
     ],
     "language": "python",
     "metadata": {},
     "outputs": [
      {
       "output_type": "stream",
       "stream": "stdout",
       "text": [
        "(72.17148218296593, 66.15719200105211, 55.51652475612765)\n"
       ]
      }
     ],
     "prompt_number": 174
    },
    {
     "cell_type": "code",
     "collapsed": false,
     "input": [
      "#Oscila\u00e7\u00f5es x L\n",
      "#Gera os dados para fazer o gr\u00e1fico L x mu\n",
      "#L' = sqrt(m1)*(L/pi)\n",
      "Nl = 100\n",
      "L = [0.5 + 0.0125*j for j in range(0,Nl)]\n",
      "mu = 15\n",
      "t = np.linspace(0,Tmax,N)\n",
      "m = 1.0\n",
      "gamma = 0.5\n",
      "alpha = 1\n",
      "beta = 8\n",
      "phi = 1.0\n",
      "D = [[1.0,5.0,1.0]]\n",
      "\n",
      "for d in D:\n",
      "    print(\"D = \" + str(d))\n",
      "    D1,D2,DR = d[0],d[1],d[2]\n",
      "    for l in L:\n",
      "        \n",
      "        print(l)\n",
      "        \n",
      "        d_1 = D1/(l**2) #O Numerador \u00e9 o D do modelo antes de adimensionalizar!\n",
      "        d_2 = D2/(l**2)\n",
      "        d_r = DR/(l**2)\n",
      "        \n",
      "        if d_r > 0:\n",
      "            \n",
      "            #Third Order\n",
      "    \n",
      "            U10,U20,U30,U40,U50,U60 = init()\n",
      "            y0 = np.r_[U10,U20,U30,U40,U50,U60]\n",
      "    \n",
      "            '''\n",
      "            #First Order\n",
      "            \n",
      "            B10,A10,A20 = init()\n",
      "            y0 = np.r_[B10,A10,A20] #d_r > 0\n",
      "            \n",
      "            '''\n",
      "        \n",
      "        if d_r == 0:\n",
      "            B10,B20,A10,A20 = init()\n",
      "            y0 = np.r_[B10,B20,A10,A20] #d_r = 0\n",
      "        \n",
      "        sol = scipy.integrate.odeint(ddt,y0,t)\n",
      "        sol = np.array(sol)\n",
      "        \n",
      "        #First order\n",
      "        \n",
      "        #np.save('Var_Method_IGP_l = %.3f,DR=%.3f,D1=%.3f,D2=%.3f,mu=%.3f,gamma=%.3f,beta =%.3f'\n",
      "                #% (l,DR,D1,D2,mu,gamma,beta),sol)\n",
      "            \n",
      "        #Third order\n",
      "        \n",
      "        np.save('Var_Method_IGP3_l = %.3f,DR=%.3f,D1=%.3f,D2=%.3f,mu=%.3f,gamma=%.3f,beta =%.3f'\n",
      "                % (l,DR,D1,D2,mu,gamma,beta),sol)"
     ],
     "language": "python",
     "metadata": {},
     "outputs": [
      {
       "output_type": "stream",
       "stream": "stdout",
       "text": [
        "D = [1.0, 5.0, 1.0]\n",
        "0.5\n",
        "0.5125"
       ]
      },
      {
       "output_type": "stream",
       "stream": "stdout",
       "text": [
        "\n",
        "0.525"
       ]
      },
      {
       "output_type": "stream",
       "stream": "stdout",
       "text": [
        "\n",
        "0.5375"
       ]
      },
      {
       "output_type": "stream",
       "stream": "stdout",
       "text": [
        "\n",
        "0.55"
       ]
      },
      {
       "output_type": "stream",
       "stream": "stdout",
       "text": [
        "\n",
        "0.5625"
       ]
      },
      {
       "output_type": "stream",
       "stream": "stdout",
       "text": [
        "\n",
        "0.575"
       ]
      },
      {
       "output_type": "stream",
       "stream": "stdout",
       "text": [
        "\n",
        "0.5875"
       ]
      },
      {
       "output_type": "stream",
       "stream": "stdout",
       "text": [
        "\n",
        "0.6"
       ]
      },
      {
       "output_type": "stream",
       "stream": "stdout",
       "text": [
        "\n",
        "0.6125"
       ]
      },
      {
       "output_type": "stream",
       "stream": "stdout",
       "text": [
        "\n",
        "0.625"
       ]
      },
      {
       "output_type": "stream",
       "stream": "stdout",
       "text": [
        "\n",
        "0.6375"
       ]
      },
      {
       "output_type": "stream",
       "stream": "stdout",
       "text": [
        "\n",
        "0.65"
       ]
      },
      {
       "output_type": "stream",
       "stream": "stdout",
       "text": [
        "\n",
        "0.6625"
       ]
      },
      {
       "output_type": "stream",
       "stream": "stdout",
       "text": [
        "\n",
        "0.675"
       ]
      },
      {
       "output_type": "stream",
       "stream": "stdout",
       "text": [
        "\n",
        "0.6875"
       ]
      },
      {
       "output_type": "stream",
       "stream": "stdout",
       "text": [
        "\n",
        "0.7"
       ]
      },
      {
       "output_type": "stream",
       "stream": "stdout",
       "text": [
        "\n",
        "0.7125"
       ]
      },
      {
       "output_type": "stream",
       "stream": "stdout",
       "text": [
        "\n",
        "0.725"
       ]
      },
      {
       "output_type": "stream",
       "stream": "stdout",
       "text": [
        "\n",
        "0.7375"
       ]
      },
      {
       "output_type": "stream",
       "stream": "stdout",
       "text": [
        "\n",
        "0.75"
       ]
      },
      {
       "output_type": "stream",
       "stream": "stdout",
       "text": [
        "\n",
        "0.7625"
       ]
      },
      {
       "output_type": "stream",
       "stream": "stdout",
       "text": [
        "\n",
        "0.775"
       ]
      },
      {
       "output_type": "stream",
       "stream": "stdout",
       "text": [
        "\n",
        "0.7875"
       ]
      },
      {
       "output_type": "stream",
       "stream": "stdout",
       "text": [
        "\n",
        "0.8"
       ]
      },
      {
       "output_type": "stream",
       "stream": "stdout",
       "text": [
        "\n",
        "0.8125"
       ]
      },
      {
       "output_type": "stream",
       "stream": "stdout",
       "text": [
        "\n",
        "0.825"
       ]
      },
      {
       "output_type": "stream",
       "stream": "stdout",
       "text": [
        "\n",
        "0.8375"
       ]
      },
      {
       "output_type": "stream",
       "stream": "stdout",
       "text": [
        "\n",
        "0.85"
       ]
      },
      {
       "output_type": "stream",
       "stream": "stdout",
       "text": [
        "\n",
        "0.8625"
       ]
      },
      {
       "output_type": "stream",
       "stream": "stdout",
       "text": [
        "\n",
        "0.875"
       ]
      },
      {
       "output_type": "stream",
       "stream": "stdout",
       "text": [
        "\n",
        "0.8875"
       ]
      },
      {
       "output_type": "stream",
       "stream": "stdout",
       "text": [
        "\n",
        "0.9"
       ]
      },
      {
       "output_type": "stream",
       "stream": "stdout",
       "text": [
        "\n",
        "0.9125"
       ]
      },
      {
       "output_type": "stream",
       "stream": "stdout",
       "text": [
        "\n",
        "0.925"
       ]
      },
      {
       "output_type": "stream",
       "stream": "stdout",
       "text": [
        "\n",
        "0.9375"
       ]
      },
      {
       "output_type": "stream",
       "stream": "stdout",
       "text": [
        "\n",
        "0.95"
       ]
      },
      {
       "output_type": "stream",
       "stream": "stdout",
       "text": [
        "\n",
        "0.9625"
       ]
      },
      {
       "output_type": "stream",
       "stream": "stdout",
       "text": [
        "\n",
        "0.975"
       ]
      },
      {
       "output_type": "stream",
       "stream": "stdout",
       "text": [
        "\n",
        "0.9875"
       ]
      },
      {
       "output_type": "stream",
       "stream": "stdout",
       "text": [
        "\n",
        "1.0"
       ]
      },
      {
       "output_type": "stream",
       "stream": "stdout",
       "text": [
        "\n",
        "1.0125"
       ]
      },
      {
       "output_type": "stream",
       "stream": "stdout",
       "text": [
        "\n",
        "1.025"
       ]
      },
      {
       "output_type": "stream",
       "stream": "stdout",
       "text": [
        "\n",
        "1.0375"
       ]
      },
      {
       "output_type": "stream",
       "stream": "stdout",
       "text": [
        "\n",
        "1.05"
       ]
      },
      {
       "output_type": "stream",
       "stream": "stdout",
       "text": [
        "\n",
        "1.0625"
       ]
      },
      {
       "output_type": "stream",
       "stream": "stdout",
       "text": [
        "\n",
        "1.075"
       ]
      },
      {
       "output_type": "stream",
       "stream": "stdout",
       "text": [
        "\n",
        "1.0875"
       ]
      },
      {
       "output_type": "stream",
       "stream": "stdout",
       "text": [
        "\n",
        "1.1"
       ]
      },
      {
       "output_type": "stream",
       "stream": "stdout",
       "text": [
        "\n",
        "1.1125"
       ]
      },
      {
       "output_type": "stream",
       "stream": "stdout",
       "text": [
        "\n",
        "1.125"
       ]
      },
      {
       "output_type": "stream",
       "stream": "stdout",
       "text": [
        "\n",
        "1.1375"
       ]
      },
      {
       "output_type": "stream",
       "stream": "stdout",
       "text": [
        "\n",
        "1.15"
       ]
      },
      {
       "output_type": "stream",
       "stream": "stdout",
       "text": [
        "\n",
        "1.1625"
       ]
      },
      {
       "output_type": "stream",
       "stream": "stdout",
       "text": [
        "\n",
        "1.175"
       ]
      },
      {
       "output_type": "stream",
       "stream": "stdout",
       "text": [
        "\n",
        "1.1875"
       ]
      },
      {
       "output_type": "stream",
       "stream": "stdout",
       "text": [
        "\n",
        "1.2"
       ]
      },
      {
       "output_type": "stream",
       "stream": "stdout",
       "text": [
        "\n",
        "1.2125"
       ]
      },
      {
       "output_type": "stream",
       "stream": "stdout",
       "text": [
        "\n",
        "1.225"
       ]
      },
      {
       "output_type": "stream",
       "stream": "stdout",
       "text": [
        "\n",
        "1.2375"
       ]
      },
      {
       "output_type": "stream",
       "stream": "stdout",
       "text": [
        "\n",
        "1.25"
       ]
      },
      {
       "output_type": "stream",
       "stream": "stdout",
       "text": [
        "\n",
        "1.2625"
       ]
      },
      {
       "output_type": "stream",
       "stream": "stdout",
       "text": [
        "\n",
        "1.275"
       ]
      },
      {
       "output_type": "stream",
       "stream": "stdout",
       "text": [
        "\n",
        "1.2875"
       ]
      },
      {
       "output_type": "stream",
       "stream": "stdout",
       "text": [
        "\n",
        "1.3"
       ]
      },
      {
       "output_type": "stream",
       "stream": "stdout",
       "text": [
        "\n",
        "1.3125"
       ]
      },
      {
       "output_type": "stream",
       "stream": "stdout",
       "text": [
        "\n",
        "1.325"
       ]
      },
      {
       "output_type": "stream",
       "stream": "stdout",
       "text": [
        "\n",
        "1.3375"
       ]
      },
      {
       "output_type": "stream",
       "stream": "stdout",
       "text": [
        "\n",
        "1.35"
       ]
      },
      {
       "output_type": "stream",
       "stream": "stdout",
       "text": [
        "\n",
        "1.3625"
       ]
      },
      {
       "output_type": "stream",
       "stream": "stdout",
       "text": [
        "\n",
        "1.375"
       ]
      },
      {
       "output_type": "stream",
       "stream": "stdout",
       "text": [
        "\n",
        "1.3875"
       ]
      },
      {
       "output_type": "stream",
       "stream": "stdout",
       "text": [
        "\n",
        "1.4"
       ]
      },
      {
       "output_type": "stream",
       "stream": "stdout",
       "text": [
        "\n",
        "1.4125"
       ]
      },
      {
       "output_type": "stream",
       "stream": "stdout",
       "text": [
        "\n",
        "1.425"
       ]
      },
      {
       "output_type": "stream",
       "stream": "stdout",
       "text": [
        "\n",
        "1.4375"
       ]
      },
      {
       "output_type": "stream",
       "stream": "stdout",
       "text": [
        "\n",
        "1.45"
       ]
      },
      {
       "output_type": "stream",
       "stream": "stdout",
       "text": [
        "\n",
        "1.4625"
       ]
      },
      {
       "output_type": "stream",
       "stream": "stdout",
       "text": [
        "\n",
        "1.475"
       ]
      },
      {
       "output_type": "stream",
       "stream": "stdout",
       "text": [
        "\n",
        "1.4875"
       ]
      },
      {
       "output_type": "stream",
       "stream": "stdout",
       "text": [
        "\n",
        "1.5"
       ]
      },
      {
       "output_type": "stream",
       "stream": "stdout",
       "text": [
        "\n",
        "1.5125"
       ]
      },
      {
       "output_type": "stream",
       "stream": "stdout",
       "text": [
        "\n",
        "1.525"
       ]
      },
      {
       "output_type": "stream",
       "stream": "stdout",
       "text": [
        "\n",
        "1.5375"
       ]
      },
      {
       "output_type": "stream",
       "stream": "stdout",
       "text": [
        "\n",
        "1.55"
       ]
      },
      {
       "output_type": "stream",
       "stream": "stdout",
       "text": [
        "\n",
        "1.5625"
       ]
      },
      {
       "output_type": "stream",
       "stream": "stdout",
       "text": [
        "\n",
        "1.575"
       ]
      },
      {
       "output_type": "stream",
       "stream": "stdout",
       "text": [
        "\n",
        "1.5875"
       ]
      },
      {
       "output_type": "stream",
       "stream": "stdout",
       "text": [
        "\n",
        "1.6"
       ]
      },
      {
       "output_type": "stream",
       "stream": "stdout",
       "text": [
        "\n",
        "1.6125"
       ]
      },
      {
       "output_type": "stream",
       "stream": "stdout",
       "text": [
        "\n",
        "1.625"
       ]
      },
      {
       "output_type": "stream",
       "stream": "stdout",
       "text": [
        "\n",
        "1.6375"
       ]
      },
      {
       "output_type": "stream",
       "stream": "stdout",
       "text": [
        "\n",
        "1.65"
       ]
      },
      {
       "output_type": "stream",
       "stream": "stdout",
       "text": [
        "\n",
        "1.6625"
       ]
      },
      {
       "output_type": "stream",
       "stream": "stdout",
       "text": [
        "\n",
        "1.675"
       ]
      },
      {
       "output_type": "stream",
       "stream": "stdout",
       "text": [
        "\n",
        "1.6875"
       ]
      },
      {
       "output_type": "stream",
       "stream": "stdout",
       "text": [
        "\n",
        "1.7"
       ]
      },
      {
       "output_type": "stream",
       "stream": "stdout",
       "text": [
        "\n",
        "1.7125"
       ]
      },
      {
       "output_type": "stream",
       "stream": "stdout",
       "text": [
        "\n",
        "1.725"
       ]
      },
      {
       "output_type": "stream",
       "stream": "stdout",
       "text": [
        "\n",
        "1.7375"
       ]
      },
      {
       "output_type": "stream",
       "stream": "stdout",
       "text": [
        "\n"
       ]
      }
     ],
     "prompt_number": 50
    },
    {
     "cell_type": "code",
     "collapsed": false,
     "input": [
      "#Leia os dados e gere o gr\u00e1fico Pop x L\n",
      "Nl = 100\n",
      "L = [0.5 + 0.0125*j for j in range(0,Nl)]\n",
      "mu = 15\n",
      "t = np.linspace(0,Tmax,N)\n",
      "m = 1.0\n",
      "gamma = 0.5\n",
      "alpha = 1\n",
      "beta = 8\n",
      "phi = 1.0\n",
      "D = [[1.0,5.0,1.0]]\n",
      "\n",
      "#Third order\n",
      "\n",
      "U1U2MAX = []\n",
      "U1U2MIN = []\n",
      "U3U4MAX = []\n",
      "U3U4MIN = []\n",
      "U5U6MAX = []\n",
      "U5U6MIN = []\n",
      "\n",
      "'''\n",
      "#First order\n",
      "\n",
      "B1B2MAX = []\n",
      "B1B2MIN = []\n",
      "A1MAX = []\n",
      "A1MIN = []\n",
      "A2MAX = []\n",
      "A2MIN = []\n",
      "'''\n",
      "\n",
      "\n",
      "for d in D:\n",
      "    print(\"D = \" + str(d))\n",
      "    D1,D2,DR = d[0],d[1],d[2]\n",
      "    for l in L:\n",
      "        '''\n",
      "        #Third order\n",
      "        \n",
      "        sol = np.load('Var_Method_IGP3_l = %.3f,DR=%.3f,D1=%.3f,D2=%.3f,mu=%.3f,gamma=%.3f,beta =%.3f.npy'\n",
      "                % (l,DR,D1,D2,mu,gamma,beta))\n",
      "        \n",
      "        '''\n",
      "        #First order\n",
      "        \n",
      "        sol = np.load('Var_Method_IGP_l = %.3f,DR=%.3f,D1=%.3f,D2=%.3f,mu=%.3f,gamma=%.3f,beta =%.3f.npy'\n",
      "                % (l,DR,D1,D2,mu,gamma,beta))\n",
      "                \n",
      "        \n",
      "        if DR > 0:\n",
      "            \n",
      "            '''\n",
      "            #First order\n",
      "            \n",
      "            B1B2 = sol[:,0]\n",
      "            A1 = sol[:,1]\n",
      "            A2 = sol[:,2]\n",
      "            B1B2MAX.append(np.max(B1B2[-500:]))\n",
      "            B1B2MIN.append(np.min(B1B2[-500:]))\n",
      "            A1MAX.append(np.max(A1[-500:]))\n",
      "            A1MIN.append(np.min(A1[-500:]))\n",
      "            A2MAX.append(np.max(A2[-500:]))\n",
      "            A2MIN.append(np.min(A2[-500:]))\n",
      "\n",
      "            '''\n",
      "            #Third order\n",
      "            U1 = sol[:,0]\n",
      "            U2 = sol[:,1]\n",
      "            U3 = sol[:,2]\n",
      "            U4 = sol[:,3]\n",
      "            U5 = sol[:,4]\n",
      "            U6 = sol[:,5]\n",
      "            U1U2MAX.append(np.max(U1[-1000:] - U2[-1000:]))\n",
      "            U1U2MIN.append(np.min(U1[-1000:] - U2[-1000:]))\n",
      "            U3U4MAX.append(np.max(U3[-1000:] - U4[-1000:]))\n",
      "            U3U4MIN.append(np.min(U3[-1000:] - U4[-1000:]))\n",
      "            U5U6MAX.append(np.max(U5[-1000:] - U6[-1000:]))\n",
      "            U5U6MIN.append(np.min(U5[-1000:] - U6[-1000:]))\n",
      "            \n",
      "        if DR == 0:\n",
      "            B1 = sol[:,0]\n",
      "            B2 = sol[:,1]            \n",
      "            A1 = sol[:,2]\n",
      "            A2 = sol[:,3]\n",
      "            B1B2MAX.append(np.max(B1[-1000:]-B2[-1000:]))\n",
      "            B1B2MIN.append(np.min(B1[-1000:]-B2[-1000:]))\n",
      "            A1MAX.append(np.max(A1[-1000:]))\n",
      "            A1MIN.append(np.min(A1[-1000:]))\n",
      "            A2MAX.append(np.max(A2[-1000:]))\n",
      "            A2MIN.append(np.min(A2[-1000:]))\n",
      "            \n",
      "#Third order\n",
      "\n",
      "plt.plot(L,U1U2MAX,color = 'green')\n",
      "plt.plot(L,U1U2MIN,color = 'green')\n",
      "plt.plot(L,U3U4MAX,color = 'blue')\n",
      "plt.plot(L,U3U4MIN,color = 'blue')\n",
      "plt.plot(L,U5U6MAX,color = 'red')\n",
      "plt.plot(L,U5U6MIN,color = 'red')\n",
      "            \n",
      "'''\n",
      "#First order\n",
      "\n",
      "plt.plot(L,B1B2MAX,color = 'green')\n",
      "plt.plot(L,B1B2MIN,color = 'green')\n",
      "plt.plot(L,A1MAX,color = 'blue')\n",
      "plt.plot(L,A1MIN,color = 'blue')\n",
      "plt.plot(L,A2MAX,color = 'red')\n",
      "plt.plot(L,A2MIN,color = 'red')\n",
      "'''"
     ],
     "language": "python",
     "metadata": {},
     "outputs": [
      {
       "output_type": "stream",
       "stream": "stdout",
       "text": [
        "D = [1.0, 5.0, 1.0]\n"
       ]
      },
      {
       "metadata": {},
       "output_type": "pyout",
       "prompt_number": 53,
       "text": [
        "[<matplotlib.lines.Line2D at 0x7fa7ae7ddb90>]"
       ]
      },
      {
       "metadata": {},
       "output_type": "display_data",
       "png": "[encoded data removed]",
       "text": [
        "<matplotlib.figure.Figure at 0x7fa7ae98d510>"
       ]
      }
     ],
     "prompt_number": 53
    },
    {
     "cell_type": "code",
     "collapsed": false,
     "input": [],
     "language": "python",
     "metadata": {},
     "outputs": [],
     "prompt_number": null
    }
   ],
   "metadata": {}
  }
 ]
}
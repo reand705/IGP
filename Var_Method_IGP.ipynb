{
 "cells": [
  {
   "cell_type": "code",
   "execution_count": 1,
   "metadata": {},
   "outputs": [],
   "source": [
    "# -*- coding: utf-8 -*-\n",
    "# <nbformat>3.0</nbformat>\n",
    "\n",
    "# <codecell>\n",
    "\n",
    "# coding: utf-8\n",
    "%matplotlib inline\n",
    "import matplotlib\n",
    "import scipy.integrate\n",
    "from scipy.stats import norm\n",
    "import numpy as np\n",
    "import matplotlib.pyplot as plt\n",
    "from matplotlib import rc ## desnecessário\n",
    "matplotlib.rcParams['text.usetex'] = True\n",
    "matplotlib.rcParams.update({'font.size': 18})"
   ]
  },
  {
   "cell_type": "code",
   "execution_count": 2,
   "metadata": {},
   "outputs": [],
   "source": [
    "#Discret tempo\n",
    "Tmax = 400\n",
    "N = 4000"
   ]
  },
  {
   "cell_type": "code",
   "execution_count": 3,
   "metadata": {},
   "outputs": [],
   "source": [
    "#Populações Iniciais\n",
    "def init():\n",
    "    \n",
    "    #recurso difunde\n",
    "    if d_r > 0:\n",
    "    \n",
    "        b10 = 1.0\n",
    "        a10 = 1.0\n",
    "        a20 = 1.0\n",
    "        return b10, a10, a20\n",
    "    \n",
    "        #recurso não difunde\n",
    "    elif d_r == 0:\n",
    "    \n",
    "        b10 = 2.0\n",
    "        b20 = 0.0\n",
    "        a10 = 1.0\n",
    "        a20 = 1.0\n",
    "        \n",
    "        return b10, b20, a10, a20 "
   ]
  },
  {
   "cell_type": "code",
   "execution_count": 4,
   "metadata": {},
   "outputs": [],
   "source": [
    "#lado direito das edos\n",
    "def ddt(y, t):\n",
    "    \n",
    "    #recurso difunde\n",
    "    if d_r > 0:\n",
    "        \n",
    "        B1 = y[0]\n",
    "        A1 = y[1]\n",
    "        A2 = y[2]\n",
    "    \n",
    "        dB1dt = 4*mu/np.pi - B1*(phi + 8*(A1+A2)/(3*np.pi) + d_r)\n",
    "        dA1dt = A1*(8*B1/(3*np.pi) - 1 - alpha*8*A2/(3*np.pi) - d_1)\n",
    "        dA2dt = A2*(8*m*gamma*B1/(3*np.pi) - m + 8*beta*alpha*A1/(3*np.pi) - d_2)\n",
    "        \n",
    "        return np.r_[dB1dt,dA1dt,dA2dt]\n",
    "        \n",
    "    #recurso não difunde\n",
    "    \n",
    "    elif d_r == 0:\n",
    "        \n",
    "        B1 = y[0]\n",
    "        B2 = y[1]\n",
    "        A1 = y[2]\n",
    "        A2 = y[3]\n",
    "        \n",
    "        dB1dt = mu - phi*B1 - (32 - 3*np.pi**2)*(A1 + A2)*B2/(6*np.pi**2 - 48)\n",
    "        dB2dt = - phi*B2 + (A1 + A2)*(B1 - B2*4*np.pi/(6*np.pi**2 - 48))\n",
    "        dA1dt = A1*(B1 - (1 + d_1) - 8*B2/(3*np.pi) - alpha*8*A2/(3*np.pi))\n",
    "        dA2dt = A2*(m*gamma*(B1 - 8*B2/(3*np.pi)) - (m + d_2) + alpha*8*beta*A1/(3*np.pi))\n",
    "    \n",
    "    \n",
    "        return np.r_[dB1dt,dB2dt,dA1dt,dA2dt]"
   ]
  },
  {
   "cell_type": "code",
   "execution_count": 5,
   "metadata": {},
   "outputs": [],
   "source": [
    "#Funções que calculam os mu_i\n",
    "def mu_1():\n",
    "    #R Difunde: R = B1*sin(x) \n",
    "    if d_r > 0:\n",
    "        return 3*(np.pi**2)*(phi+d_r)*(1+d_1)/32\n",
    "    elif d_r == 0:\n",
    "        return phi*(1+d_1)\n",
    "\n",
    "def mu_2():\n",
    "    #R Difunde: R = B1*sin(x) \n",
    "    if d_r > 0:\n",
    "        return (3*np.pi**2)*(m + d_2 - m*gamma*(1+d_1))*(1+d_1)/(32*beta*alpha) + (3*np.pi**2)*(phi+d_r)*(1+d_1)/32\n",
    "        #return (3*np.pi**2)*(1 + d_1)*(d_2 + m + beta*alpha*(phi + d_r) - m*gamma*(1+d_1))/(32*beta*alpha)\n",
    "\n",
    "def mu_3():\n",
    "    #R Difunde: R = B1*sin(x) \n",
    "    if d_r > 0:\n",
    "        return (3*np.pi**2)*(m + d_2)*((m+d_2)/(m*gamma) - 1 - d_1)/(32*m*gamma*alpha) + (3*np.pi**2)*(m + d_2)*(phi+d_r)/(32*m*gamma)"
   ]
  },
  {
   "cell_type": "code",
   "execution_count": 21,
   "metadata": {},
   "outputs": [],
   "source": [
    "#Integre aqui\n",
    "d_r = 0\n",
    "d_1 = 5\n",
    "d_2 = 5\n",
    "mu = 30\n",
    "m = 1.0\n",
    "gamma = 0.5\n",
    "alpha = 1\n",
    "beta = 1\n",
    "phi = 1.0\n",
    "t = np.linspace(0,Tmax,N)\n",
    "#pop inicial\n",
    "if d_r > 0:\n",
    "    B10,A10,A20 = init()\n",
    "    y0 = np.r_[B10,A10,A20]\n",
    "    \n",
    "elif d_r == 0:\n",
    "    B10,B20,A10,A20 = init()\n",
    "    y0 = np.r_[B10,B20,A10,A20]\n",
    "    \n",
    "sol = scipy.integrate.odeint(ddt,y0,t)\n",
    "sol = np.array(sol)"
   ]
  },
  {
   "cell_type": "code",
   "execution_count": 22,
   "metadata": {},
   "outputs": [
    {
     "data": {
      "text/plain": [
       "[<matplotlib.lines.Line2D at 0x7f10c3e02e50>]"
      ]
     },
     "execution_count": 22,
     "metadata": {},
     "output_type": "execute_result"
    },
    {
     "data": {
      "image/png": "[encoded data removed]",
      "text/plain": [
       "<matplotlib.figure.Figure at 0x7f10c3e74590>"
      ]
     },
     "metadata": {},
     "output_type": "display_data"
    }
   ],
   "source": [
    "np.shape(sol)\n",
    "B1 = sol[:,0]\n",
    "B2 = sol[:,1]\n",
    "A1 = sol[:,2]\n",
    "A2 = sol[:,3]\n",
    "plt.plot(t,B1 - B2, color = 'green')\n",
    "plt.plot(t,A1, color = 'blue')\n",
    "plt.plot(t,A2, color = 'red')\n",
    "#plt.axis([0,Tmax,0,20])"
   ]
  },
  {
   "cell_type": "code",
   "execution_count": 18,
   "metadata": {},
   "outputs": [
    {
     "name": "stdout",
     "output_type": "stream",
     "text": [
      "d_r = 0\n",
      "d_1 = 7\n",
      "d_2 = 3\n",
      "mu = 0.0\n",
      "mu = 1.0\n",
      "mu = 2.0\n",
      "mu = 3.0\n",
      "mu = 4.0\n",
      "mu = 5.0\n",
      "mu = 6.0\n",
      "mu = 7.0\n",
      "mu = 8.0\n",
      "mu = 9.0\n",
      "mu = 10.0\n",
      "mu = 11.0\n",
      "mu = 12.0\n",
      "mu = 13.0\n",
      "mu = 14.0\n",
      "mu = 15.0\n",
      "mu = 16.0\n",
      "mu = 17.0\n",
      "mu = 18.0\n",
      "mu = 19.0\n",
      "mu = 20.0\n",
      "mu = 21.0\n",
      "mu = 22.0\n",
      "mu = 23.0\n",
      "mu = 24.0\n",
      "mu = 25.0\n",
      "mu = 26.0\n",
      "mu = 27.0\n",
      "mu = 28.0\n",
      "mu = 29.0\n",
      "mu = 30.0\n",
      "mu = 31.0\n",
      "mu = 32.0\n",
      "mu = 33.0\n",
      "mu = 34.0\n",
      "mu = 35.0\n",
      "mu = 36.0\n",
      "mu = 37.0\n",
      "mu = 38.0\n",
      "mu = 39.0\n",
      "mu = 40.0\n",
      "mu = 41.0\n",
      "mu = 42.0\n",
      "mu = 43.0\n",
      "mu = 44.0\n",
      "mu = 45.0\n",
      "mu = 46.0\n",
      "mu = 47.0\n",
      "mu = 48.0\n",
      "mu = 49.0\n",
      "mu = 50.0\n",
      "mu = 51.0\n",
      "mu = 52.0\n",
      "mu = 53.0\n",
      "mu = 54.0\n",
      "mu = 55.0\n",
      "mu = 56.0\n",
      "mu = 57.0\n",
      "mu = 58.0\n",
      "mu = 59.0\n",
      "mu = 60.0\n",
      "mu = 61.0\n",
      "mu = 62.0\n",
      "mu = 63.0\n",
      "mu = 64.0\n",
      "mu = 65.0\n",
      "mu = 66.0\n",
      "mu = 67.0\n",
      "mu = 68.0\n",
      "mu = 69.0\n",
      "mu = 70.0\n",
      "mu = 71.0\n",
      "mu = 72.0\n",
      "mu = 73.0\n",
      "mu = 74.0\n",
      "mu = 75.0\n",
      "mu = 76.0\n",
      "mu = 77.0\n",
      "mu = 78.0\n",
      "mu = 79.0\n",
      "mu = 80.0\n",
      "mu = 81.0\n",
      "mu = 82.0\n",
      "mu = 83.0\n",
      "mu = 84.0\n",
      "mu = 85.0\n",
      "mu = 86.0\n",
      "mu = 87.0\n",
      "mu = 88.0\n",
      "mu = 89.0\n",
      "mu = 90.0\n",
      "mu = 91.0\n",
      "mu = 92.0\n",
      "mu = 93.0\n",
      "mu = 94.0\n",
      "mu = 95.0\n",
      "mu = 96.0\n",
      "mu = 97.0\n",
      "mu = 98.0\n",
      "mu = 99.0\n",
      "mu = 100.0\n",
      "mu = 101.0\n",
      "mu = 102.0\n",
      "mu = 103.0\n",
      "mu = 104.0\n",
      "mu = 105.0\n",
      "mu = 106.0\n",
      "mu = 107.0\n",
      "mu = 108.0\n",
      "mu = 109.0\n",
      "mu = 110.0\n",
      "mu = 111.0\n",
      "mu = 112.0\n",
      "mu = 113.0\n",
      "mu = 114.0\n",
      "mu = 115.0\n",
      "mu = 116.0\n",
      "mu = 117.0\n",
      "mu = 118.0\n",
      "mu = 119.0\n",
      "mu = 120.0\n",
      "mu = 121.0\n",
      "mu = 122.0\n",
      "mu = 123.0\n",
      "mu = 124.0\n",
      "mu = 125.0\n",
      "mu = 126.0\n",
      "mu = 127.0\n",
      "mu = 128.0\n",
      "mu = 129.0\n",
      "mu = 130.0\n",
      "mu = 131.0\n",
      "mu = 132.0\n",
      "mu = 133.0\n",
      "mu = 134.0\n",
      "mu = 135.0\n",
      "mu = 136.0\n",
      "mu = 137.0\n",
      "mu = 138.0\n",
      "mu = 139.0\n"
     ]
    }
   ],
   "source": [
    "#Faça para vários dR, d1, d2\n",
    "DR = [0]\n",
    "D1 = [7]\n",
    "D2 = [3]\n",
    "MU = [0.0 + i for i in range(0,140)]\n",
    "t = np.linspace(0,Tmax,N)\n",
    "m = 1.0\n",
    "gamma = 0.5\n",
    "alpha = 1\n",
    "beta = 1\n",
    "phi = 1.0\n",
    "#pop inicial\n",
    "for d_r in DR:\n",
    "    print(\"d_r = \" + str(d_r))\n",
    "    for d_1 in D1:\n",
    "        print(\"d_1 = \" + str(d_1))\n",
    "        for d_2 in D2:\n",
    "            print(\"d_2 = \" + str(d_2))\n",
    "            for mu in MU:\n",
    "                print(\"mu = \" + str(mu))\n",
    "                B10,B20,A10,A20 = init()\n",
    "                y0 = np.r_[B10,B20,A10,A20]\n",
    "                sol = scipy.integrate.odeint(ddt,y0,t)\n",
    "                sol = np.array(sol)\n",
    "                np.save('Var_Method_IGP_dR=%.3f,d1=%.3f,d2=%.3f,mu=%.3f,alpha=%.3f,gamma=%.3f,beta=%.f,phi=%.3f,m=%.3f'\n",
    "                        % (d_r,d_1,d_2,mu,alpha,gamma,beta,phi,m),sol)"
   ]
  },
  {
   "cell_type": "code",
   "execution_count": 21,
   "metadata": {},
   "outputs": [
    {
     "data": {
      "text/plain": [
       "[0, 140, 0, 20]"
      ]
     },
     "execution_count": 21,
     "metadata": {},
     "output_type": "execute_result"
    },
    {
     "data": {
      "image/png": "[encoded data removed]",
      "text/plain": [
       "<matplotlib.figure.Figure at 0x7fd83ab8abd0>"
      ]
     },
     "metadata": {},
     "output_type": "display_data"
    }
   ],
   "source": [
    "#Imprima a população final\n",
    "DR = [0]\n",
    "D1 = [5]\n",
    "D2 = [5]\n",
    "MU = [0.0 + i for i in range(0,140)]\n",
    "m = 1.0\n",
    "gamma = 0.5\n",
    "alpha = 1\n",
    "beta = 1\n",
    "phi = 1.0\n",
    "\n",
    "Bfinal = []\n",
    "A1final = []\n",
    "A2final = []\n",
    "t = np.linspace(0,Tmax,N)\n",
    "for d_r in DR:\n",
    "    for d_1 in D1:\n",
    "        for d_2 in D2:\n",
    "            for mu in MU:\n",
    "                sol = np.load('Var_Method_IGP_dR=%.3f,d1=%.3f,d2=%.3f,mu=%.3f,alpha=%.3f,gamma=%.3f,beta=%.f,phi=%.3f,m=%.3f.npy'\n",
    "                              % (d_r,d_1,d_2,mu,alpha,gamma,beta,phi,m))\n",
    "                B1 = np.transpose(sol[:,0])\n",
    "                B2 = np.transpose(sol[:,1])\n",
    "                A1 = np.transpose(sol[:,2])\n",
    "                A2 = np.transpose(sol[:,3])\n",
    "                Bfinal.append(B1[-1] - B2[-1])\n",
    "                A1final.append(A1[-1])\n",
    "                A2final.append(A2[-1])\n",
    "\n",
    "plt.plot(MU,Bfinal, color = 'green', label = r'$B_1 - B_2$')\n",
    "plt.plot(MU,A1final,color = 'blue', label = r'$A_1$')\n",
    "plt.plot(MU,A2final,color = 'red', label = r'$A_2$')\n",
    "plt.xlabel(r\"$\\mu'$\")\n",
    "#plt.legend(loc = 'best')\n",
    "plt.title(r'Pop. Finais $d_R$=%.1f, $d_C$=%.1f' % (d_r,d_1))\n",
    "plt.axis([0,140,0,20])"
   ]
  },
  {
   "cell_type": "code",
   "execution_count": 174,
   "metadata": {},
   "outputs": [
    {
     "name": "stdout",
     "output_type": "stream",
     "text": [
      "(72.17148218296593, 66.15719200105211, 55.51652475612765)\n"
     ]
    }
   ],
   "source": [
    "d_r = 5\n",
    "d_1 = 12\n",
    "d_2 = 5\n",
    "print(mu_1(),mu_2(),mu_3())"
   ]
  },
  {
   "cell_type": "code",
   "execution_count": 8,
   "metadata": {},
   "outputs": [
    {
     "name": "stdout",
     "output_type": "stream",
     "text": [
      "D = [1.0, 5.0, 1.0]\n"
     ]
    }
   ],
   "source": [
    "#Oscilações x L\n",
    "#Gera os dados para fazer o gráfico L x mu\n",
    "#L' = sqrt(m1)*(L/pi)\n",
    "Nl = 50\n",
    "L = [0.5 + 0.025*j for j in range(0,Nl)]\n",
    "mu = 15\n",
    "t = np.linspace(0,Tmax,N)\n",
    "m = 1.0\n",
    "gamma = 0.5\n",
    "alpha = 1\n",
    "beta = 8\n",
    "phi = 1.0\n",
    "D = [[1.0,5.0,1.0]]\n",
    "\n",
    "for d in D:\n",
    "    print(\"D = \" + str(d))\n",
    "    D1,D2,DR = d[0],d[1],d[2]\n",
    "    for l in L:\n",
    "        d_1 = D1/(l**2) #O Numerador é o D do modelo antes de adimensionalizar!\n",
    "        d_2 = D2/(l**2)\n",
    "        d_r = DR/(l**2)\n",
    "        \n",
    "        B10,B20,A10,A20 = init()\n",
    "        if d_r > 0:\n",
    "            y0 = np.r_[B10,A10,A20] #d_r > 0\n",
    "        \n",
    "        sol = scipy.integrate.odeint(ddt,y0,t)\n",
    "        sol = np.array(sol)\n",
    "        np.save('Var_Method_IGP_l = %.3f,DR=%.3f,D1=%.3f,D2=%.3f,mu=%.3f,gamma=%.3f,beta =%.3f'\n",
    "                % (l,DR,D1,D2,mu,gamma,beta),sol)"
   ]
  },
  {
   "cell_type": "code",
   "execution_count": 14,
   "metadata": {},
   "outputs": [
    {
     "name": "stdout",
     "output_type": "stream",
     "text": [
      "D = [1.0, 5.0, 1.0]\n"
     ]
    },
    {
     "data": {
      "text/plain": [
       "[<matplotlib.lines.Line2D at 0x7f3aafe5af50>]"
      ]
     },
     "execution_count": 14,
     "metadata": {},
     "output_type": "execute_result"
    },
    {
     "data": {
      "image/png": "[encoded data removed]",
      "text/plain": [
       "<matplotlib.figure.Figure at 0x7f3aafd532d0>"
      ]
     },
     "metadata": {},
     "output_type": "display_data"
    }
   ],
   "source": [
    "#Leia os dados e gere o gráfico Pop x L\n",
    "Nl = 50\n",
    "L = [0.5 + 0.025*j for j in range(0,Nl)]\n",
    "mu = 15\n",
    "t = np.linspace(0,Tmax,N)\n",
    "m = 1.0\n",
    "gamma = 0.5\n",
    "alpha = 1\n",
    "beta = 8\n",
    "phi = 1.0\n",
    "D = [[1.0,5.0,1.0]]\n",
    "\n",
    "B1B2MAX = []\n",
    "B1B2MIN = []\n",
    "A1MAX = []\n",
    "A1MIN = []\n",
    "A2MAX = []\n",
    "A2MIN = []\n",
    "\n",
    "for d in D:\n",
    "    print(\"D = \" + str(d))\n",
    "    D1,D2,DR = d[0],d[1],d[2]\n",
    "    for l in L:\n",
    "        sol = np.load('Var_Method_IGP_l = %.3f,DR=%.3f,D1=%.3f,D2=%.3f,mu=%.3f,gamma=%.3f,beta =%.3f.npy'\n",
    "                % (l,DR,D1,D2,mu,gamma,beta))\n",
    "        if DR > 0:\n",
    "            B1B2 = sol[:,0]\n",
    "            A1 = sol[:,1]\n",
    "            A2 = sol[:,2]\n",
    "            B1B2MAX.append(np.max(B1B2[-50:]))\n",
    "            B1B2MIN.append(np.min(B1B2[-50:]))\n",
    "            A1MAX.append(np.max(A1[-50:]))\n",
    "            A1MIN.append(np.min(A1[-50:]))\n",
    "            A2MAX.append(np.max(A2[-50:]))\n",
    "            A2MIN.append(np.min(A2[-50:]))\n",
    "\n",
    "plt.plot(L,B1B2MAX,color = 'green')\n",
    "plt.plot(L,B1B2MIN,color = 'green')\n",
    "plt.plot(L,A1MAX,color = 'blue')\n",
    "plt.plot(L,A1MIN,color = 'blue')\n",
    "plt.plot(L,A2MAX,color = 'red')\n",
    "plt.plot(L,A2MIN,color = 'red')"
   ]
  }
 ],
 "metadata": {
  "kernelspec": {
   "display_name": "Python 2",
   "language": "python",
   "name": "python2"
  },
  "language_info": {
   "codemirror_mode": {
    "name": "ipython",
    "version": 2
   },
   "file_extension": ".py",
   "mimetype": "text/x-python",
   "name": "python",
   "nbconvert_exporter": "python",
   "pygments_lexer": "ipython2",
   "version": "2.7.12"
  }
 },
 "nbformat": 4,
 "nbformat_minor": 1
}

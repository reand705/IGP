{
 "metadata": {
  "kernelspec": {
   "display_name": "Python 2",
   "language": "python",
   "name": "python2"
  },
  "language_info": {
   "codemirror_mode": {
    "name": "ipython",
    "version": 2
   },
   "file_extension": ".py",
   "mimetype": "text/x-python",
   "name": "python",
   "nbconvert_exporter": "python",
   "pygments_lexer": "ipython2",
   "version": "2.7.12"
  },
  "name": "",
  "signature": "sha256:3f155f9038e1d4f5fe66a35f903987fd123a30e236f204f1db8d09a453fa660d"
 },
 "nbformat": 3,
 "nbformat_minor": 0,
 "worksheets": [
  {
   "cells": [
    {
     "cell_type": "code",
     "collapsed": false,
     "input": [
      "# -*- coding: utf-8 -*-\n",
      "# <nbformat>3.0</nbformat>\n",
      "\n",
      "# <codecell>\n",
      "\n",
      "# coding: utf-8\n",
      "%matplotlib inline\n",
      "import matplotlib\n",
      "import numpy as np\n",
      "import scipy.integrate\n",
      "import matplotlib.pyplot as plt\n",
      "from matplotlib import rc ## desnec?ess\u00e1rio\n",
      "matplotlib.rcParams['text.usetex'] = True\n",
      "matplotlib.rcParams.update({'font.size': 22})\n",
      "\n",
      "\n",
      "'''\n",
      "Method of lines - Intraguild Predation + Diffusion\n",
      "Quimiostatic growth for resource\n",
      "Already using adimensionlization\n",
      "'''\n",
      "\n",
      "#Discretiza\u00e7\u00e3o\n",
      "M = 101 #espa\u00e7o\n",
      "N = 200000 #tempo\n",
      "Tmax = 20000.0"
     ],
     "language": "python",
     "metadata": {},
     "outputs": [],
     "prompt_number": 29
    },
    {
     "cell_type": "code",
     "collapsed": false,
     "input": [
      "# -------------------- Funcional Response - IGP\n",
      "\n",
      "'''\n",
      "f_R(R,C1,C2) = mu - phi*R - C1*R - C2*R \n",
      "\n",
      "f_C1(R,C1,C2) = C1*R - C1 - alpha*C1*C2 \n",
      "\n",
      "f_C2(R,C1,C2) = m*gamma*C2*R - m*C2 + beta*alpha*C1*C2\n",
      "'''\n",
      "\n",
      "def f_R(R, C1, C2):\n",
      "    return mu - R - C1*R - C2*R \n",
      "\n",
      "def f_C1(R, C1, C2):\n",
      "    return C1*R - m1*C1 - alpha*C1*C2 \n",
      "\n",
      "def f_C2(R, C1, C2):\n",
      "    return (m2/m1)*gamma*C2*R - m2*C2 + beta*alpha*C1*C2"
     ],
     "language": "python",
     "metadata": {},
     "outputs": [],
     "prompt_number": 30
    },
    {
     "cell_type": "code",
     "collapsed": false,
     "input": [
      "#inicialize as popula\u00e7\u00f5es\n",
      "def init(M,amplitude):\n",
      "    \n",
      "    #Popula\u00e7\u00f5es iniciais - sino\n",
      "    x = np.linspace(0,np.pi,M)\n",
      "    \n",
      "    if d_r > 0:\n",
      "    \n",
      "        R0 = amplitude*np.sin(x)\n",
      "        \n",
      "    elif d_r == 0:\n",
      "        \n",
      "        R0 = amplitude*np.ones(len(x))\n",
      "        \n",
      "    C10 = amplitude*np.sin(x)\n",
      "    C20 = amplitude*np.sin(x)\n",
      "    \n",
      "    del x\n",
      "    \n",
      "    '''\n",
      "    #Popula\u00e7\u00f5es iniciais - step function\n",
      "    \n",
      "    R0 = np.zeros(M)\n",
      "    C10 = np.zeros(M)\n",
      "    C20 = np.zeros(M)\n",
      "    \n",
      "    R_0 = 1.0\n",
      "    C1_0 = 1.0\n",
      "    C2_0 = 1.0\n",
      "    for i in range(0,M):\n",
      "        if i >= 0.3*M and i < 0.7*M:\n",
      "            R0[i] = R_0\n",
      "            C10[i] = C1_0\n",
      "            C20[i] = C2_0\n",
      "            \n",
      "    '''\n",
      "    \n",
      "    return R0,C10,C20"
     ],
     "language": "python",
     "metadata": {},
     "outputs": [],
     "prompt_number": 31
    },
    {
     "cell_type": "code",
     "collapsed": false,
     "input": [
      "def ddt(y,t):\n",
      "    \n",
      "    #discret\n",
      "    h = np.pi/(M-1)\n",
      "    \n",
      "    #c.contorno (Dirichlet)\n",
      "    if d_r > 0:\n",
      "        \n",
      "        dRdt = np.zeros(M)\n",
      "        dC1dt = np.zeros(M)\n",
      "        dC2dt = np.zeros(M)\n",
      "\n",
      "        R = y[0:M]\n",
      "        C1 = y[M:2*M]\n",
      "        C2 = y[2*M:]\n",
      "\n",
      "        R[0] = 0\n",
      "        C1[0] = 0\n",
      "        C2[0] = 0\n",
      "        R[-1] = 0\n",
      "        C1[-1] = 0\n",
      "        C2[-1] = 0\n",
      "\n",
      "        dRdt[1:M-1] = d_r*(R[2:M] - 2*R[1:M-1] + R[0:M-2])/(h**2) + f_R(R[1:M-1],C1[1:M-1],C2[1:M-1])\n",
      "        dC1dt[1:M-1] = d_1*(C1[2:M] - 2*C1[1:M-1] + C1[0:M-2])/(h**2) + f_C1(R[1:M-1],C1[1:M-1],C2[1:M-1])\n",
      "        dC2dt[1:M-1] = d_2*(C2[2:M] - 2*C2[1:M-1] + C2[0:M-2])/(h**2) + f_C2(R[1:M-1],C1[1:M-1],C2[1:M-1])\n",
      "        \n",
      "    #c. contorno: Dirichlet, mas com d_r = 0 (portanto, n\u00e3o sofre CC)\n",
      "    elif d_r == 0:\n",
      "        \n",
      "        dRdt = np.zeros(M)\n",
      "        dC1dt = np.zeros(M)\n",
      "        dC2dt = np.zeros(M)\n",
      "\n",
      "        R = y[0:M]\n",
      "        C1 = y[M:2*(M)]\n",
      "        C2 = y[2*(M):]\n",
      "\n",
      "        C1[0] = 0\n",
      "        C2[0] = 0\n",
      "\n",
      "        C1[-1] = 0\n",
      "        C2[-1] = 0\n",
      "\n",
      "        dRdt[0:M] = f_R(R[0:M],C1[0:M],C2[0:M])\n",
      "        dC1dt[1:M-1] = d_1*(C1[2:M] - 2*C1[1:M-1] + C1[0:M-2])/(h**2) + f_C1(R[1:M-1],C1[1:M-1],C2[1:M-1])\n",
      "        dC2dt[1:M-1] = d_2*(C2[2:M] - 2*C2[1:M-1] + C2[0:M-2])/(h**2) + f_C2(R[1:M-1],C1[1:M-1],C2[1:M-1])\n",
      "    \n",
      "    '''\n",
      "    #c. contorno (Neumann) - Lembre de mudar M para M+2!\n",
      "    \n",
      "    dRdt = np.zeros(M+2)\n",
      "    dC1dt = np.zeros(M+2)\n",
      "    dC2dt = np.zeros(M+2)\n",
      "    \n",
      "    R = y[0:M+2]\n",
      "    C1 = y[M+2:2*(M+2)]\n",
      "    C2 = y[2*(M+2):]\n",
      "    \n",
      "    R[0] = R[1]\n",
      "    C1[0] = C1[1]\n",
      "    C2[0] = C2[1]\n",
      "    R[-1] = R[-2]\n",
      "    C1[-1] = C1[-2]\n",
      "    C2[-1] = C2[-2]\n",
      "    \n",
      "    for m in range(1,M+1):\n",
      "        \n",
      "        dRdt[m] = d_r*(R[m+1] - 2*R[m] + R[m-1])/(h**2) #+ f_R(R[1:M-1],C1[1:M-1],C2[1:M-1])\n",
      "        dC1dt[m] = d_1*(C1[m+1] - 2*C1[m] + C1[m-1])/(h**2) #+ f_C1(R[1:M-1],C1[1:M-1],C2[1:M-1])\n",
      "        dC2dt[m] = d_2*(C2[m+1] - 2*C2[m] + C2[m-1])/(h**2) #+ f_C2(R[1:M-1],C1[1:M-1],C2[1:M-1])\n",
      "    '''\n",
      "    '''\n",
      "       \n",
      "    #c. contorno: (Neumann para R e Dirichlet p/ Cs) - Lembre de mudar o grid de M para M+2!\n",
      "    \n",
      "    dRdt = np.zeros(M+2) #Os ddts nunca s\u00e3o calculados nas extremidades? Posso deixar como zero?\n",
      "    dC1dt = np.zeros(M+2)\n",
      "    dC2dt = np.zeros(M+2)\n",
      "    \n",
      "    R = y[0:M+2]\n",
      "    C1 = y[M+2:2*(M+2)]\n",
      "    C2 = y[2*(M+2):]\n",
      "    \n",
      "    R[0] = R[1]\n",
      "    C1[1] = 0\n",
      "    C2[1] = 0\n",
      "    \n",
      "    R[-1] = R[-2]\n",
      "    C1[-2] = 0\n",
      "    C2[-2] = 0\n",
      "            \n",
      "    dRdt[1:M+1] = d_r*(R[2:M+2] - 2*R[1:M+1] + R[0:M])/(h**2) + f_R(R[1:M+1],C1[1:M+1],C2[1:M+1])    \n",
      "        \n",
      "    dC1dt[2:M] = d_1*(C1[3:M+1] - 2*C1[2:M] + C1[1:M-1])/(h**2) + f_C1(R[2:M],C1[2:M],C2[2:M])\n",
      "    dC2dt[2:M] = d_2*(C2[3:M+1] - 2*C2[2:M] + C2[1:M-1])/(h**2) + f_C2(R[2:M],C1[2:M],C2[2:M])\n",
      "    '''\n",
      "\n",
      "    return np.r_[dRdt,dC1dt,dC2dt]"
     ],
     "language": "python",
     "metadata": {},
     "outputs": [],
     "prompt_number": 32
    },
    {
     "cell_type": "code",
     "collapsed": false,
     "input": [
      "#Fun\u00e7\u00f5es que calculam os mu_i, deduzidos pelo M\u00c9TODO VARIACIONAL, R, C1, C2 em Dirichlet\n",
      "def mu_1():\n",
      "    #R Difunde: R = B1*sin(x) \n",
      "    if d_r > 0:\n",
      "        return 3*(np.pi**2)*(1+d_r)*(m1+d_1)/32\n",
      "    \n",
      "    elif d_r == 0:\n",
      "        return 1*(m1+d_1)\n",
      "\n",
      "def mu_2():\n",
      "    #R Difunde: R = B1*sin(x) \n",
      "    if d_r > 0:\n",
      "        return (3*np.pi**2)*(m2 + d_2 - (m2/m1)*gamma*(m1+d_1))*(m1+d_1)/(32*beta*alpha) + (3*np.pi**2)*(1+d_r)*(m1+d_1)/32\n",
      "    \n",
      "    elif d_r == 0:\n",
      "        #mathematica\n",
      "        return ((d_1 + m1)*\n",
      "            (m1**2*(-3*(d_2 + m2)**2*np.pi**2*(-32 + 3*np.pi**2) + \n",
      "            32*(d_2 + m2)*np.pi**2*alpha*beta + 128*(-8 + np.pi**2)*alpha**2*beta**2) + \n",
      "            2*m1*(d_1 + m1)*m2*np.pi**2*(3*(d_2 + m2)*(-32 + 3*np.pi**2) - 16*alpha*beta)*gamma - \n",
      "            3*(d_1 + m1)**2*m2**2*np.pi**2*(-32 + 3*np.pi**2)*gamma**2))/(32.*m1*alpha*beta*(-(m1*(d_2 + m2)*(-32 + 3*np.pi**2)) + \n",
      "            4*m1*(-8 + np.pi**2)*alpha*beta + (d_1 + m1)*m2*(-32 + 3*np.pi**2)*gamma))\n",
      "\n",
      "def mu_3():\n",
      "    #R Difunde: R = B1*sin(x) \n",
      "    if d_r > 0:\n",
      "        return (3*np.pi**2)*(m2 + d_2)*((m2+d_2)/((m2/m1)*gamma) - m1 - d_1)/(32*(m2/m1)*gamma*alpha) + (3*np.pi**2)*(m2 + d_2)*(1+d_r)/(32*(m2/m1)*gamma)\n",
      "        \n",
      "    elif d_r == 0:\n",
      "        #mathematica\n",
      "        return (m1*(d_2 + m2)*(-3*m1**2*(d_2 + m2)**2*np.pi**2*(-32 + 3*np.pi**2) + \n",
      "            2*m1*m2*(d_2 + m2)*np.pi**2*(3*(d_1 + m1)*(-32 + 3*np.pi**2) + 16*alpha)*gamma -\n",
      "            m2**2*(3*(d_1 + m1)**2*np.pi**2*(-32 + 3*np.pi**2) + \n",
      "            32*(d_1 + m1)*np.pi**2*alpha - \n",
      "            128*(-8 + np.pi**2)*alpha**2)*gamma**2))/(32.*m2**2*alpha*gamma**2*(-(m1*(d_2 + m2)*(-32 + 3*np.pi**2)) + \n",
      "            m2*((d_1 + m1)*(-32 + 3*np.pi**2) + 4*(-8 + np.pi**2)*alpha)*gamma))\n",
      "\n",
      "def mu_4():\n",
      "    #R Difunde: R = B1*sin(x) \n",
      "    if d_r > 0:\n",
      "        return 3*(np.pi**2)*(1+d_r)*(m2+d_2)/(32*(m2/m1)*gamma)\n",
      "    \n",
      "    elif d_r == 0:\n",
      "        return 1*(m2+d_2)/((m2/m1)*gamma)"
     ],
     "language": "python",
     "metadata": {},
     "outputs": [],
     "prompt_number": 33
    },
    {
     "cell_type": "code",
     "collapsed": false,
     "input": [
      "#Calcula a estimativa do \"L Cr\u00edtico\" (?) a partir do m\u00e9todo variacional\n",
      "#Obs: Na verdade, \u00e9 o L' = L*sqrt(m_1)/pi\n",
      "def Lc():\n",
      "    return np.sqrt((D2/m2 - D1*gamma/m1)*1/(gamma - 1))\n",
      "    "
     ],
     "language": "python",
     "metadata": {},
     "outputs": [],
     "prompt_number": 34
    },
    {
     "cell_type": "code",
     "collapsed": false,
     "input": [
      "#Integre um caso aqui\n",
      "l = 3 + 0.12*6\n",
      "mu = 0.7 + 0.13*4\n",
      "m1 = 1.05\n",
      "m2 = 0.95\n",
      "gamma = 1.4\n",
      "alpha = 0.9\n",
      "beta = 0.9\n",
      "amplitude = 1\n",
      "D1 = 2.0\n",
      "D2 = 8.0\n",
      "DR = 0.0\n",
      "d_r = DR/l**2\n",
      "d_1 = D1/l**2\n",
      "d_2 = D2/l**2\n",
      "t = np.linspace(0,Tmax,N)\n",
      "#pop inicial\n",
      "R0,C10,C20 = init(M,amplitude)\n",
      "y0 = np.r_[R0,C10,C20]\n",
      "sol = scipy.integrate.odeint(ddt,y0,t) \n",
      "sol = np.array(sol)\n",
      "np.save('Method_Of_LinesIGP_amplitude=%d,l = %.3f,DR=%.3f,D1=%.3f,D2=%.3f,mu=%.3f,gamma=%.3f.npy'\n",
      "            % (amplitude,l,DR,D1,D2,mu,gamma),sol)"
     ],
     "language": "python",
     "metadata": {},
     "outputs": [],
     "prompt_number": 86
    },
    {
     "cell_type": "code",
     "collapsed": false,
     "input": [
      "#plot no espa\u00e7o\n",
      "l = 3 + 0.12*3\n",
      "mu = 0.7 + 0.13*4\n",
      "m1 = 1.05\n",
      "m2 = 0.95\n",
      "gamma = 1.4\n",
      "alpha = 0.9\n",
      "beta = 0.9\n",
      "amplitude = 10\n",
      "D1 = 2.0\n",
      "D2 = 8.0\n",
      "DR = 0.0\n",
      "\n",
      "sol = np.load('Method_Of_LinesIGP_amplitude=%d,l = %.3f,DR=%.3f,D1=%.3f,D2=%.3f,mu=%.3f,gamma=%.3f.npy'\n",
      "            % (amplitude,l,DR,D1,D2,mu,gamma))\n",
      "\n",
      "R = np.transpose(sol[:,0:M])\n",
      "C1 = np.transpose(sol[:,M:2*(M)])\n",
      "C2 = np.transpose(sol[:,2*(M):])\n",
      "x = np.linspace(0,np.pi,M)\n",
      "plt.plot(x,R[0:M,-20],color = 'green')\n",
      "plt.plot(x,C1[0:M,-20],color = 'blue')\n",
      "plt.plot(x,C2[0:M,-20],color = 'red')\n",
      "\n",
      "#plt.axis([0,np.pi,0,10])"
     ],
     "language": "python",
     "metadata": {},
     "outputs": [
      {
       "metadata": {},
       "output_type": "pyout",
       "prompt_number": 19,
       "text": [
        "[<matplotlib.lines.Line2D at 0x7f5efaedd290>]"
       ]
      },
      {
       "metadata": {},
       "output_type": "display_data",
       "png": "[encoded data removed]",
       "text": [
        "<matplotlib.figure.Figure at 0x7f5efb205710>"
       ]
      }
     ],
     "prompt_number": 19
    },
    {
     "cell_type": "code",
     "collapsed": false,
     "input": [
      "#maximo do patch no tempo (ver se a popula\u00e7\u00e3o est\u00e1 constante mesmo,por exemplo)\n",
      "#Integre um caso aqui\n",
      "\n",
      "#sol = np.load('Method_Of_LinesIGP_amplitude=%d,l=%.3f,DR=%.3f,D1=%.3f,D2=%.3f,mu=%.3f,gamma=%.3f,alpha=%.f,beta=%.f.npy'\n",
      "       # % (amplitude,l,DR,D1,D2,mu,gamma,alpha,beta))\n",
      "\n",
      "t = np.linspace(0,Tmax,N)\n",
      "R = np.transpose(sol[:,0:M])\n",
      "C1 = np.transpose(sol[:,M:2*M])\n",
      "C2 = np.transpose(sol[:,2*M:])\n",
      "\n",
      "plt.plot(t,np.amax(R[:,:],axis = 0),color = 'green')\n",
      "plt.plot(t,np.amax(C1[:,:],axis = 0),color = 'blue')\n",
      "plt.plot(t,np.amax(C2[:,:],axis =0),color = 'red')\n",
      "\n",
      "#plt.yscale(\"log\")\n",
      "\n",
      "print(np.max(C1[:,-1]))\n",
      "print(np.max(R[:,-1]))\n",
      "print(np.max(C2[:,-1]))\n",
      "\n",
      "plt.axis([0,5,0,30])"
     ],
     "language": "python",
     "metadata": {},
     "outputs": [
      {
       "output_type": "stream",
       "stream": "stdout",
       "text": [
        "0.0\n",
        "0.0\n",
        "0.0\n"
       ]
      },
      {
       "metadata": {},
       "output_type": "pyout",
       "prompt_number": 28,
       "text": [
        "[0, 5, 0, 30]"
       ]
      },
      {
       "metadata": {},
       "output_type": "display_data",
       "png": "[encoded data removed]",
       "text": [
        "<matplotlib.figure.Figure at 0x7f5efad1e890>"
       ]
      }
     ],
     "prompt_number": 28
    },
    {
     "cell_type": "code",
     "collapsed": false,
     "input": [
      "#Fa\u00e7a para v\u00e1rios dR, d1, d2, mu\n",
      "DR = []\n",
      "D1 = []\n",
      "D2 = []\n",
      "MU = [0.0 + i for i in range(0,140)]\n",
      "t = np.linspace(0,Tmax,N)\n",
      "m1 = 1.05\n",
      "m2 = 0.95\n",
      "gamma = 0.5\n",
      "alpha = 1\n",
      "beta = 1\n",
      "#pop inicial\n",
      "R0,C10,C20 = init(M)\n",
      "y0 = np.r_[R0,C10,C20]\n",
      "for d_r in DR:\n",
      "    print(\"d_r = \" + str(d_r))\n",
      "    for d_1 in D1:\n",
      "        print(\"d_1 = \" + str(d_1))\n",
      "        for d_2 in D2:\n",
      "            print(\"d_2 = \" + str(d_2))\n",
      "            for mu in MU:\n",
      "                print(\"mu = \" + str(mu))\n",
      "                sol = scipy.integrate.odeint(ddt,y0,t)\n",
      "                sol = np.array(sol)\n",
      "                np.save('Method_Of_LinesIGP_dR=%.3f,d1=%.3f,d2=%.3f,mu=%.3f,alpha=%.3f,gamma=%.3f,beta=%.f'\n",
      "                        % (d_r,d_1,d_2,mu,alpha,gamma,beta),sol)"
     ],
     "language": "python",
     "metadata": {},
     "outputs": [],
     "prompt_number": 7
    },
    {
     "cell_type": "code",
     "collapsed": false,
     "input": [
      "#Imprima a popula\u00e7\u00e3o final\n",
      "DR = [1]\n",
      "D1 = [5]\n",
      "D2 = [5]\n",
      "MU = [0.0 + i for i in range(0,140)]\n",
      "m = 1.0\n",
      "gamma = 0.5\n",
      "alpha = 1\n",
      "beta = 1\n",
      "phi = 1.0\n",
      "\n",
      "Rfinal = []\n",
      "C1final = []\n",
      "C2final = []\n",
      "t = np.linspace(0,Tmax,N)\n",
      "for d_r in DR:\n",
      "    for d_1 in D1:\n",
      "        for d_2 in D2:\n",
      "            for mu in MU:\n",
      "                sol = np.load('Method_Of_LinesIGP_dR=%.3f,d1=%.3f,d2=%.3f,mu=%.3f,alpha=%.3f,gamma=%.3f,beta=%.f.npy'\n",
      "                              % (d_r,d_1,d_2,mu,alpha,gamma,beta))\n",
      "                R = np.transpose(sol[:,0:M])\n",
      "                C1 = np.transpose(sol[:,M:2*M])\n",
      "                C2 = np.transpose(sol[:,2*M:])\n",
      "                Rfinal.append(R[M/2,-1])\n",
      "                C1final.append(C1[M/2,-1])\n",
      "                C2final.append(C2[M/2,-1])\n",
      "\n",
      "plt.plot(MU,Rfinal,color = 'green', label = r'$R$')\n",
      "plt.plot(MU,C1final,color = 'blue', label = r'$C_1$')\n",
      "plt.plot(MU,C2final,color = 'red', label = r'$C_2$')\n",
      "plt.xlabel(r\"$\\mu'$\")\n",
      "plt.legend(loc = 'upper left', prop={'size': 18})\n",
      "plt.title(r'Pop. Finais $d_R$=%.1f, $d_{C_1}$=%.1f, $d_{C_2}$=%.1f' % (d_r,d_1,d_2))\n",
      "plt.axis([0,140,0,20])\n",
      "#plt.axvline(x=mu_1(), color='black', linestyle='--')\n",
      "#plt.axvline(x=mu_2(), color='black', linestyle='--')\n",
      "#plt.axvline(x=mu_3(), color='black', linestyle='--')\n",
      "#print (mu_1(),mu_2(),mu_3())\n",
      "#plt.savefig('Method_Of_LinesIGP_dR=%.3f,d1=%.3f,d2=%.3f,mu=%.3f,alpha=%.3f,gamma=%.3f,beta=%.f,phi=%.3f,m=%.3f.png'\n",
      "                              #% (d_r,d_1,d_2,mu,alpha,gamma,beta,phi,m))"
     ],
     "language": "python",
     "metadata": {
      "scrolled": true
     },
     "outputs": [
      {
       "metadata": {},
       "output_type": "pyout",
       "prompt_number": 21,
       "text": [
        "[0, 140, 0, 20]"
       ]
      },
      {
       "metadata": {},
       "output_type": "display_data",
       "png": "[encoded data removed]",
       "text": [
        "<matplotlib.figure.Figure at 0x7f2eacd76a90>"
       ]
      }
     ],
     "prompt_number": 21
    },
    {
     "cell_type": "heading",
     "level": 1,
     "metadata": {},
     "source": [
      "R = np.transpose(sol[:,0:M]) np.shape(R)"
     ]
    },
    {
     "cell_type": "code",
     "collapsed": false,
     "input": [],
     "language": "python",
     "metadata": {},
     "outputs": [],
     "prompt_number": 5
    },
    {
     "cell_type": "code",
     "collapsed": false,
     "input": [
      "#Gera os dados para fazer o gr\u00e1fico L x mu\n",
      "Nl = 10 #N\u00famero de pontos de L\n",
      "Nmu = 10 #N\u00famero de pontos de MU\n",
      "L = [3 + 0.12*j for j in range(0,Nl)]\n",
      "MU = [0.7 + 0.13*i for i in range(0,Nmu)]\n",
      "t = np.linspace(0,Tmax,N)\n",
      "m1 = 1.05\n",
      "m2 = 0.95\n",
      "gamma = 1.4\n",
      "alpha = 0.9\n",
      "beta = 0.9\n",
      "amplitude = 10\n",
      "\n",
      "D = [[2,8,0]]\n",
      "for d in D:\n",
      "    print(\"D = \" + str(d))\n",
      "    D1,D2,DR = d[0],d[1],d[2]\n",
      "    for l in L:\n",
      "        d_1 = D1/(l**2) #O Numerador \u00e9 o D do modelo antes de adimensionalizar!\n",
      "        d_2 = D2/(l**2)\n",
      "        d_r = DR/(l**2)\n",
      "        for mu in MU:\n",
      "            #pop inicial\n",
      "            R0,C10,C20 = init(M,amplitude)\n",
      "            y0 = np.r_[R0,C10,C20]\n",
      "            sol = scipy.integrate.odeint(ddt,y0,t)\n",
      "            sol = np.array(sol)\n",
      "            np.save('Method_Of_LinesIGP_amplitude=%d,l = %.3f,DR=%.3f,D1=%.3f,D2=%.3f,mu=%.3f,gamma=%.3f'\n",
      "                    % (amplitude,l,DR,D1,D2,mu,gamma),sol)"
     ],
     "language": "python",
     "metadata": {},
     "outputs": [
      {
       "output_type": "stream",
       "stream": "stdout",
       "text": [
        "D = [2, 8, 0]\n"
       ]
      }
     ],
     "prompt_number": 38
    },
    {
     "cell_type": "code",
     "collapsed": false,
     "input": [
      "#faz o gr\u00e1fico L x mu\n",
      "#Parte 1) Leia os dados, pegue o maximo das densidades no instante final\n",
      "Nl = 10 #N\u00famero de pontos de L\n",
      "Nmu = 10 #N\u00famero de pontos de MU\n",
      "\n",
      "L = [3 + 0.12*j for j in range(0,Nl)]\n",
      "MU = [0.7 + 0.13*i for i in range(0,Nmu)]\n",
      "t = np.linspace(0,Tmax,N)\n",
      "m1 = 1.05\n",
      "m2 = 0.95\n",
      "gamma = 1.4\n",
      "alpha = 0.9\n",
      "beta = 0.9\n",
      "amplitude = 10\n",
      "\n",
      "Rfinal = np.zeros((Nl,Nmu))\n",
      "C1final = np.zeros((Nl,Nmu))\n",
      "C2final = np.zeros((Nl,Nmu))\n",
      "\n",
      "#escolha os Ds\n",
      "D1 = 2.0\n",
      "D2 = 8.0\n",
      "DR = 0.0\n",
      "\n",
      "for i in range (0,Nl):\n",
      "    print(\"l = \" + str(L[i]))\n",
      "    for j in range(0,Nmu):\n",
      "        sol = np.load('Method_Of_LinesIGP_amplitude=%d,l = %.3f,DR=%.3f,D1=%.3f,D2=%.3f,mu=%.3f,gamma=%.3f.npy'\n",
      "                              % (amplitude,L[i],DR,D1,D2,MU[j],gamma))\n",
      "        R = np.transpose(sol[:,0:M])\n",
      "        C1 = np.transpose(sol[:,M:2*M])\n",
      "        C2 = np.transpose(sol[:,2*M:])\n",
      "        Rfinal[i,j] = np.max(R[:,-1],axis=0)\n",
      "        C1final[i,j] = np.max(C1[:,-1],axis=0)\n",
      "        C2final[i,j] = np.max(C2[:,-1],axis=0)"
     ],
     "language": "python",
     "metadata": {},
     "outputs": [
      {
       "output_type": "stream",
       "stream": "stdout",
       "text": [
        "l = 3.0\n",
        "l = 3.12"
       ]
      },
      {
       "output_type": "stream",
       "stream": "stdout",
       "text": [
        "\n",
        "l = 3.24"
       ]
      },
      {
       "output_type": "stream",
       "stream": "stdout",
       "text": [
        "\n",
        "l = 3.36"
       ]
      },
      {
       "output_type": "stream",
       "stream": "stdout",
       "text": [
        "\n",
        "l = 3.48"
       ]
      },
      {
       "output_type": "stream",
       "stream": "stdout",
       "text": [
        "\n",
        "l = 3.6"
       ]
      },
      {
       "output_type": "stream",
       "stream": "stdout",
       "text": [
        "\n",
        "l = 3.72"
       ]
      },
      {
       "output_type": "stream",
       "stream": "stdout",
       "text": [
        "\n",
        "l = 3.84"
       ]
      },
      {
       "output_type": "stream",
       "stream": "stdout",
       "text": [
        "\n",
        "l = 3.96"
       ]
      },
      {
       "output_type": "stream",
       "stream": "stdout",
       "text": [
        "\n",
        "l = 4.08"
       ]
      },
      {
       "output_type": "stream",
       "stream": "stdout",
       "text": [
        "\n"
       ]
      }
     ],
     "prompt_number": 41
    },
    {
     "cell_type": "code",
     "collapsed": false,
     "input": [
      "#faz o gr\u00e1fico L x mu\n",
      "#Parte 2) Verifique onde as popula\u00e7\u00f5es sobrevivem e plote!\n",
      "epsilon = 10E-5\n",
      "#L = [1.0 + 0.12*j for j in range(0,Nl)] gamma < 1\n",
      "L = [3 + 0.12*j for j in range(0,Nl)]\n",
      "MU = [0.7 + 0.13*i for i in range(0,Nmu)]\n",
      "MU1 = np.zeros(Nl)\n",
      "MU2 = np.zeros(Nl)\n",
      "MU3 = np.zeros(Nl)\n",
      "MU4 = np.zeros(Nl)\n",
      "\n",
      "#ax = plt.subplots(figsize=(8, 8))\n",
      "\n",
      "for i in range (0,Nl):\n",
      "    d_1 = D1/(L[i]**2)\n",
      "    d_2 = D2/(L[i]**2)\n",
      "    d_r = DR/(L[i]**2)\n",
      "    #mus determinado pelo m\u00e9todo variacional\n",
      "    MU1[i] = mu_1()\n",
      "    MU2[i] = mu_2()\n",
      "    MU3[i] = mu_3()\n",
      "    MU4[i] = mu_4()\n",
      "\n",
      "    for j in range(0,Nmu):\n",
      "        if Rfinal[i,j] > epsilon:\n",
      "            if C1final[i,j] > epsilon:\n",
      "                if C2final[i,j] > epsilon:\n",
      "                    plt.scatter(MU[j],L[i],marker = 's',color = 'purple') #coexist\u00eancia\n",
      "                else:\n",
      "                    plt.scatter(MU[j],L[i],marker = 's',color = 'deepskyblue') #R, C1\n",
      "            elif C2final[i,j] > epsilon:\n",
      "                plt.scatter(MU[j],L[i],marker = 's',color = 'gold') #R,C2\n",
      "            else:\n",
      "                plt.scatter(MU[j],L[i],marker = 's',color = 'darkgreen') #R\n",
      "        else:\n",
      "            plt.scatter(MU[j],L[i],marker = 's',color = 'black') #No one\n",
      "\n",
      "#Mu_i's\n",
      "if gamma < 1 and (D2/m2 - D1*gamma/m1)*1/(gamma - 1) > 0: #Coexist\u00eancia se L > Lc\n",
      "    newL = [L[i] for i in range(0,Nl) if L[i] < Lc()]\n",
      "    plt.plot(MU1[len(newL):],L[len(newL):],color = 'magenta')\n",
      "    plt.plot(MU2[len(newL):],L[len(newL):],color = 'orange')\n",
      "    plt.plot(MU3[len(newL):],L[len(newL):],color = 'black')\n",
      "    plt.plot(MU4[0:len(newL)],newL,color = 'red')\n",
      "    \n",
      "elif gamma < 1:\n",
      "    plt.plot(MU1,L,color = 'blue')\n",
      "    plt.plot(MU2,L,color = 'magenta')\n",
      "    plt.plot(MU3,L,color = 'black')\n",
      "    \n",
      "elif gamma > 1 and (D2/m2 - D1*gamma/m1)*1/(gamma - 1) > 0: #Coexist\u00eancia se L < Lc\n",
      "    newL = [L[i] for i in range(0,Nl) if L[i] < Lc()]\n",
      "    plt.plot(MU1[0:len(newL)],newL,color = 'magenta')\n",
      "    plt.plot(MU2[0:len(newL)],newL,color = 'orange')\n",
      "    plt.plot(MU3[0:len(newL)],newL,color = 'black')\n",
      "    plt.plot(MU4[len(newL):],L[len(newL):],color = 'red')\n",
      "    \n",
      "elif gamma > 1:\n",
      "    plt.plot(MU4,L,color = 'red')\n",
      "\n",
      "#Lc\n",
      "\n",
      "plt.axhline(y=Lc(), color='black', linestyle='--')\n",
      "\n",
      "\n",
      "'''\n",
      "d_1 = D1/(Lc()**2)\n",
      "d_2 = D2/(Lc()**2)\n",
      "d_r = DR/(Lc()**2)\n",
      "plt.axvline(x=mu_4(), color='black', linestyle='--')\n",
      "'''\n",
      "\n",
      "\n",
      "\n",
      "print (Lc(),mu_1(),mu_2(),mu_3(),mu_4())\n",
      "\n",
      "#plt.axis([0.7,2,3,4.1]) #Lembrar: gamma = 0.5 -> L [0.8,2.0] mu [0,25]. gamma = 1.5 -> L [1.5,2.7] mu [0,12.5]\n",
      "plt.xlabel(r\"$\\mu'$\")\n",
      "plt.ylabel(r\"$L'$\")\n",
      "#plt.title(r\"$D_R = %.0f,D_1 = %.0f,D_2 = %.0f,\\gamma = %.1f$\" %(DR, D1, D2, gamma))\n",
      "#plt.savefig(\"Plots/g%dD1%dDR%d.png\" %(gamma*10,D1,DR))\n",
      "\n",
      "#ENTENDER MELHOR O EFEITO DAS CONDI\u00c7\u00d5ES INICIAIS"
     ],
     "language": "python",
     "metadata": {},
     "outputs": [
      {
       "output_type": "stream",
       "stream": "stdout",
       "text": [
        "(3.7928834561953924, 1.1701460976547482, 1.095486674113639, 1.0782313651288262, 1.129408729436047)\n"
       ]
      },
      {
       "metadata": {},
       "output_type": "pyout",
       "prompt_number": 42,
       "text": [
        "<matplotlib.text.Text at 0x7f5efa6396d0>"
       ]
      },
      {
       "metadata": {},
       "output_type": "display_data",
       "png": "[encoded data removed]",
       "text": [
        "<matplotlib.figure.Figure at 0x7f5efac95410>"
       ]
      }
     ],
     "prompt_number": 42
    },
    {
     "cell_type": "code",
     "collapsed": false,
     "input": [
      "#Oscila\u00e7\u00f5es x L\n",
      "#Gera os dados para fazer o gr\u00e1fico L x mu\n",
      "#L' = sqrt(m1)*(L/pi)\n",
      "Nl = 10\n",
      "L = [0.5 + 0.0125*j for j in range(0,Nl)]\n",
      "mu = 15\n",
      "t = np.linspace(0,Tmax,N)\n",
      "m = 1.0\n",
      "gamma = 0.5\n",
      "alpha = 1\n",
      "beta = 8\n",
      "phi = 1.0\n",
      "D = [[1.0,5.0,0.0]]\n",
      "for d in D:\n",
      "    print(\"D = \" + str(d))\n",
      "    D1,D2,DR = d[0],d[1],d[2]\n",
      "    for l in L:\n",
      "        d_1 = D1/(l**2) #O Numerador \u00e9 o D do modelo antes de adimensionalizar!\n",
      "        d_2 = D2/(l**2)\n",
      "        d_r = DR/(l**2)\n",
      "        \n",
      "        R0,C10,C20 = init(M)\n",
      "        y0 = np.r_[R0,C10,C20]\n",
      "        \n",
      "        sol = scipy.integrate.odeint(ddt,y0,t)\n",
      "        sol = np.array(sol)\n",
      "        np.save('Method_Of_LinesIGP_l = %.3f,DR=%.3f,D1=%.3f,D2=%.3f,mu=%.3f,gamma=%.3f,beta =%.3f'\n",
      "                % (l,DR,D1,D2,mu,gamma,beta),sol)"
     ],
     "language": "python",
     "metadata": {},
     "outputs": [
      {
       "output_type": "stream",
       "stream": "stdout",
       "text": [
        "D = [1.0, 5.0, 0.0]\n"
       ]
      }
     ],
     "prompt_number": 10
    },
    {
     "cell_type": "code",
     "collapsed": false,
     "input": [
      "#Leia os dados e gere o gr\u00e1fico Pop x L\n",
      "Nl = 100\n",
      "L = [0.5 + 0.0125*j for j in range(0,Nl)]\n",
      "mu = 15\n",
      "t = np.linspace(0,Tmax,N)\n",
      "m = 1.0\n",
      "gamma = 0.5\n",
      "alpha = 1\n",
      "beta = 8\n",
      "phi = 1.0\n",
      "D = [[1.0,5.0,0.0]]\n",
      "\n",
      "RMAX = []\n",
      "RMIN = []\n",
      "C1MAX = []\n",
      "C1MIN = []\n",
      "C2MAX = []\n",
      "C2MIN = []\n",
      "\n",
      "for d in D:\n",
      "    print(\"D = \" + str(d))\n",
      "    D1,D2,DR = d[0],d[1],d[2]\n",
      "    for l in L:\n",
      "        sol = np.load('Method_Of_LinesIGP_l = %.3f,DR=%.3f,D1=%.3f,D2=%.3f,mu=%.3f,gamma=%.3f,beta =%.3f.npy'\n",
      "                % (l,DR,D1,D2,mu,gamma,beta))\n",
      "        R = np.transpose(sol[:,0:M])\n",
      "        C1 = np.transpose(sol[:,M:2*M])\n",
      "        C2 = np.transpose(sol[:,2*M:])\n",
      "        RMAX.append(np.max(R[M/2,-500:]))\n",
      "        RMIN.append(np.min(R[M/2,-500:]))\n",
      "        C1MAX.append(np.max(C1[M/2,-500:]))\n",
      "        C1MIN.append(np.min(C1[M/2,-500:]))\n",
      "        C2MAX.append(np.max(C2[M/2,-500:]))\n",
      "        C2MIN.append(np.min(C2[M/2,-500:]))\n",
      "\n",
      "plt.plot(L,RMAX,color = 'green',marker = '.',linestyle = \"None\")\n",
      "plt.plot(L,RMIN,color = 'green',marker = '.',linestyle = \"None\")\n",
      "plt.plot(L,C1MAX,color = 'blue',marker = '.',linestyle = \"None\")\n",
      "plt.plot(L,C1MIN,color = 'blue',marker = '.',linestyle = \"None\")\n",
      "plt.plot(L,C2MAX,color = 'red',marker = '.',linestyle = \"None\")\n",
      "plt.plot(L,C2MIN,color = 'red',marker = '.',linestyle = \"None\")"
     ],
     "language": "python",
     "metadata": {},
     "outputs": [
      {
       "output_type": "stream",
       "stream": "stdout",
       "text": [
        "D = [1.0, 5.0, 0.0]\n"
       ]
      },
      {
       "metadata": {},
       "output_type": "pyout",
       "prompt_number": 29,
       "text": [
        "[<matplotlib.lines.Line2D at 0x7fc6fc6029d0>]"
       ]
      },
      {
       "metadata": {},
       "output_type": "display_data",
       "png": "[encoded data removed]",
       "text": [
        "<matplotlib.figure.Figure at 0x7fc6fcd29450>"
       ]
      }
     ],
     "prompt_number": 29
    },
    {
     "cell_type": "code",
     "collapsed": false,
     "input": [
      "#Em busca de resson\u00e2ncias (24/04/2018)\n",
      "l = 0.5 + 35*0.0125\n",
      "mu = 15\n",
      "t = np.linspace(0,Tmax,N)\n",
      "m = 1.0\n",
      "gamma = 0.5\n",
      "beta = 8\n",
      "phi = 1.0\n",
      "D = [[1.0,5.0,0.0]]\n",
      "ALPHA = [0.0 + 0.1*j for j in range(0,31)]\n",
      "for d in D:\n",
      "    print(\"D = \" + str(d))\n",
      "    D1,D2,DR = d[0],d[1],d[2]\n",
      "    d_1 = D1/(l**2) #O Numerador \u00e9 o D do modelo antes de adimensionalizar!\n",
      "    d_2 = D2/(l**2)\n",
      "    d_r = DR/(l**2)\n",
      "    for a in ALPHA:\n",
      "        alpha = a\n",
      "        \n",
      "        R0,C10,C20 = init(M)\n",
      "        y0 = np.r_[R0,C10,C20]\n",
      "        \n",
      "        sol = scipy.integrate.odeint(ddt,y0,t)\n",
      "        sol = np.array(sol)\n",
      "        #introduzindo mais um par\u00e2metro!\n",
      "        np.save('Method_Of_LinesIGP_l = %.3f,DR=%.3f,D1=%.3f,D2=%.3f,mu=%.3f,gamma=%.3f,beta =%.3f,alpha=%3f'\n",
      "                % (l,DR,D1,D2,mu,gamma,beta,alpha),sol)"
     ],
     "language": "python",
     "metadata": {},
     "outputs": [
      {
       "output_type": "stream",
       "stream": "stdout",
       "text": [
        "D = [1.0, 5.0, 0.0]\n"
       ]
      }
     ],
     "prompt_number": 7
    },
    {
     "cell_type": "code",
     "collapsed": false,
     "input": [
      "m1 = 0.95\n",
      "m2 = 1.05\n",
      "gamma = 1.4\n",
      "\n",
      "#escolha os Ds\n",
      "D1 = 2.0\n",
      "D2 = 8.0\n",
      "DR = 1.0\n",
      "\n",
      "d_1 = D1/(Lc()**2)\n",
      "d_2 = D2/(Lc()**2)\n",
      "d_r = DR/(Lc()**2)\n",
      "\n",
      "print(mu_4())\n",
      "print((D2/m2 - D1*gamma/m1)*1/(gamma - 1))"
     ],
     "language": "python",
     "metadata": {},
     "outputs": [
      {
       "output_type": "stream",
       "stream": "stdout",
       "text": [
        "1.12628982999\n",
        "11.679197995\n"
       ]
      }
     ],
     "prompt_number": 10
    },
    {
     "cell_type": "code",
     "collapsed": false,
     "input": [],
     "language": "python",
     "metadata": {},
     "outputs": [],
     "prompt_number": null
    },
    {
     "cell_type": "code",
     "collapsed": false,
     "input": [],
     "language": "python",
     "metadata": {},
     "outputs": [],
     "prompt_number": null
    }
   ],
   "metadata": {}
  }
 ]
}
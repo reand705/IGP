{
 "metadata": {
  "kernelspec": {
   "display_name": "Python 2",
   "language": "python",
   "name": "python2"
  },
  "language_info": {
   "codemirror_mode": {
    "name": "ipython",
    "version": 2
   },
   "file_extension": ".py",
   "mimetype": "text/x-python",
   "name": "python",
   "nbconvert_exporter": "python",
   "pygments_lexer": "ipython2",
   "version": "2.7.12"
  },
  "name": "",
  "signature": "sha256:b77385e0077bc5ec4b152b33074d148e2d0e066c02d746f407f57d204f61f2e2"
 },
 "nbformat": 3,
 "nbformat_minor": 0,
 "worksheets": [
  {
   "cells": [
    {
     "cell_type": "code",
     "collapsed": false,
     "input": [
      "# -*- coding: utf-8 -*-\n",
      "# <nbformat>3.0</nbformat>\n",
      "\n",
      "# <codecell>\n",
      "\n",
      "# coding: utf-8\n",
      "%matplotlib inline\n",
      "import matplotlib\n",
      "import scipy.integrate\n",
      "from scipy.stats import norm\n",
      "import numpy as np\n",
      "import matplotlib.pyplot as plt\n",
      "from matplotlib import rc ## desnecess\u00e1rio\n",
      "matplotlib.rcParams['text.usetex'] = True\n",
      "matplotlib.rcParams.update({'font.size': 18})\n",
      "\n",
      "plt.figure(figsize=(10,8))\n",
      "\n",
      "#Discretiza\u00e7\u00e3o\n",
      "M = 101 #espa\u00e7o\n",
      "N = 4000 #tempo\n",
      "Tmax = 400.0"
     ],
     "language": "python",
     "metadata": {},
     "outputs": [
      {
       "metadata": {},
       "output_type": "display_data",
       "text": [
        "<matplotlib.figure.Figure at 0x7fa114192550>"
       ]
      }
     ],
     "prompt_number": 1
    },
    {
     "cell_type": "code",
     "collapsed": false,
     "input": [
      "#Imprima os diagramas de bifurca\u00e7\u00e3o que compara a integra\u00e7\u00e3o n\u00famerica direta da EDP com as EDOs do m\u00e9todo variacional\n",
      "#Aten\u00e7\u00e3o para os nomes dos arquivos\n",
      "\n",
      "plt.figure(figsize=(10,8))\n",
      "Nlvar = 100\n",
      "Nlnum = 100\n",
      "Lvar = [0.5 + 0.0125*j for j in range(0,Nlvar)]\n",
      "Lnum = [0.5 + 0.0125*j for j in range(0,Nlnum)]\n",
      "\n",
      "mu = 15\n",
      "t = np.linspace(0,Tmax,N)\n",
      "m = 1.0\n",
      "gamma = 0.5\n",
      "alpha = 1\n",
      "beta = 8\n",
      "phi = 1.0\n",
      "D = [[1.0,5.0,1.0]]\n",
      "\n",
      "#Variacional\n",
      "\n",
      "#Third order\n",
      "\n",
      "U1U2MAX = []\n",
      "U1U2MIN = []\n",
      "U3U4MAX = []\n",
      "U3U4MIN = []\n",
      "U5U6MAX = []\n",
      "U5U6MIN = []\n",
      "\n",
      "for d in D:\n",
      "    print(\"D = \" + str(d))\n",
      "    D1,D2,DR = d[0],d[1],d[2]\n",
      "    for l in L:\n",
      "        \n",
      "        sol = np.load('Var_Method_IGP3_l = %.3f,DR=%.3f,D1=%.3f,D2=%.3f,mu=%.3f,gamma=%.3f,beta =%.3f.npy'\n",
      "                % (l,DR,D1,D2,mu,gamma,beta))\n",
      "                \n",
      "        \n",
      "        if DR > 0:\n",
      "            \n",
      "            U1 = sol[:,0]\n",
      "            U2 = sol[:,1]\n",
      "            U3 = sol[:,2]\n",
      "            U4 = sol[:,3]\n",
      "            U5 = sol[:,4]\n",
      "            U6 = sol[:,5]\n",
      "            U1U2MAX.append(np.max(U1[-1000:] - U2[-1000:]))\n",
      "            U1U2MIN.append(np.min(U1[-1000:] - U2[-1000:]))\n",
      "            U3U4MAX.append(np.max(U3[-1000:] - U4[-1000:]))\n",
      "            U3U4MIN.append(np.min(U3[-1000:] - U4[-1000:]))\n",
      "            U5U6MAX.append(np.max(U5[-1000:] - U6[-1000:]))\n",
      "            U5U6MIN.append(np.min(U5[-1000:] - U6[-1000:]))\n",
      "\n",
      "plt.plot(L,U1U2MAX,color = 'lime')\n",
      "plt.plot(L,U1U2MIN,color = 'lime')\n",
      "plt.plot(L,U3U4MAX,color = 'deepskyblue')\n",
      "plt.plot(L,U3U4MIN,color = 'deepskyblue')\n",
      "plt.plot(L,U5U6MAX,color = 'red')\n",
      "plt.plot(L,U5U6MIN,color = 'red')\n",
      "            \n",
      "\n",
      "'''\n",
      "\n",
      "#First order\n",
      "\n",
      "B1B2MAX = []\n",
      "B1B2MIN = []\n",
      "A1MAX = []\n",
      "A1MIN = []\n",
      "A2MAX = []\n",
      "A2MIN = []\n",
      "\n",
      "for d in D:\n",
      "    print(\"D = \" + str(d))\n",
      "    D1,D2,DR = d[0],d[1],d[2]\n",
      "    for l in Lvar:\n",
      "        sol = np.load('Var_Method_IGP_l = %.3f,DR=%.3f,D1=%.3f,D2=%.3f,mu=%.3f,gamma=%.3f,beta =%.3f.npy'\n",
      "                % (l,DR,D1,D2,mu,gamma,beta))\n",
      "        \n",
      "        if DR > 0:\n",
      "            B1B2 = sol[:,0]\n",
      "            A1 = sol[:,1]\n",
      "            A2 = sol[:,2]\n",
      "            B1B2MAX.append(np.max(B1B2[-500:]))\n",
      "            B1B2MIN.append(np.min(B1B2[-500:]))\n",
      "            A1MAX.append(np.max(A1[-500:]))\n",
      "            A1MIN.append(np.min(A1[-500:]))\n",
      "            A2MAX.append(np.max(A2[-500:]))\n",
      "            A2MIN.append(np.min(A2[-500:]))\n",
      "        \n",
      "        if DR == 0:\n",
      "            B1 = sol[:,0]\n",
      "            B2 = sol[:,1]            \n",
      "            A1 = sol[:,2]\n",
      "            A2 = sol[:,3]\n",
      "            B1B2MAX.append(np.max(B1[-500:]-B2[-500:]))\n",
      "            B1B2MIN.append(np.min(B1[-500:]-B2[-500:]))\n",
      "            A1MAX.append(np.max(A1[-500:]))\n",
      "            A1MIN.append(np.min(A1[-500:]))\n",
      "            A2MAX.append(np.max(A2[-500:]))\n",
      "            A2MIN.append(np.min(A2[-500:]))\n",
      "\n",
      "plt.plot(Lvar,B1B2MAX,color = 'lime')\n",
      "plt.plot(Lvar,B1B2MIN,color = 'lime')\n",
      "plt.plot(Lvar,A1MAX,color = 'deepskyblue')\n",
      "plt.plot(Lvar,A1MIN,color = 'deepskyblue')\n",
      "plt.plot(Lvar,A2MAX,color = 'red')\n",
      "plt.plot(Lvar,A2MIN,color = 'red')\n",
      "\n",
      "'''\n",
      "\n",
      "'''\n",
      "\n",
      "#Integra\u00e7\u00e3o num\u00e9rica\n",
      "RMAX = []\n",
      "RMIN = []\n",
      "C1MAX = []\n",
      "C1MIN = []\n",
      "C2MAX = []\n",
      "C2MIN = []\n",
      "\n",
      "for d in D:\n",
      "    print(\"D = \" + str(d))\n",
      "    D1,D2,DR = d[0],d[1],d[2]\n",
      "    for l in Lnum:\n",
      "        sol = np.load('Method_Of_LinesIGP_l = %.3f,DR=%.3f,D1=%.3f,D2=%.3f,mu=%.3f,gamma=%.3f,beta =%.3f.npy'\n",
      "                % (l,DR,D1,D2,mu,gamma,beta))\n",
      "        R = np.transpose(sol[:,0:M])\n",
      "        C1 = np.transpose(sol[:,M:2*M])\n",
      "        C2 = np.transpose(sol[:,2*M:])\n",
      "        RMAX.append(np.max(R[M/2,-500:]))\n",
      "        RMIN.append(np.min(R[M/2,-500:]))\n",
      "        C1MAX.append(np.max(C1[M/2,-500:]))\n",
      "        C1MIN.append(np.min(C1[M/2,-500:]))\n",
      "        C2MAX.append(np.max(C2[M/2,-500:]))\n",
      "        C2MIN.append(np.min(C2[M/2,-500:]))\n",
      "\n",
      "plt.plot(Lnum,RMAX,color = 'lime',marker = '.',linestyle = \"None\")\n",
      "plt.plot(Lnum,RMIN,color = 'lime',marker = '.',linestyle = \"None\")\n",
      "plt.plot(Lnum,C1MAX,color = 'deepskyblue',marker = '.',linestyle = \"None\")\n",
      "plt.plot(Lnum,C1MIN,color = 'deepskyblue',marker = '.',linestyle = \"None\")\n",
      "plt.plot(Lnum,C2MAX,color = 'red',marker = '.',linestyle = \"None\")\n",
      "plt.plot(Lnum,C2MIN,color = 'red',marker = '.',linestyle = \"None\") #Commais pontos talvez voc\u00ea possa colocar linestyle = \"None\"\n",
      "\n",
      "'''\n",
      "\n",
      "plt.xlabel(r\"$L'$\")\n",
      "plt.title(r\"Pop. centro do patch x $L'$\")"
     ],
     "language": "python",
     "metadata": {},
     "outputs": [
      {
       "output_type": "stream",
       "stream": "stdout",
       "text": [
        "D = [1.0, 5.0, 1.0]\n"
       ]
      },
      {
       "ename": "IOError",
       "evalue": "[Errno 2] No such file or directory: 'Var_Method_IGP_l = 0.500,DR=1.000,D1=1.000,D2=5.000,mu=15.000,gamma=0.500,beta =8.000.npy'",
       "output_type": "pyerr",
       "traceback": [
        "\u001b[0;31m---------------------------------------------------------------------------\u001b[0m\n\u001b[0;31mIOError\u001b[0m                                   Traceback (most recent call last)",
        "\u001b[0;32m<ipython-input-2-3f549e490bb1>\u001b[0m in \u001b[0;36m<module>\u001b[0;34m()\u001b[0m\n\u001b[1;32m     31\u001b[0m     \u001b[0;32mfor\u001b[0m \u001b[0ml\u001b[0m \u001b[0;32min\u001b[0m \u001b[0mLvar\u001b[0m\u001b[0;34m:\u001b[0m\u001b[0;34m\u001b[0m\u001b[0m\n\u001b[1;32m     32\u001b[0m         sol = np.load('Var_Method_IGP_l = %.3f,DR=%.3f,D1=%.3f,D2=%.3f,mu=%.3f,gamma=%.3f,beta =%.3f.npy'\n\u001b[0;32m---> 33\u001b[0;31m                 % (l,DR,D1,D2,mu,gamma,beta))\n\u001b[0m\u001b[1;32m     34\u001b[0m \u001b[0;34m\u001b[0m\u001b[0m\n\u001b[1;32m     35\u001b[0m         \u001b[0;32mif\u001b[0m \u001b[0mDR\u001b[0m \u001b[0;34m>\u001b[0m \u001b[0;36m0\u001b[0m\u001b[0;34m:\u001b[0m\u001b[0;34m\u001b[0m\u001b[0m\n",
        "\u001b[0;32m/usr/lib/python2.7/dist-packages/numpy/lib/npyio.pyc\u001b[0m in \u001b[0;36mload\u001b[0;34m(file, mmap_mode, allow_pickle, fix_imports, encoding)\u001b[0m\n\u001b[1;32m    360\u001b[0m     \u001b[0mown_fid\u001b[0m \u001b[0;34m=\u001b[0m \u001b[0mFalse\u001b[0m\u001b[0;34m\u001b[0m\u001b[0m\n\u001b[1;32m    361\u001b[0m     \u001b[0;32mif\u001b[0m \u001b[0misinstance\u001b[0m\u001b[0;34m(\u001b[0m\u001b[0mfile\u001b[0m\u001b[0;34m,\u001b[0m \u001b[0mbasestring\u001b[0m\u001b[0;34m)\u001b[0m\u001b[0;34m:\u001b[0m\u001b[0;34m\u001b[0m\u001b[0m\n\u001b[0;32m--> 362\u001b[0;31m         \u001b[0mfid\u001b[0m \u001b[0;34m=\u001b[0m \u001b[0mopen\u001b[0m\u001b[0;34m(\u001b[0m\u001b[0mfile\u001b[0m\u001b[0;34m,\u001b[0m \u001b[0;34m\"rb\"\u001b[0m\u001b[0;34m)\u001b[0m\u001b[0;34m\u001b[0m\u001b[0m\n\u001b[0m\u001b[1;32m    363\u001b[0m         \u001b[0mown_fid\u001b[0m \u001b[0;34m=\u001b[0m \u001b[0mTrue\u001b[0m\u001b[0;34m\u001b[0m\u001b[0m\n\u001b[1;32m    364\u001b[0m     \u001b[0;32melse\u001b[0m\u001b[0;34m:\u001b[0m\u001b[0;34m\u001b[0m\u001b[0m\n",
        "\u001b[0;31mIOError\u001b[0m: [Errno 2] No such file or directory: 'Var_Method_IGP_l = 0.500,DR=1.000,D1=1.000,D2=5.000,mu=15.000,gamma=0.500,beta =8.000.npy'"
       ]
      },
      {
       "metadata": {},
       "output_type": "display_data",
       "text": [
        "<matplotlib.figure.Figure at 0x7fa0e669af50>"
       ]
      }
     ],
     "prompt_number": 2
    },
    {
     "cell_type": "code",
     "collapsed": false,
     "input": [],
     "language": "python",
     "metadata": {},
     "outputs": [],
     "prompt_number": null
    },
    {
     "cell_type": "code",
     "collapsed": false,
     "input": [
      "plt.figure(figsize=(10,8))\n",
      "plt.plot(DN,maxv, marker = '.', linestyle=\"None\", color = (DP[i], DP[i], DP[i]*10), label = DP[i])"
     ],
     "language": "python",
     "metadata": {},
     "outputs": [
      {
       "metadata": {},
       "output_type": "pyout",
       "prompt_number": 34,
       "text": [
        "[<matplotlib.lines.Line2D at 0x7f9c8bd2d250>]"
       ]
      },
      {
       "metadata": {},
       "output_type": "display_data",
       "png": "[encoded data removed]",
       "text": [
        "<matplotlib.figure.Figure at 0x7f9c8bdb5790>"
       ]
      }
     ],
     "prompt_number": 34
    }
   ],
   "metadata": {}
  }
 ]
}